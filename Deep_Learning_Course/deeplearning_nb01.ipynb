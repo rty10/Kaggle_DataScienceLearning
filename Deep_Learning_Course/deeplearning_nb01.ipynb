{
 "cells": [
  {
   "cell_type": "code",
   "execution_count": 5,
   "id": "a4f2a39b-f2a0-426e-85a5-f6bf0a581aa1",
   "metadata": {},
   "outputs": [],
   "source": [
    "import os\n",
    "import pandas as pd\n",
    "import numpy as np\n",
    "\n",
    "from tensorflow import keras\n",
    "#from tensorflow.keras import keras\n",
    "from keras import layers\n",
    "\n",
    "datapath = os.getcwd()+'/sample_data'\n"
   ]
  },
  {
   "cell_type": "code",
   "execution_count": 6,
   "id": "d5b1425a-b86b-4c21-b0cb-3ac166af784d",
   "metadata": {},
   "outputs": [
    {
     "data": {
      "text/plain": [
       "'3.4.1'"
      ]
     },
     "execution_count": 6,
     "metadata": {},
     "output_type": "execute_result"
    }
   ],
   "source": [
    "keras.__version__"
   ]
  },
  {
   "cell_type": "code",
   "execution_count": 7,
   "id": "23fe6deb-0da3-41f7-bb40-21f48e0b3855",
   "metadata": {},
   "outputs": [
    {
     "name": "stderr",
     "output_type": "stream",
     "text": [
      "/home/rty10/miniconda3/envs/dnalab/lib/python3.10/site-packages/keras/src/layers/core/dense.py:87: UserWarning: Do not pass an `input_shape`/`input_dim` argument to a layer. When using Sequential models, prefer using an `Input(shape)` object as the first layer in the model instead.\n",
      "  super().__init__(activity_regularizer=activity_regularizer, **kwargs)\n"
     ]
    }
   ],
   "source": [
    "model = keras.Sequential([layers.Dense(units=1,\n",
    "                                       input_shape=[3]\n",
    "                                      )\n",
    "                         ])\n"
   ]
  },
  {
   "cell_type": "code",
   "execution_count": null,
   "id": "4b878ce2-0d22-4a92-bca1-f6ffd61b75dd",
   "metadata": {},
   "outputs": [],
   "source": []
  }
 ],
 "metadata": {
  "kernelspec": {
   "display_name": "Python 3 (ipykernel)",
   "language": "python",
   "name": "python3"
  },
  "language_info": {
   "codemirror_mode": {
    "name": "ipython",
    "version": 3
   },
   "file_extension": ".py",
   "mimetype": "text/x-python",
   "name": "python",
   "nbconvert_exporter": "python",
   "pygments_lexer": "ipython3",
   "version": "3.10.13"
  }
 },
 "nbformat": 4,
 "nbformat_minor": 5
}
