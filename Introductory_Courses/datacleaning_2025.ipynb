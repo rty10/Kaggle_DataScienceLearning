{
 "cells": [
  {
   "cell_type": "markdown",
   "id": "bdcb3729",
   "metadata": {},
   "source": [
    "## Learn Data Cleaning\n",
    "\n",
    "Source: kaggle.com\n",
    "Author: Rachael Tatman\n",
    "\n",
    "Start Date: 10 Apr 2025\n",
    "\n",
    "Completed:  13 Apr 2025\n"
   ]
  },
  {
   "cell_type": "code",
   "execution_count": 53,
   "id": "8f49fd9d",
   "metadata": {},
   "outputs": [],
   "source": [
    "## Packages to load & use\n",
    "import pandas as pd\n",
    "import numpy as np\n",
    "import datetime, charset_normalizer\n",
    "\n",
    "from scipy import stats\n",
    "from mlxtend.preprocessing import minmax_scaling\n",
    "import seaborn as sns\n",
    "import matplotlib.pyplot as plt\n",
    "\n",
    "## Path to data folder\n",
    "import os\n",
    "datapath = os.getcwd() + '/data'\n",
    "\n",
    "## Random seeding\n",
    "np.random.seed(0)"
   ]
  },
  {
   "cell_type": "markdown",
   "id": "607c4315",
   "metadata": {},
   "source": [
    "---\n",
    "\n",
    "### I. Handling Missing Values"
   ]
  },
  {
   "cell_type": "code",
   "execution_count": 2,
   "id": "3e7d0fdb",
   "metadata": {},
   "outputs": [
    {
     "name": "stderr",
     "output_type": "stream",
     "text": [
      "/tmp/ipykernel_6943/2023206973.py:1: DtypeWarning: Columns (25,51) have mixed types. Specify dtype option on import or set low_memory=False.\n",
      "  nfl_data = pd.read_csv(datapath+'/NFL Play by Play 2009-2017 (v4).csv')\n"
     ]
    },
    {
     "data": {
      "application/vnd.microsoft.datawrangler.viewer.v0+json": {
       "columns": [
        {
         "name": "index",
         "rawType": "int64",
         "type": "integer"
        },
        {
         "name": "Date",
         "rawType": "object",
         "type": "string"
        },
        {
         "name": "GameID",
         "rawType": "int64",
         "type": "integer"
        },
        {
         "name": "Drive",
         "rawType": "int64",
         "type": "integer"
        },
        {
         "name": "qtr",
         "rawType": "int64",
         "type": "integer"
        },
        {
         "name": "down",
         "rawType": "float64",
         "type": "float"
        },
        {
         "name": "time",
         "rawType": "object",
         "type": "string"
        },
        {
         "name": "TimeUnder",
         "rawType": "int64",
         "type": "integer"
        },
        {
         "name": "TimeSecs",
         "rawType": "float64",
         "type": "float"
        },
        {
         "name": "PlayTimeDiff",
         "rawType": "float64",
         "type": "float"
        },
        {
         "name": "SideofField",
         "rawType": "object",
         "type": "string"
        },
        {
         "name": "yrdln",
         "rawType": "float64",
         "type": "float"
        },
        {
         "name": "yrdline100",
         "rawType": "float64",
         "type": "float"
        },
        {
         "name": "ydstogo",
         "rawType": "int64",
         "type": "integer"
        },
        {
         "name": "ydsnet",
         "rawType": "int64",
         "type": "integer"
        },
        {
         "name": "GoalToGo",
         "rawType": "float64",
         "type": "float"
        },
        {
         "name": "FirstDown",
         "rawType": "float64",
         "type": "float"
        },
        {
         "name": "posteam",
         "rawType": "object",
         "type": "string"
        },
        {
         "name": "DefensiveTeam",
         "rawType": "object",
         "type": "string"
        },
        {
         "name": "desc",
         "rawType": "object",
         "type": "string"
        },
        {
         "name": "PlayAttempted",
         "rawType": "int64",
         "type": "integer"
        },
        {
         "name": "Yards.Gained",
         "rawType": "int64",
         "type": "integer"
        },
        {
         "name": "sp",
         "rawType": "int64",
         "type": "integer"
        },
        {
         "name": "Touchdown",
         "rawType": "int64",
         "type": "integer"
        },
        {
         "name": "ExPointResult",
         "rawType": "object",
         "type": "unknown"
        },
        {
         "name": "TwoPointConv",
         "rawType": "object",
         "type": "unknown"
        },
        {
         "name": "DefTwoPoint",
         "rawType": "object",
         "type": "unknown"
        },
        {
         "name": "Safety",
         "rawType": "int64",
         "type": "integer"
        },
        {
         "name": "Onsidekick",
         "rawType": "int64",
         "type": "integer"
        },
        {
         "name": "PuntResult",
         "rawType": "object",
         "type": "unknown"
        },
        {
         "name": "PlayType",
         "rawType": "object",
         "type": "string"
        },
        {
         "name": "Passer",
         "rawType": "object",
         "type": "unknown"
        },
        {
         "name": "Passer_ID",
         "rawType": "object",
         "type": "unknown"
        },
        {
         "name": "PassAttempt",
         "rawType": "int64",
         "type": "integer"
        },
        {
         "name": "PassOutcome",
         "rawType": "object",
         "type": "unknown"
        },
        {
         "name": "PassLength",
         "rawType": "object",
         "type": "unknown"
        },
        {
         "name": "AirYards",
         "rawType": "int64",
         "type": "integer"
        },
        {
         "name": "YardsAfterCatch",
         "rawType": "int64",
         "type": "integer"
        },
        {
         "name": "QBHit",
         "rawType": "int64",
         "type": "integer"
        },
        {
         "name": "PassLocation",
         "rawType": "object",
         "type": "unknown"
        },
        {
         "name": "InterceptionThrown",
         "rawType": "int64",
         "type": "integer"
        },
        {
         "name": "Interceptor",
         "rawType": "object",
         "type": "unknown"
        },
        {
         "name": "Rusher",
         "rawType": "object",
         "type": "unknown"
        },
        {
         "name": "Rusher_ID",
         "rawType": "object",
         "type": "unknown"
        },
        {
         "name": "RushAttempt",
         "rawType": "int64",
         "type": "integer"
        },
        {
         "name": "RunLocation",
         "rawType": "object",
         "type": "unknown"
        },
        {
         "name": "RunGap",
         "rawType": "object",
         "type": "unknown"
        },
        {
         "name": "Receiver",
         "rawType": "object",
         "type": "unknown"
        },
        {
         "name": "Receiver_ID",
         "rawType": "object",
         "type": "unknown"
        },
        {
         "name": "Reception",
         "rawType": "int64",
         "type": "integer"
        },
        {
         "name": "ReturnResult",
         "rawType": "object",
         "type": "unknown"
        },
        {
         "name": "Returner",
         "rawType": "object",
         "type": "unknown"
        },
        {
         "name": "BlockingPlayer",
         "rawType": "object",
         "type": "unknown"
        },
        {
         "name": "Tackler1",
         "rawType": "object",
         "type": "unknown"
        },
        {
         "name": "Tackler2",
         "rawType": "object",
         "type": "unknown"
        },
        {
         "name": "FieldGoalResult",
         "rawType": "object",
         "type": "unknown"
        },
        {
         "name": "FieldGoalDistance",
         "rawType": "float64",
         "type": "float"
        },
        {
         "name": "Fumble",
         "rawType": "int64",
         "type": "integer"
        },
        {
         "name": "RecFumbTeam",
         "rawType": "object",
         "type": "unknown"
        },
        {
         "name": "RecFumbPlayer",
         "rawType": "object",
         "type": "unknown"
        },
        {
         "name": "Sack",
         "rawType": "int64",
         "type": "integer"
        },
        {
         "name": "Challenge.Replay",
         "rawType": "int64",
         "type": "integer"
        },
        {
         "name": "ChalReplayResult",
         "rawType": "object",
         "type": "unknown"
        },
        {
         "name": "Accepted.Penalty",
         "rawType": "int64",
         "type": "integer"
        },
        {
         "name": "PenalizedTeam",
         "rawType": "object",
         "type": "unknown"
        },
        {
         "name": "PenaltyType",
         "rawType": "object",
         "type": "unknown"
        },
        {
         "name": "PenalizedPlayer",
         "rawType": "object",
         "type": "unknown"
        },
        {
         "name": "Penalty.Yards",
         "rawType": "int64",
         "type": "integer"
        },
        {
         "name": "PosTeamScore",
         "rawType": "float64",
         "type": "float"
        },
        {
         "name": "DefTeamScore",
         "rawType": "float64",
         "type": "float"
        },
        {
         "name": "ScoreDiff",
         "rawType": "float64",
         "type": "float"
        },
        {
         "name": "AbsScoreDiff",
         "rawType": "float64",
         "type": "float"
        },
        {
         "name": "HomeTeam",
         "rawType": "object",
         "type": "string"
        },
        {
         "name": "AwayTeam",
         "rawType": "object",
         "type": "string"
        },
        {
         "name": "Timeout_Indicator",
         "rawType": "int64",
         "type": "integer"
        },
        {
         "name": "Timeout_Team",
         "rawType": "object",
         "type": "unknown"
        },
        {
         "name": "posteam_timeouts_pre",
         "rawType": "int64",
         "type": "integer"
        },
        {
         "name": "HomeTimeouts_Remaining_Pre",
         "rawType": "int64",
         "type": "integer"
        },
        {
         "name": "AwayTimeouts_Remaining_Pre",
         "rawType": "int64",
         "type": "integer"
        },
        {
         "name": "HomeTimeouts_Remaining_Post",
         "rawType": "int64",
         "type": "integer"
        },
        {
         "name": "AwayTimeouts_Remaining_Post",
         "rawType": "int64",
         "type": "integer"
        },
        {
         "name": "No_Score_Prob",
         "rawType": "float64",
         "type": "float"
        },
        {
         "name": "Opp_Field_Goal_Prob",
         "rawType": "float64",
         "type": "float"
        },
        {
         "name": "Opp_Safety_Prob",
         "rawType": "float64",
         "type": "float"
        },
        {
         "name": "Opp_Touchdown_Prob",
         "rawType": "float64",
         "type": "float"
        },
        {
         "name": "Field_Goal_Prob",
         "rawType": "float64",
         "type": "float"
        },
        {
         "name": "Safety_Prob",
         "rawType": "float64",
         "type": "float"
        },
        {
         "name": "Touchdown_Prob",
         "rawType": "float64",
         "type": "float"
        },
        {
         "name": "ExPoint_Prob",
         "rawType": "float64",
         "type": "float"
        },
        {
         "name": "TwoPoint_Prob",
         "rawType": "float64",
         "type": "float"
        },
        {
         "name": "ExpPts",
         "rawType": "float64",
         "type": "float"
        },
        {
         "name": "EPA",
         "rawType": "float64",
         "type": "float"
        },
        {
         "name": "airEPA",
         "rawType": "float64",
         "type": "float"
        },
        {
         "name": "yacEPA",
         "rawType": "float64",
         "type": "float"
        },
        {
         "name": "Home_WP_pre",
         "rawType": "float64",
         "type": "float"
        },
        {
         "name": "Away_WP_pre",
         "rawType": "float64",
         "type": "float"
        },
        {
         "name": "Home_WP_post",
         "rawType": "float64",
         "type": "float"
        },
        {
         "name": "Away_WP_post",
         "rawType": "float64",
         "type": "float"
        },
        {
         "name": "Win_Prob",
         "rawType": "float64",
         "type": "float"
        },
        {
         "name": "WPA",
         "rawType": "float64",
         "type": "float"
        },
        {
         "name": "airWPA",
         "rawType": "float64",
         "type": "float"
        },
        {
         "name": "yacWPA",
         "rawType": "float64",
         "type": "float"
        },
        {
         "name": "Season",
         "rawType": "int64",
         "type": "integer"
        }
       ],
       "conversionMethod": "pd.DataFrame",
       "ref": "041c055b-001c-415e-8224-1b3adbb75703",
       "rows": [
        [
         "0",
         "2009-09-10",
         "2009091000",
         "1",
         "1",
         null,
         "15:00",
         "15",
         "3600.0",
         "0.0",
         "TEN",
         "30.0",
         "30.0",
         "0",
         "0",
         "0.0",
         null,
         "PIT",
         "TEN",
         "R.Bironas kicks 67 yards from TEN 30 to PIT 3. S.Logan to PIT 42 for 39 yards (M.Griffin).",
         "1",
         "39",
         "0",
         "0",
         null,
         null,
         null,
         "0",
         "0",
         null,
         "Kickoff",
         null,
         null,
         "0",
         null,
         null,
         "0",
         "0",
         "0",
         null,
         "0",
         null,
         null,
         null,
         "0",
         null,
         null,
         null,
         null,
         "0",
         null,
         "S.Logan",
         null,
         "M.Griffin",
         null,
         null,
         null,
         "0",
         null,
         null,
         "0",
         "0",
         null,
         "0",
         null,
         null,
         null,
         "0",
         "0.0",
         "0.0",
         "0.0",
         "0.0",
         "PIT",
         "TEN",
         "0",
         null,
         "3",
         "3",
         "3",
         "3",
         "3",
         "0.0015063265025897",
         "0.1797487862643072",
         "0.0066391083784486",
         "0.281137706070735",
         "0.2137001434842491",
         "0.0035923127788396",
         "0.3136756165208305",
         "0.0",
         "0.0",
         "0.3235258536112761",
         "2.014473905391463",
         null,
         null,
         "0.4856749860969135",
         "0.5143250139030865",
         "0.5464328397122977",
         "0.4535671602877023",
         "0.4856749860969135",
         "0.0607578536153842",
         null,
         null,
         "2009"
        ],
        [
         "1",
         "2009-09-10",
         "2009091000",
         "1",
         "1",
         "1.0",
         "14:53",
         "15",
         "3593.0",
         "7.0",
         "PIT",
         "42.0",
         "58.0",
         "10",
         "5",
         "0.0",
         "0.0",
         "PIT",
         "TEN",
         "(14:53) B.Roethlisberger pass short left to H.Ward to PIT 47 for 5 yards (C.Hope).",
         "1",
         "5",
         "0",
         "0",
         null,
         null,
         null,
         "0",
         "0",
         null,
         "Pass",
         "B.Roethlisberger",
         "00-0022924",
         "1",
         "Complete",
         "Short",
         "-3",
         "8",
         "0",
         "left",
         "0",
         null,
         null,
         null,
         "0",
         null,
         null,
         "H.Ward",
         "00-0017162",
         "1",
         null,
         null,
         null,
         "C.Hope",
         null,
         null,
         null,
         "0",
         null,
         null,
         "0",
         "0",
         null,
         "0",
         null,
         null,
         null,
         "0",
         "0.0",
         "0.0",
         "0.0",
         "0.0",
         "PIT",
         "TEN",
         "0",
         null,
         "3",
         "3",
         "3",
         "3",
         "3",
         "0.0009685734452128204",
         "0.1085053416934763",
         "0.0010607055130298",
         "0.1691166977822974",
         "0.2936997850777506",
         "0.0036375102131143",
         "0.4230113862751185",
         "0.0",
         "0.0",
         "2.3379997590027397",
         "0.0779071580166195",
         "-1.0681686475721817",
         "1.1460758055888012",
         "0.5464328397122977",
         "0.4535671602877023",
         "0.5510878171614882",
         "0.4489121828385117",
         "0.5464328397122977",
         "0.0046549774491905",
         "-0.0322439869661942",
         "0.0368989644153847",
         "2009"
        ],
        [
         "2",
         "2009-09-10",
         "2009091000",
         "1",
         "1",
         "2.0",
         "14:16",
         "15",
         "3556.0",
         "37.0",
         "PIT",
         "47.0",
         "53.0",
         "5",
         "2",
         "0.0",
         "0.0",
         "PIT",
         "TEN",
         "(14:16) W.Parker right end to PIT 44 for -3 yards (S.Tulloch).",
         "1",
         "-3",
         "0",
         "0",
         null,
         null,
         null,
         "0",
         "0",
         null,
         "Run",
         null,
         null,
         "0",
         null,
         null,
         "0",
         "0",
         "0",
         null,
         "0",
         null,
         "W.Parker",
         "00-0022250",
         "1",
         "right",
         "end",
         null,
         null,
         "0",
         null,
         null,
         null,
         "S.Tulloch",
         null,
         null,
         null,
         "0",
         null,
         null,
         "0",
         "0",
         null,
         "0",
         null,
         null,
         null,
         "0",
         "0.0",
         "0.0",
         "0.0",
         "0.0",
         "PIT",
         "TEN",
         "0",
         null,
         "3",
         "3",
         "3",
         "3",
         "3",
         "0.0010572152962679",
         "0.1051062305769131",
         "0.000980799652992255",
         "0.1627467717750299",
         "0.3048045303164003",
         "0.0038260294289368",
         "0.4214784229534596",
         "0.0",
         "0.0",
         "2.415906917019359",
         "-1.4027598314188183",
         null,
         null,
         "0.5510878171614882",
         "0.4489121828385117",
         "0.5107930906986009",
         "0.4892069093013991",
         "0.5510878171614882",
         "-0.0402947264628873",
         null,
         null,
         "2009"
        ],
        [
         "3",
         "2009-09-10",
         "2009091000",
         "1",
         "1",
         "3.0",
         "13:35",
         "14",
         "3515.0",
         "41.0",
         "PIT",
         "44.0",
         "56.0",
         "8",
         "2",
         "0.0",
         "0.0",
         "PIT",
         "TEN",
         "(13:35) (Shotgun) B.Roethlisberger pass incomplete deep right to M.Wallace. COVERAGE BY #24 HOPE",
         "1",
         "0",
         "0",
         "0",
         null,
         null,
         null,
         "0",
         "0",
         null,
         "Pass",
         "B.Roethlisberger",
         "00-0022924",
         "1",
         "Incomplete Pass",
         "Deep",
         "34",
         "0",
         "0",
         "right",
         "0",
         null,
         null,
         null,
         "0",
         null,
         null,
         "M.Wallace",
         "00-0026901",
         "0",
         null,
         null,
         null,
         null,
         null,
         null,
         null,
         "0",
         null,
         null,
         "0",
         "0",
         null,
         "0",
         null,
         null,
         null,
         "0",
         "0.0",
         "0.0",
         "0.0",
         "0.0",
         "PIT",
         "TEN",
         "0",
         null,
         "3",
         "3",
         "3",
         "3",
         "3",
         "0.0014338646477691",
         "0.1490882801763333",
         "0.0019439625133838",
         "0.2348008455660307",
         "0.2893358830464597",
         "0.0047764054742037",
         "0.3186207585758195",
         "0.0",
         "0.0",
         "1.0131470856005402",
         "-1.7125834938947782",
         "3.3188410883517703",
         "-5.031424582246548",
         "0.5107930906986009",
         "0.4892069093013991",
         "0.4612171140114365",
         "0.5387828859885635",
         "0.5107930906986009",
         "-0.0495759766871644",
         "0.1066625552993268",
         "-0.1562385319864913",
         "2009"
        ],
        [
         "4",
         "2009-09-10",
         "2009091000",
         "1",
         "1",
         "4.0",
         "13:27",
         "14",
         "3507.0",
         "8.0",
         "PIT",
         "44.0",
         "56.0",
         "8",
         "2",
         "0.0",
         "1.0",
         "PIT",
         "TEN",
         "(13:27) (Punt formation) D.Sepulveda punts 54 yards to TEN 2, Center-G.Warren, downed by PIT-K.Lewis.",
         "1",
         "0",
         "0",
         "0",
         null,
         null,
         null,
         "0",
         "0",
         "Clean",
         "Punt",
         null,
         null,
         "0",
         null,
         null,
         "0",
         "0",
         "0",
         null,
         "0",
         null,
         null,
         null,
         "0",
         null,
         null,
         null,
         null,
         "0",
         null,
         null,
         null,
         null,
         null,
         null,
         null,
         "0",
         null,
         null,
         "0",
         "0",
         null,
         "0",
         null,
         null,
         null,
         "0",
         "0.0",
         "0.0",
         "0.0",
         "0.0",
         "PIT",
         "TEN",
         "0",
         null,
         "3",
         "3",
         "3",
         "3",
         "3",
         "0.0018613013280199",
         "0.2134795551873399",
         "0.0032786853396274",
         "0.3222621266767354",
         "0.2446034473013062",
         "0.0064040032777064",
         "0.2081108808892647",
         "0.0",
         "0.0",
         "-0.6994364082942379",
         "2.097795973997438",
         null,
         null,
         "0.4612171140114365",
         "0.5387828859885635",
         "0.5589294012224711",
         "0.4410705987775288",
         "0.4612171140114365",
         "0.0977122872110346",
         null,
         null,
         "2009"
        ]
       ],
       "shape": {
        "columns": 102,
        "rows": 5
       }
      },
      "text/html": [
       "<div>\n",
       "<style scoped>\n",
       "    .dataframe tbody tr th:only-of-type {\n",
       "        vertical-align: middle;\n",
       "    }\n",
       "\n",
       "    .dataframe tbody tr th {\n",
       "        vertical-align: top;\n",
       "    }\n",
       "\n",
       "    .dataframe thead th {\n",
       "        text-align: right;\n",
       "    }\n",
       "</style>\n",
       "<table border=\"1\" class=\"dataframe\">\n",
       "  <thead>\n",
       "    <tr style=\"text-align: right;\">\n",
       "      <th></th>\n",
       "      <th>Date</th>\n",
       "      <th>GameID</th>\n",
       "      <th>Drive</th>\n",
       "      <th>qtr</th>\n",
       "      <th>down</th>\n",
       "      <th>time</th>\n",
       "      <th>TimeUnder</th>\n",
       "      <th>TimeSecs</th>\n",
       "      <th>PlayTimeDiff</th>\n",
       "      <th>SideofField</th>\n",
       "      <th>...</th>\n",
       "      <th>yacEPA</th>\n",
       "      <th>Home_WP_pre</th>\n",
       "      <th>Away_WP_pre</th>\n",
       "      <th>Home_WP_post</th>\n",
       "      <th>Away_WP_post</th>\n",
       "      <th>Win_Prob</th>\n",
       "      <th>WPA</th>\n",
       "      <th>airWPA</th>\n",
       "      <th>yacWPA</th>\n",
       "      <th>Season</th>\n",
       "    </tr>\n",
       "  </thead>\n",
       "  <tbody>\n",
       "    <tr>\n",
       "      <th>0</th>\n",
       "      <td>2009-09-10</td>\n",
       "      <td>2009091000</td>\n",
       "      <td>1</td>\n",
       "      <td>1</td>\n",
       "      <td>NaN</td>\n",
       "      <td>15:00</td>\n",
       "      <td>15</td>\n",
       "      <td>3600.0</td>\n",
       "      <td>0.0</td>\n",
       "      <td>TEN</td>\n",
       "      <td>...</td>\n",
       "      <td>NaN</td>\n",
       "      <td>0.485675</td>\n",
       "      <td>0.514325</td>\n",
       "      <td>0.546433</td>\n",
       "      <td>0.453567</td>\n",
       "      <td>0.485675</td>\n",
       "      <td>0.060758</td>\n",
       "      <td>NaN</td>\n",
       "      <td>NaN</td>\n",
       "      <td>2009</td>\n",
       "    </tr>\n",
       "    <tr>\n",
       "      <th>1</th>\n",
       "      <td>2009-09-10</td>\n",
       "      <td>2009091000</td>\n",
       "      <td>1</td>\n",
       "      <td>1</td>\n",
       "      <td>1.0</td>\n",
       "      <td>14:53</td>\n",
       "      <td>15</td>\n",
       "      <td>3593.0</td>\n",
       "      <td>7.0</td>\n",
       "      <td>PIT</td>\n",
       "      <td>...</td>\n",
       "      <td>1.146076</td>\n",
       "      <td>0.546433</td>\n",
       "      <td>0.453567</td>\n",
       "      <td>0.551088</td>\n",
       "      <td>0.448912</td>\n",
       "      <td>0.546433</td>\n",
       "      <td>0.004655</td>\n",
       "      <td>-0.032244</td>\n",
       "      <td>0.036899</td>\n",
       "      <td>2009</td>\n",
       "    </tr>\n",
       "    <tr>\n",
       "      <th>2</th>\n",
       "      <td>2009-09-10</td>\n",
       "      <td>2009091000</td>\n",
       "      <td>1</td>\n",
       "      <td>1</td>\n",
       "      <td>2.0</td>\n",
       "      <td>14:16</td>\n",
       "      <td>15</td>\n",
       "      <td>3556.0</td>\n",
       "      <td>37.0</td>\n",
       "      <td>PIT</td>\n",
       "      <td>...</td>\n",
       "      <td>NaN</td>\n",
       "      <td>0.551088</td>\n",
       "      <td>0.448912</td>\n",
       "      <td>0.510793</td>\n",
       "      <td>0.489207</td>\n",
       "      <td>0.551088</td>\n",
       "      <td>-0.040295</td>\n",
       "      <td>NaN</td>\n",
       "      <td>NaN</td>\n",
       "      <td>2009</td>\n",
       "    </tr>\n",
       "    <tr>\n",
       "      <th>3</th>\n",
       "      <td>2009-09-10</td>\n",
       "      <td>2009091000</td>\n",
       "      <td>1</td>\n",
       "      <td>1</td>\n",
       "      <td>3.0</td>\n",
       "      <td>13:35</td>\n",
       "      <td>14</td>\n",
       "      <td>3515.0</td>\n",
       "      <td>41.0</td>\n",
       "      <td>PIT</td>\n",
       "      <td>...</td>\n",
       "      <td>-5.031425</td>\n",
       "      <td>0.510793</td>\n",
       "      <td>0.489207</td>\n",
       "      <td>0.461217</td>\n",
       "      <td>0.538783</td>\n",
       "      <td>0.510793</td>\n",
       "      <td>-0.049576</td>\n",
       "      <td>0.106663</td>\n",
       "      <td>-0.156239</td>\n",
       "      <td>2009</td>\n",
       "    </tr>\n",
       "    <tr>\n",
       "      <th>4</th>\n",
       "      <td>2009-09-10</td>\n",
       "      <td>2009091000</td>\n",
       "      <td>1</td>\n",
       "      <td>1</td>\n",
       "      <td>4.0</td>\n",
       "      <td>13:27</td>\n",
       "      <td>14</td>\n",
       "      <td>3507.0</td>\n",
       "      <td>8.0</td>\n",
       "      <td>PIT</td>\n",
       "      <td>...</td>\n",
       "      <td>NaN</td>\n",
       "      <td>0.461217</td>\n",
       "      <td>0.538783</td>\n",
       "      <td>0.558929</td>\n",
       "      <td>0.441071</td>\n",
       "      <td>0.461217</td>\n",
       "      <td>0.097712</td>\n",
       "      <td>NaN</td>\n",
       "      <td>NaN</td>\n",
       "      <td>2009</td>\n",
       "    </tr>\n",
       "  </tbody>\n",
       "</table>\n",
       "<p>5 rows × 102 columns</p>\n",
       "</div>"
      ],
      "text/plain": [
       "         Date      GameID  Drive  qtr  down   time  TimeUnder  TimeSecs  \\\n",
       "0  2009-09-10  2009091000      1    1   NaN  15:00         15    3600.0   \n",
       "1  2009-09-10  2009091000      1    1   1.0  14:53         15    3593.0   \n",
       "2  2009-09-10  2009091000      1    1   2.0  14:16         15    3556.0   \n",
       "3  2009-09-10  2009091000      1    1   3.0  13:35         14    3515.0   \n",
       "4  2009-09-10  2009091000      1    1   4.0  13:27         14    3507.0   \n",
       "\n",
       "   PlayTimeDiff SideofField  ...    yacEPA  Home_WP_pre  Away_WP_pre  \\\n",
       "0           0.0         TEN  ...       NaN     0.485675     0.514325   \n",
       "1           7.0         PIT  ...  1.146076     0.546433     0.453567   \n",
       "2          37.0         PIT  ...       NaN     0.551088     0.448912   \n",
       "3          41.0         PIT  ... -5.031425     0.510793     0.489207   \n",
       "4           8.0         PIT  ...       NaN     0.461217     0.538783   \n",
       "\n",
       "   Home_WP_post  Away_WP_post  Win_Prob       WPA    airWPA    yacWPA  Season  \n",
       "0      0.546433      0.453567  0.485675  0.060758       NaN       NaN    2009  \n",
       "1      0.551088      0.448912  0.546433  0.004655 -0.032244  0.036899    2009  \n",
       "2      0.510793      0.489207  0.551088 -0.040295       NaN       NaN    2009  \n",
       "3      0.461217      0.538783  0.510793 -0.049576  0.106663 -0.156239    2009  \n",
       "4      0.558929      0.441071  0.461217  0.097712       NaN       NaN    2009  \n",
       "\n",
       "[5 rows x 102 columns]"
      ]
     },
     "execution_count": 2,
     "metadata": {},
     "output_type": "execute_result"
    }
   ],
   "source": [
    "nfl_data = pd.read_csv(datapath+'/NFL Play by Play 2009-2017 (v4).csv')\n",
    "\n",
    "np.random.seed(0)\n",
    "\n",
    "nfl_data.head(5)"
   ]
  },
  {
   "cell_type": "code",
   "execution_count": 7,
   "id": "775387f4",
   "metadata": {},
   "outputs": [
    {
     "data": {
      "text/plain": [
       "Date                0\n",
       "GameID              0\n",
       "Drive               0\n",
       "qtr                 0\n",
       "down            61154\n",
       "time              224\n",
       "TimeUnder           0\n",
       "TimeSecs          224\n",
       "PlayTimeDiff      444\n",
       "SideofField       528\n",
       "dtype: int64"
      ]
     },
     "execution_count": 7,
     "metadata": {},
     "output_type": "execute_result"
    }
   ],
   "source": [
    "missing_val_ct = nfl_data.isnull().sum()\n",
    "\n",
    "missing_val_ct[0:10]\n"
   ]
  },
  {
   "cell_type": "code",
   "execution_count": 8,
   "id": "3d9fb768",
   "metadata": {},
   "outputs": [
    {
     "name": "stdout",
     "output_type": "stream",
     "text": [
      "27.6672\n"
     ]
    }
   ],
   "source": [
    "total_size      = np.product( nfl_data.shape )\n",
    "total_missing   = missing_val_ct.sum()\n",
    "percent_missing = 100 * (total_missing/total_size)\n",
    "\n",
    "print(round(percent_missing, 4))\n",
    "del total_size, total_missing, percent_missing"
   ]
  },
  {
   "cell_type": "code",
   "execution_count": 10,
   "id": "17200695",
   "metadata": {},
   "outputs": [
    {
     "data": {
      "text/plain": [
       "224"
      ]
     },
     "execution_count": 10,
     "metadata": {},
     "output_type": "execute_result"
    }
   ],
   "source": [
    "## Look at the 'TimeSecs' column\n",
    "## --- \"the number of seconds left in the game when a play was made\"\n",
    "\n",
    "nfl_data.TimeSecs.isnull().sum()\n"
   ]
  },
  {
   "cell_type": "code",
   "execution_count": 12,
   "id": "a80dd3ec",
   "metadata": {},
   "outputs": [
    {
     "data": {
      "text/plain": [
       "378189"
      ]
     },
     "execution_count": 12,
     "metadata": {},
     "output_type": "execute_result"
    }
   ],
   "source": [
    "## Look at 'PenalizedTeam' column\n",
    "## --- expect to be higher since penalties do not happen at every play\n",
    "\n",
    "nfl_data.PenalizedTeam.isnull().sum()\n"
   ]
  },
  {
   "cell_type": "code",
   "execution_count": 13,
   "id": "17901437",
   "metadata": {},
   "outputs": [
    {
     "data": {
      "application/vnd.microsoft.datawrangler.viewer.v0+json": {
       "columns": [
        {
         "name": "index",
         "rawType": "int64",
         "type": "integer"
        },
        {
         "name": "Date",
         "rawType": "object",
         "type": "string"
        },
        {
         "name": "GameID",
         "rawType": "int64",
         "type": "integer"
        },
        {
         "name": "Drive",
         "rawType": "int64",
         "type": "integer"
        },
        {
         "name": "qtr",
         "rawType": "int64",
         "type": "integer"
        },
        {
         "name": "down",
         "rawType": "float64",
         "type": "float"
        },
        {
         "name": "time",
         "rawType": "object",
         "type": "string"
        },
        {
         "name": "TimeUnder",
         "rawType": "int64",
         "type": "integer"
        },
        {
         "name": "TimeSecs",
         "rawType": "float64",
         "type": "float"
        },
        {
         "name": "PlayTimeDiff",
         "rawType": "float64",
         "type": "float"
        },
        {
         "name": "SideofField",
         "rawType": "object",
         "type": "string"
        },
        {
         "name": "yrdln",
         "rawType": "float64",
         "type": "float"
        },
        {
         "name": "yrdline100",
         "rawType": "float64",
         "type": "float"
        },
        {
         "name": "ydstogo",
         "rawType": "int64",
         "type": "integer"
        },
        {
         "name": "ydsnet",
         "rawType": "int64",
         "type": "integer"
        },
        {
         "name": "GoalToGo",
         "rawType": "float64",
         "type": "float"
        },
        {
         "name": "FirstDown",
         "rawType": "float64",
         "type": "float"
        },
        {
         "name": "posteam",
         "rawType": "object",
         "type": "string"
        },
        {
         "name": "DefensiveTeam",
         "rawType": "object",
         "type": "string"
        },
        {
         "name": "desc",
         "rawType": "object",
         "type": "string"
        },
        {
         "name": "PlayAttempted",
         "rawType": "int64",
         "type": "integer"
        },
        {
         "name": "Yards.Gained",
         "rawType": "int64",
         "type": "integer"
        },
        {
         "name": "sp",
         "rawType": "int64",
         "type": "integer"
        },
        {
         "name": "Touchdown",
         "rawType": "int64",
         "type": "integer"
        },
        {
         "name": "ExPointResult",
         "rawType": "object",
         "type": "string"
        },
        {
         "name": "TwoPointConv",
         "rawType": "object",
         "type": "string"
        },
        {
         "name": "DefTwoPoint",
         "rawType": "object",
         "type": "string"
        },
        {
         "name": "Safety",
         "rawType": "int64",
         "type": "integer"
        },
        {
         "name": "Onsidekick",
         "rawType": "int64",
         "type": "integer"
        },
        {
         "name": "PuntResult",
         "rawType": "object",
         "type": "string"
        },
        {
         "name": "PlayType",
         "rawType": "object",
         "type": "string"
        },
        {
         "name": "Passer",
         "rawType": "object",
         "type": "string"
        },
        {
         "name": "Passer_ID",
         "rawType": "object",
         "type": "string"
        },
        {
         "name": "PassAttempt",
         "rawType": "int64",
         "type": "integer"
        },
        {
         "name": "PassOutcome",
         "rawType": "object",
         "type": "string"
        },
        {
         "name": "PassLength",
         "rawType": "object",
         "type": "string"
        },
        {
         "name": "AirYards",
         "rawType": "int64",
         "type": "integer"
        },
        {
         "name": "YardsAfterCatch",
         "rawType": "int64",
         "type": "integer"
        },
        {
         "name": "QBHit",
         "rawType": "int64",
         "type": "integer"
        },
        {
         "name": "PassLocation",
         "rawType": "object",
         "type": "string"
        },
        {
         "name": "InterceptionThrown",
         "rawType": "int64",
         "type": "integer"
        },
        {
         "name": "Interceptor",
         "rawType": "object",
         "type": "string"
        },
        {
         "name": "Rusher",
         "rawType": "object",
         "type": "string"
        },
        {
         "name": "Rusher_ID",
         "rawType": "object",
         "type": "string"
        },
        {
         "name": "RushAttempt",
         "rawType": "int64",
         "type": "integer"
        },
        {
         "name": "RunLocation",
         "rawType": "object",
         "type": "string"
        },
        {
         "name": "RunGap",
         "rawType": "object",
         "type": "string"
        },
        {
         "name": "Receiver",
         "rawType": "object",
         "type": "string"
        },
        {
         "name": "Receiver_ID",
         "rawType": "object",
         "type": "string"
        },
        {
         "name": "Reception",
         "rawType": "int64",
         "type": "integer"
        },
        {
         "name": "ReturnResult",
         "rawType": "object",
         "type": "string"
        },
        {
         "name": "Returner",
         "rawType": "object",
         "type": "string"
        },
        {
         "name": "BlockingPlayer",
         "rawType": "object",
         "type": "string"
        },
        {
         "name": "Tackler1",
         "rawType": "object",
         "type": "string"
        },
        {
         "name": "Tackler2",
         "rawType": "object",
         "type": "string"
        },
        {
         "name": "FieldGoalResult",
         "rawType": "object",
         "type": "string"
        },
        {
         "name": "FieldGoalDistance",
         "rawType": "float64",
         "type": "float"
        },
        {
         "name": "Fumble",
         "rawType": "int64",
         "type": "integer"
        },
        {
         "name": "RecFumbTeam",
         "rawType": "object",
         "type": "string"
        },
        {
         "name": "RecFumbPlayer",
         "rawType": "object",
         "type": "string"
        },
        {
         "name": "Sack",
         "rawType": "int64",
         "type": "integer"
        },
        {
         "name": "Challenge.Replay",
         "rawType": "int64",
         "type": "integer"
        },
        {
         "name": "ChalReplayResult",
         "rawType": "object",
         "type": "string"
        },
        {
         "name": "Accepted.Penalty",
         "rawType": "int64",
         "type": "integer"
        },
        {
         "name": "PenalizedTeam",
         "rawType": "object",
         "type": "string"
        },
        {
         "name": "PenaltyType",
         "rawType": "object",
         "type": "string"
        },
        {
         "name": "PenalizedPlayer",
         "rawType": "object",
         "type": "string"
        },
        {
         "name": "Penalty.Yards",
         "rawType": "int64",
         "type": "integer"
        },
        {
         "name": "PosTeamScore",
         "rawType": "float64",
         "type": "float"
        },
        {
         "name": "DefTeamScore",
         "rawType": "float64",
         "type": "float"
        },
        {
         "name": "ScoreDiff",
         "rawType": "float64",
         "type": "float"
        },
        {
         "name": "AbsScoreDiff",
         "rawType": "float64",
         "type": "float"
        },
        {
         "name": "HomeTeam",
         "rawType": "object",
         "type": "string"
        },
        {
         "name": "AwayTeam",
         "rawType": "object",
         "type": "string"
        },
        {
         "name": "Timeout_Indicator",
         "rawType": "int64",
         "type": "integer"
        },
        {
         "name": "Timeout_Team",
         "rawType": "object",
         "type": "string"
        },
        {
         "name": "posteam_timeouts_pre",
         "rawType": "int64",
         "type": "integer"
        },
        {
         "name": "HomeTimeouts_Remaining_Pre",
         "rawType": "int64",
         "type": "integer"
        },
        {
         "name": "AwayTimeouts_Remaining_Pre",
         "rawType": "int64",
         "type": "integer"
        },
        {
         "name": "HomeTimeouts_Remaining_Post",
         "rawType": "int64",
         "type": "integer"
        },
        {
         "name": "AwayTimeouts_Remaining_Post",
         "rawType": "int64",
         "type": "integer"
        },
        {
         "name": "No_Score_Prob",
         "rawType": "float64",
         "type": "float"
        },
        {
         "name": "Opp_Field_Goal_Prob",
         "rawType": "float64",
         "type": "float"
        },
        {
         "name": "Opp_Safety_Prob",
         "rawType": "float64",
         "type": "float"
        },
        {
         "name": "Opp_Touchdown_Prob",
         "rawType": "float64",
         "type": "float"
        },
        {
         "name": "Field_Goal_Prob",
         "rawType": "float64",
         "type": "float"
        },
        {
         "name": "Safety_Prob",
         "rawType": "float64",
         "type": "float"
        },
        {
         "name": "Touchdown_Prob",
         "rawType": "float64",
         "type": "float"
        },
        {
         "name": "ExPoint_Prob",
         "rawType": "float64",
         "type": "float"
        },
        {
         "name": "TwoPoint_Prob",
         "rawType": "float64",
         "type": "float"
        },
        {
         "name": "ExpPts",
         "rawType": "float64",
         "type": "float"
        },
        {
         "name": "EPA",
         "rawType": "float64",
         "type": "float"
        },
        {
         "name": "airEPA",
         "rawType": "float64",
         "type": "float"
        },
        {
         "name": "yacEPA",
         "rawType": "float64",
         "type": "float"
        },
        {
         "name": "Home_WP_pre",
         "rawType": "float64",
         "type": "float"
        },
        {
         "name": "Away_WP_pre",
         "rawType": "float64",
         "type": "float"
        },
        {
         "name": "Home_WP_post",
         "rawType": "float64",
         "type": "float"
        },
        {
         "name": "Away_WP_post",
         "rawType": "float64",
         "type": "float"
        },
        {
         "name": "Win_Prob",
         "rawType": "float64",
         "type": "float"
        },
        {
         "name": "WPA",
         "rawType": "float64",
         "type": "float"
        },
        {
         "name": "airWPA",
         "rawType": "float64",
         "type": "float"
        },
        {
         "name": "yacWPA",
         "rawType": "float64",
         "type": "float"
        },
        {
         "name": "Season",
         "rawType": "int64",
         "type": "integer"
        }
       ],
       "conversionMethod": "pd.DataFrame",
       "ref": "7be80e1f-5d48-4afa-a870-a31203e4fd15",
       "rows": [],
       "shape": {
        "columns": 102,
        "rows": 0
       }
      },
      "text/html": [
       "<div>\n",
       "<style scoped>\n",
       "    .dataframe tbody tr th:only-of-type {\n",
       "        vertical-align: middle;\n",
       "    }\n",
       "\n",
       "    .dataframe tbody tr th {\n",
       "        vertical-align: top;\n",
       "    }\n",
       "\n",
       "    .dataframe thead th {\n",
       "        text-align: right;\n",
       "    }\n",
       "</style>\n",
       "<table border=\"1\" class=\"dataframe\">\n",
       "  <thead>\n",
       "    <tr style=\"text-align: right;\">\n",
       "      <th></th>\n",
       "      <th>Date</th>\n",
       "      <th>GameID</th>\n",
       "      <th>Drive</th>\n",
       "      <th>qtr</th>\n",
       "      <th>down</th>\n",
       "      <th>time</th>\n",
       "      <th>TimeUnder</th>\n",
       "      <th>TimeSecs</th>\n",
       "      <th>PlayTimeDiff</th>\n",
       "      <th>SideofField</th>\n",
       "      <th>...</th>\n",
       "      <th>yacEPA</th>\n",
       "      <th>Home_WP_pre</th>\n",
       "      <th>Away_WP_pre</th>\n",
       "      <th>Home_WP_post</th>\n",
       "      <th>Away_WP_post</th>\n",
       "      <th>Win_Prob</th>\n",
       "      <th>WPA</th>\n",
       "      <th>airWPA</th>\n",
       "      <th>yacWPA</th>\n",
       "      <th>Season</th>\n",
       "    </tr>\n",
       "  </thead>\n",
       "  <tbody>\n",
       "  </tbody>\n",
       "</table>\n",
       "<p>0 rows × 102 columns</p>\n",
       "</div>"
      ],
      "text/plain": [
       "Empty DataFrame\n",
       "Columns: [Date, GameID, Drive, qtr, down, time, TimeUnder, TimeSecs, PlayTimeDiff, SideofField, yrdln, yrdline100, ydstogo, ydsnet, GoalToGo, FirstDown, posteam, DefensiveTeam, desc, PlayAttempted, Yards.Gained, sp, Touchdown, ExPointResult, TwoPointConv, DefTwoPoint, Safety, Onsidekick, PuntResult, PlayType, Passer, Passer_ID, PassAttempt, PassOutcome, PassLength, AirYards, YardsAfterCatch, QBHit, PassLocation, InterceptionThrown, Interceptor, Rusher, Rusher_ID, RushAttempt, RunLocation, RunGap, Receiver, Receiver_ID, Reception, ReturnResult, Returner, BlockingPlayer, Tackler1, Tackler2, FieldGoalResult, FieldGoalDistance, Fumble, RecFumbTeam, RecFumbPlayer, Sack, Challenge.Replay, ChalReplayResult, Accepted.Penalty, PenalizedTeam, PenaltyType, PenalizedPlayer, Penalty.Yards, PosTeamScore, DefTeamScore, ScoreDiff, AbsScoreDiff, HomeTeam, AwayTeam, Timeout_Indicator, Timeout_Team, posteam_timeouts_pre, HomeTimeouts_Remaining_Pre, AwayTimeouts_Remaining_Pre, HomeTimeouts_Remaining_Post, AwayTimeouts_Remaining_Post, No_Score_Prob, Opp_Field_Goal_Prob, Opp_Safety_Prob, Opp_Touchdown_Prob, Field_Goal_Prob, Safety_Prob, Touchdown_Prob, ExPoint_Prob, TwoPoint_Prob, ExpPts, EPA, airEPA, yacEPA, Home_WP_pre, Away_WP_pre, Home_WP_post, Away_WP_post, Win_Prob, WPA, airWPA, ...]\n",
       "Index: []\n",
       "\n",
       "[0 rows x 102 columns]"
      ]
     },
     "execution_count": 13,
     "metadata": {},
     "output_type": "execute_result"
    }
   ],
   "source": [
    "### Try: Simply Drop missing values\n",
    "\n",
    "nfl_data.dropna()\n"
   ]
  },
  {
   "cell_type": "code",
   "execution_count": 14,
   "id": "4ddc7016",
   "metadata": {},
   "outputs": [
    {
     "data": {
      "application/vnd.microsoft.datawrangler.viewer.v0+json": {
       "columns": [
        {
         "name": "index",
         "rawType": "int64",
         "type": "integer"
        },
        {
         "name": "Date",
         "rawType": "object",
         "type": "string"
        },
        {
         "name": "GameID",
         "rawType": "int64",
         "type": "integer"
        },
        {
         "name": "Drive",
         "rawType": "int64",
         "type": "integer"
        },
        {
         "name": "qtr",
         "rawType": "int64",
         "type": "integer"
        },
        {
         "name": "TimeUnder",
         "rawType": "int64",
         "type": "integer"
        },
        {
         "name": "ydstogo",
         "rawType": "int64",
         "type": "integer"
        },
        {
         "name": "ydsnet",
         "rawType": "int64",
         "type": "integer"
        },
        {
         "name": "PlayAttempted",
         "rawType": "int64",
         "type": "integer"
        },
        {
         "name": "Yards.Gained",
         "rawType": "int64",
         "type": "integer"
        },
        {
         "name": "sp",
         "rawType": "int64",
         "type": "integer"
        },
        {
         "name": "Touchdown",
         "rawType": "int64",
         "type": "integer"
        },
        {
         "name": "Safety",
         "rawType": "int64",
         "type": "integer"
        },
        {
         "name": "Onsidekick",
         "rawType": "int64",
         "type": "integer"
        },
        {
         "name": "PlayType",
         "rawType": "object",
         "type": "string"
        },
        {
         "name": "PassAttempt",
         "rawType": "int64",
         "type": "integer"
        },
        {
         "name": "AirYards",
         "rawType": "int64",
         "type": "integer"
        },
        {
         "name": "YardsAfterCatch",
         "rawType": "int64",
         "type": "integer"
        },
        {
         "name": "QBHit",
         "rawType": "int64",
         "type": "integer"
        },
        {
         "name": "InterceptionThrown",
         "rawType": "int64",
         "type": "integer"
        },
        {
         "name": "RushAttempt",
         "rawType": "int64",
         "type": "integer"
        },
        {
         "name": "Reception",
         "rawType": "int64",
         "type": "integer"
        },
        {
         "name": "Fumble",
         "rawType": "int64",
         "type": "integer"
        },
        {
         "name": "Sack",
         "rawType": "int64",
         "type": "integer"
        },
        {
         "name": "Challenge.Replay",
         "rawType": "int64",
         "type": "integer"
        },
        {
         "name": "Accepted.Penalty",
         "rawType": "int64",
         "type": "integer"
        },
        {
         "name": "Penalty.Yards",
         "rawType": "int64",
         "type": "integer"
        },
        {
         "name": "HomeTeam",
         "rawType": "object",
         "type": "string"
        },
        {
         "name": "AwayTeam",
         "rawType": "object",
         "type": "string"
        },
        {
         "name": "Timeout_Indicator",
         "rawType": "int64",
         "type": "integer"
        },
        {
         "name": "posteam_timeouts_pre",
         "rawType": "int64",
         "type": "integer"
        },
        {
         "name": "HomeTimeouts_Remaining_Pre",
         "rawType": "int64",
         "type": "integer"
        },
        {
         "name": "AwayTimeouts_Remaining_Pre",
         "rawType": "int64",
         "type": "integer"
        },
        {
         "name": "HomeTimeouts_Remaining_Post",
         "rawType": "int64",
         "type": "integer"
        },
        {
         "name": "AwayTimeouts_Remaining_Post",
         "rawType": "int64",
         "type": "integer"
        },
        {
         "name": "ExPoint_Prob",
         "rawType": "float64",
         "type": "float"
        },
        {
         "name": "TwoPoint_Prob",
         "rawType": "float64",
         "type": "float"
        },
        {
         "name": "Season",
         "rawType": "int64",
         "type": "integer"
        }
       ],
       "conversionMethod": "pd.DataFrame",
       "ref": "06bd09cd-eadc-45d1-8376-fe5b93c42f09",
       "rows": [
        [
         "0",
         "2009-09-10",
         "2009091000",
         "1",
         "1",
         "15",
         "0",
         "0",
         "1",
         "39",
         "0",
         "0",
         "0",
         "0",
         "Kickoff",
         "0",
         "0",
         "0",
         "0",
         "0",
         "0",
         "0",
         "0",
         "0",
         "0",
         "0",
         "0",
         "PIT",
         "TEN",
         "0",
         "3",
         "3",
         "3",
         "3",
         "3",
         "0.0",
         "0.0",
         "2009"
        ],
        [
         "1",
         "2009-09-10",
         "2009091000",
         "1",
         "1",
         "15",
         "10",
         "5",
         "1",
         "5",
         "0",
         "0",
         "0",
         "0",
         "Pass",
         "1",
         "-3",
         "8",
         "0",
         "0",
         "0",
         "1",
         "0",
         "0",
         "0",
         "0",
         "0",
         "PIT",
         "TEN",
         "0",
         "3",
         "3",
         "3",
         "3",
         "3",
         "0.0",
         "0.0",
         "2009"
        ],
        [
         "2",
         "2009-09-10",
         "2009091000",
         "1",
         "1",
         "15",
         "5",
         "2",
         "1",
         "-3",
         "0",
         "0",
         "0",
         "0",
         "Run",
         "0",
         "0",
         "0",
         "0",
         "0",
         "1",
         "0",
         "0",
         "0",
         "0",
         "0",
         "0",
         "PIT",
         "TEN",
         "0",
         "3",
         "3",
         "3",
         "3",
         "3",
         "0.0",
         "0.0",
         "2009"
        ],
        [
         "3",
         "2009-09-10",
         "2009091000",
         "1",
         "1",
         "14",
         "8",
         "2",
         "1",
         "0",
         "0",
         "0",
         "0",
         "0",
         "Pass",
         "1",
         "34",
         "0",
         "0",
         "0",
         "0",
         "0",
         "0",
         "0",
         "0",
         "0",
         "0",
         "PIT",
         "TEN",
         "0",
         "3",
         "3",
         "3",
         "3",
         "3",
         "0.0",
         "0.0",
         "2009"
        ],
        [
         "4",
         "2009-09-10",
         "2009091000",
         "1",
         "1",
         "14",
         "8",
         "2",
         "1",
         "0",
         "0",
         "0",
         "0",
         "0",
         "Punt",
         "0",
         "0",
         "0",
         "0",
         "0",
         "0",
         "0",
         "0",
         "0",
         "0",
         "0",
         "0",
         "PIT",
         "TEN",
         "0",
         "3",
         "3",
         "3",
         "3",
         "3",
         "0.0",
         "0.0",
         "2009"
        ]
       ],
       "shape": {
        "columns": 37,
        "rows": 5
       }
      },
      "text/html": [
       "<div>\n",
       "<style scoped>\n",
       "    .dataframe tbody tr th:only-of-type {\n",
       "        vertical-align: middle;\n",
       "    }\n",
       "\n",
       "    .dataframe tbody tr th {\n",
       "        vertical-align: top;\n",
       "    }\n",
       "\n",
       "    .dataframe thead th {\n",
       "        text-align: right;\n",
       "    }\n",
       "</style>\n",
       "<table border=\"1\" class=\"dataframe\">\n",
       "  <thead>\n",
       "    <tr style=\"text-align: right;\">\n",
       "      <th></th>\n",
       "      <th>Date</th>\n",
       "      <th>GameID</th>\n",
       "      <th>Drive</th>\n",
       "      <th>qtr</th>\n",
       "      <th>TimeUnder</th>\n",
       "      <th>ydstogo</th>\n",
       "      <th>ydsnet</th>\n",
       "      <th>PlayAttempted</th>\n",
       "      <th>Yards.Gained</th>\n",
       "      <th>sp</th>\n",
       "      <th>...</th>\n",
       "      <th>AwayTeam</th>\n",
       "      <th>Timeout_Indicator</th>\n",
       "      <th>posteam_timeouts_pre</th>\n",
       "      <th>HomeTimeouts_Remaining_Pre</th>\n",
       "      <th>AwayTimeouts_Remaining_Pre</th>\n",
       "      <th>HomeTimeouts_Remaining_Post</th>\n",
       "      <th>AwayTimeouts_Remaining_Post</th>\n",
       "      <th>ExPoint_Prob</th>\n",
       "      <th>TwoPoint_Prob</th>\n",
       "      <th>Season</th>\n",
       "    </tr>\n",
       "  </thead>\n",
       "  <tbody>\n",
       "    <tr>\n",
       "      <th>0</th>\n",
       "      <td>2009-09-10</td>\n",
       "      <td>2009091000</td>\n",
       "      <td>1</td>\n",
       "      <td>1</td>\n",
       "      <td>15</td>\n",
       "      <td>0</td>\n",
       "      <td>0</td>\n",
       "      <td>1</td>\n",
       "      <td>39</td>\n",
       "      <td>0</td>\n",
       "      <td>...</td>\n",
       "      <td>TEN</td>\n",
       "      <td>0</td>\n",
       "      <td>3</td>\n",
       "      <td>3</td>\n",
       "      <td>3</td>\n",
       "      <td>3</td>\n",
       "      <td>3</td>\n",
       "      <td>0.0</td>\n",
       "      <td>0.0</td>\n",
       "      <td>2009</td>\n",
       "    </tr>\n",
       "    <tr>\n",
       "      <th>1</th>\n",
       "      <td>2009-09-10</td>\n",
       "      <td>2009091000</td>\n",
       "      <td>1</td>\n",
       "      <td>1</td>\n",
       "      <td>15</td>\n",
       "      <td>10</td>\n",
       "      <td>5</td>\n",
       "      <td>1</td>\n",
       "      <td>5</td>\n",
       "      <td>0</td>\n",
       "      <td>...</td>\n",
       "      <td>TEN</td>\n",
       "      <td>0</td>\n",
       "      <td>3</td>\n",
       "      <td>3</td>\n",
       "      <td>3</td>\n",
       "      <td>3</td>\n",
       "      <td>3</td>\n",
       "      <td>0.0</td>\n",
       "      <td>0.0</td>\n",
       "      <td>2009</td>\n",
       "    </tr>\n",
       "    <tr>\n",
       "      <th>2</th>\n",
       "      <td>2009-09-10</td>\n",
       "      <td>2009091000</td>\n",
       "      <td>1</td>\n",
       "      <td>1</td>\n",
       "      <td>15</td>\n",
       "      <td>5</td>\n",
       "      <td>2</td>\n",
       "      <td>1</td>\n",
       "      <td>-3</td>\n",
       "      <td>0</td>\n",
       "      <td>...</td>\n",
       "      <td>TEN</td>\n",
       "      <td>0</td>\n",
       "      <td>3</td>\n",
       "      <td>3</td>\n",
       "      <td>3</td>\n",
       "      <td>3</td>\n",
       "      <td>3</td>\n",
       "      <td>0.0</td>\n",
       "      <td>0.0</td>\n",
       "      <td>2009</td>\n",
       "    </tr>\n",
       "    <tr>\n",
       "      <th>3</th>\n",
       "      <td>2009-09-10</td>\n",
       "      <td>2009091000</td>\n",
       "      <td>1</td>\n",
       "      <td>1</td>\n",
       "      <td>14</td>\n",
       "      <td>8</td>\n",
       "      <td>2</td>\n",
       "      <td>1</td>\n",
       "      <td>0</td>\n",
       "      <td>0</td>\n",
       "      <td>...</td>\n",
       "      <td>TEN</td>\n",
       "      <td>0</td>\n",
       "      <td>3</td>\n",
       "      <td>3</td>\n",
       "      <td>3</td>\n",
       "      <td>3</td>\n",
       "      <td>3</td>\n",
       "      <td>0.0</td>\n",
       "      <td>0.0</td>\n",
       "      <td>2009</td>\n",
       "    </tr>\n",
       "    <tr>\n",
       "      <th>4</th>\n",
       "      <td>2009-09-10</td>\n",
       "      <td>2009091000</td>\n",
       "      <td>1</td>\n",
       "      <td>1</td>\n",
       "      <td>14</td>\n",
       "      <td>8</td>\n",
       "      <td>2</td>\n",
       "      <td>1</td>\n",
       "      <td>0</td>\n",
       "      <td>0</td>\n",
       "      <td>...</td>\n",
       "      <td>TEN</td>\n",
       "      <td>0</td>\n",
       "      <td>3</td>\n",
       "      <td>3</td>\n",
       "      <td>3</td>\n",
       "      <td>3</td>\n",
       "      <td>3</td>\n",
       "      <td>0.0</td>\n",
       "      <td>0.0</td>\n",
       "      <td>2009</td>\n",
       "    </tr>\n",
       "  </tbody>\n",
       "</table>\n",
       "<p>5 rows × 37 columns</p>\n",
       "</div>"
      ],
      "text/plain": [
       "         Date      GameID  Drive  qtr  TimeUnder  ydstogo  ydsnet  \\\n",
       "0  2009-09-10  2009091000      1    1         15        0       0   \n",
       "1  2009-09-10  2009091000      1    1         15       10       5   \n",
       "2  2009-09-10  2009091000      1    1         15        5       2   \n",
       "3  2009-09-10  2009091000      1    1         14        8       2   \n",
       "4  2009-09-10  2009091000      1    1         14        8       2   \n",
       "\n",
       "   PlayAttempted  Yards.Gained  sp  ...  AwayTeam  Timeout_Indicator  \\\n",
       "0              1            39   0  ...       TEN                  0   \n",
       "1              1             5   0  ...       TEN                  0   \n",
       "2              1            -3   0  ...       TEN                  0   \n",
       "3              1             0   0  ...       TEN                  0   \n",
       "4              1             0   0  ...       TEN                  0   \n",
       "\n",
       "   posteam_timeouts_pre HomeTimeouts_Remaining_Pre  \\\n",
       "0                     3                          3   \n",
       "1                     3                          3   \n",
       "2                     3                          3   \n",
       "3                     3                          3   \n",
       "4                     3                          3   \n",
       "\n",
       "   AwayTimeouts_Remaining_Pre  HomeTimeouts_Remaining_Post  \\\n",
       "0                           3                            3   \n",
       "1                           3                            3   \n",
       "2                           3                            3   \n",
       "3                           3                            3   \n",
       "4                           3                            3   \n",
       "\n",
       "   AwayTimeouts_Remaining_Post  ExPoint_Prob  TwoPoint_Prob  Season  \n",
       "0                            3           0.0            0.0    2009  \n",
       "1                            3           0.0            0.0    2009  \n",
       "2                            3           0.0            0.0    2009  \n",
       "3                            3           0.0            0.0    2009  \n",
       "4                            3           0.0            0.0    2009  \n",
       "\n",
       "[5 rows x 37 columns]"
      ]
     },
     "execution_count": 14,
     "metadata": {},
     "output_type": "execute_result"
    }
   ],
   "source": [
    "cols_without_na = nfl_data.dropna(axis=1)\n",
    "\n",
    "cols_without_na.head()"
   ]
  },
  {
   "cell_type": "code",
   "execution_count": 15,
   "id": "5536c3b2",
   "metadata": {},
   "outputs": [
    {
     "name": "stdout",
     "output_type": "stream",
     "text": [
      "Columns in original_dataset: 102 \n",
      "\n",
      "Columns with NA's dropped: 37 \n"
     ]
    }
   ],
   "source": [
    "print(\"Columns in original_dataset: %d \\n\" % nfl_data.shape[1])\n",
    "\n",
    "print(\"Columns with NA's dropped: %d \" % cols_without_na.shape[1])\n"
   ]
  },
  {
   "cell_type": "code",
   "execution_count": 16,
   "id": "65c15d02",
   "metadata": {},
   "outputs": [
    {
     "data": {
      "application/vnd.microsoft.datawrangler.viewer.v0+json": {
       "columns": [
        {
         "name": "index",
         "rawType": "int64",
         "type": "integer"
        },
        {
         "name": "EPA",
         "rawType": "float64",
         "type": "float"
        },
        {
         "name": "airEPA",
         "rawType": "float64",
         "type": "float"
        },
        {
         "name": "yacEPA",
         "rawType": "float64",
         "type": "float"
        },
        {
         "name": "Home_WP_pre",
         "rawType": "float64",
         "type": "float"
        },
        {
         "name": "Away_WP_pre",
         "rawType": "float64",
         "type": "float"
        },
        {
         "name": "Home_WP_post",
         "rawType": "float64",
         "type": "float"
        },
        {
         "name": "Away_WP_post",
         "rawType": "float64",
         "type": "float"
        },
        {
         "name": "Win_Prob",
         "rawType": "float64",
         "type": "float"
        },
        {
         "name": "WPA",
         "rawType": "float64",
         "type": "float"
        },
        {
         "name": "airWPA",
         "rawType": "float64",
         "type": "float"
        },
        {
         "name": "yacWPA",
         "rawType": "float64",
         "type": "float"
        },
        {
         "name": "Season",
         "rawType": "int64",
         "type": "integer"
        }
       ],
       "conversionMethod": "pd.DataFrame",
       "ref": "47803b43-60a4-4dd1-baf6-de9b6cd5c33f",
       "rows": [
        [
         "0",
         "2.014473905391463",
         null,
         null,
         "0.4856749860969135",
         "0.5143250139030865",
         "0.5464328397122977",
         "0.4535671602877023",
         "0.4856749860969135",
         "0.0607578536153842",
         null,
         null,
         "2009"
        ],
        [
         "1",
         "0.0779071580166195",
         "-1.0681686475721817",
         "1.1460758055888012",
         "0.5464328397122977",
         "0.4535671602877023",
         "0.5510878171614882",
         "0.4489121828385117",
         "0.5464328397122977",
         "0.0046549774491905",
         "-0.0322439869661942",
         "0.0368989644153847",
         "2009"
        ],
        [
         "2",
         "-1.4027598314188183",
         null,
         null,
         "0.5510878171614882",
         "0.4489121828385117",
         "0.5107930906986009",
         "0.4892069093013991",
         "0.5510878171614882",
         "-0.0402947264628873",
         null,
         null,
         "2009"
        ],
        [
         "3",
         "-1.7125834938947782",
         "3.3188410883517703",
         "-5.031424582246548",
         "0.5107930906986009",
         "0.4892069093013991",
         "0.4612171140114365",
         "0.5387828859885635",
         "0.5107930906986009",
         "-0.0495759766871644",
         "0.1066625552993268",
         "-0.1562385319864913",
         "2009"
        ],
        [
         "4",
         "2.097795973997438",
         null,
         null,
         "0.4612171140114365",
         "0.5387828859885635",
         "0.5589294012224711",
         "0.4410705987775288",
         "0.4612171140114365",
         "0.0977122872110346",
         null,
         null,
         "2009"
        ]
       ],
       "shape": {
        "columns": 12,
        "rows": 5
       }
      },
      "text/html": [
       "<div>\n",
       "<style scoped>\n",
       "    .dataframe tbody tr th:only-of-type {\n",
       "        vertical-align: middle;\n",
       "    }\n",
       "\n",
       "    .dataframe tbody tr th {\n",
       "        vertical-align: top;\n",
       "    }\n",
       "\n",
       "    .dataframe thead th {\n",
       "        text-align: right;\n",
       "    }\n",
       "</style>\n",
       "<table border=\"1\" class=\"dataframe\">\n",
       "  <thead>\n",
       "    <tr style=\"text-align: right;\">\n",
       "      <th></th>\n",
       "      <th>EPA</th>\n",
       "      <th>airEPA</th>\n",
       "      <th>yacEPA</th>\n",
       "      <th>Home_WP_pre</th>\n",
       "      <th>Away_WP_pre</th>\n",
       "      <th>Home_WP_post</th>\n",
       "      <th>Away_WP_post</th>\n",
       "      <th>Win_Prob</th>\n",
       "      <th>WPA</th>\n",
       "      <th>airWPA</th>\n",
       "      <th>yacWPA</th>\n",
       "      <th>Season</th>\n",
       "    </tr>\n",
       "  </thead>\n",
       "  <tbody>\n",
       "    <tr>\n",
       "      <th>0</th>\n",
       "      <td>2.014474</td>\n",
       "      <td>NaN</td>\n",
       "      <td>NaN</td>\n",
       "      <td>0.485675</td>\n",
       "      <td>0.514325</td>\n",
       "      <td>0.546433</td>\n",
       "      <td>0.453567</td>\n",
       "      <td>0.485675</td>\n",
       "      <td>0.060758</td>\n",
       "      <td>NaN</td>\n",
       "      <td>NaN</td>\n",
       "      <td>2009</td>\n",
       "    </tr>\n",
       "    <tr>\n",
       "      <th>1</th>\n",
       "      <td>0.077907</td>\n",
       "      <td>-1.068169</td>\n",
       "      <td>1.146076</td>\n",
       "      <td>0.546433</td>\n",
       "      <td>0.453567</td>\n",
       "      <td>0.551088</td>\n",
       "      <td>0.448912</td>\n",
       "      <td>0.546433</td>\n",
       "      <td>0.004655</td>\n",
       "      <td>-0.032244</td>\n",
       "      <td>0.036899</td>\n",
       "      <td>2009</td>\n",
       "    </tr>\n",
       "    <tr>\n",
       "      <th>2</th>\n",
       "      <td>-1.402760</td>\n",
       "      <td>NaN</td>\n",
       "      <td>NaN</td>\n",
       "      <td>0.551088</td>\n",
       "      <td>0.448912</td>\n",
       "      <td>0.510793</td>\n",
       "      <td>0.489207</td>\n",
       "      <td>0.551088</td>\n",
       "      <td>-0.040295</td>\n",
       "      <td>NaN</td>\n",
       "      <td>NaN</td>\n",
       "      <td>2009</td>\n",
       "    </tr>\n",
       "    <tr>\n",
       "      <th>3</th>\n",
       "      <td>-1.712583</td>\n",
       "      <td>3.318841</td>\n",
       "      <td>-5.031425</td>\n",
       "      <td>0.510793</td>\n",
       "      <td>0.489207</td>\n",
       "      <td>0.461217</td>\n",
       "      <td>0.538783</td>\n",
       "      <td>0.510793</td>\n",
       "      <td>-0.049576</td>\n",
       "      <td>0.106663</td>\n",
       "      <td>-0.156239</td>\n",
       "      <td>2009</td>\n",
       "    </tr>\n",
       "    <tr>\n",
       "      <th>4</th>\n",
       "      <td>2.097796</td>\n",
       "      <td>NaN</td>\n",
       "      <td>NaN</td>\n",
       "      <td>0.461217</td>\n",
       "      <td>0.538783</td>\n",
       "      <td>0.558929</td>\n",
       "      <td>0.441071</td>\n",
       "      <td>0.461217</td>\n",
       "      <td>0.097712</td>\n",
       "      <td>NaN</td>\n",
       "      <td>NaN</td>\n",
       "      <td>2009</td>\n",
       "    </tr>\n",
       "  </tbody>\n",
       "</table>\n",
       "</div>"
      ],
      "text/plain": [
       "        EPA    airEPA    yacEPA  Home_WP_pre  Away_WP_pre  Home_WP_post  \\\n",
       "0  2.014474       NaN       NaN     0.485675     0.514325      0.546433   \n",
       "1  0.077907 -1.068169  1.146076     0.546433     0.453567      0.551088   \n",
       "2 -1.402760       NaN       NaN     0.551088     0.448912      0.510793   \n",
       "3 -1.712583  3.318841 -5.031425     0.510793     0.489207      0.461217   \n",
       "4  2.097796       NaN       NaN     0.461217     0.538783      0.558929   \n",
       "\n",
       "   Away_WP_post  Win_Prob       WPA    airWPA    yacWPA  Season  \n",
       "0      0.453567  0.485675  0.060758       NaN       NaN    2009  \n",
       "1      0.448912  0.546433  0.004655 -0.032244  0.036899    2009  \n",
       "2      0.489207  0.551088 -0.040295       NaN       NaN    2009  \n",
       "3      0.538783  0.510793 -0.049576  0.106663 -0.156239    2009  \n",
       "4      0.441071  0.461217  0.097712       NaN       NaN    2009  "
      ]
     },
     "execution_count": 16,
     "metadata": {},
     "output_type": "execute_result"
    }
   ],
   "source": [
    "## Work on: filling in missing data automatically\n",
    "\n",
    "subset_nfl_data = nfl_data.loc[:, 'EPA':'Season'].head()\n",
    "\n",
    "subset_nfl_data"
   ]
  },
  {
   "cell_type": "code",
   "execution_count": 17,
   "id": "5f896f2a",
   "metadata": {},
   "outputs": [
    {
     "data": {
      "application/vnd.microsoft.datawrangler.viewer.v0+json": {
       "columns": [
        {
         "name": "index",
         "rawType": "int64",
         "type": "integer"
        },
        {
         "name": "EPA",
         "rawType": "float64",
         "type": "float"
        },
        {
         "name": "airEPA",
         "rawType": "float64",
         "type": "float"
        },
        {
         "name": "yacEPA",
         "rawType": "float64",
         "type": "float"
        },
        {
         "name": "Home_WP_pre",
         "rawType": "float64",
         "type": "float"
        },
        {
         "name": "Away_WP_pre",
         "rawType": "float64",
         "type": "float"
        },
        {
         "name": "Home_WP_post",
         "rawType": "float64",
         "type": "float"
        },
        {
         "name": "Away_WP_post",
         "rawType": "float64",
         "type": "float"
        },
        {
         "name": "Win_Prob",
         "rawType": "float64",
         "type": "float"
        },
        {
         "name": "WPA",
         "rawType": "float64",
         "type": "float"
        },
        {
         "name": "airWPA",
         "rawType": "float64",
         "type": "float"
        },
        {
         "name": "yacWPA",
         "rawType": "float64",
         "type": "float"
        },
        {
         "name": "Season",
         "rawType": "int64",
         "type": "integer"
        }
       ],
       "conversionMethod": "pd.DataFrame",
       "ref": "ebc8e688-075f-4d2e-9433-ad7d7ce5a961",
       "rows": [
        [
         "0",
         "2.014473905391463",
         "0.0",
         "0.0",
         "0.4856749860969135",
         "0.5143250139030865",
         "0.5464328397122977",
         "0.4535671602877023",
         "0.4856749860969135",
         "0.0607578536153842",
         "0.0",
         "0.0",
         "2009"
        ],
        [
         "1",
         "0.0779071580166195",
         "-1.0681686475721817",
         "1.1460758055888012",
         "0.5464328397122977",
         "0.4535671602877023",
         "0.5510878171614882",
         "0.4489121828385117",
         "0.5464328397122977",
         "0.0046549774491905",
         "-0.0322439869661942",
         "0.0368989644153847",
         "2009"
        ],
        [
         "2",
         "-1.4027598314188183",
         "0.0",
         "0.0",
         "0.5510878171614882",
         "0.4489121828385117",
         "0.5107930906986009",
         "0.4892069093013991",
         "0.5510878171614882",
         "-0.0402947264628873",
         "0.0",
         "0.0",
         "2009"
        ],
        [
         "3",
         "-1.7125834938947782",
         "3.3188410883517703",
         "-5.031424582246548",
         "0.5107930906986009",
         "0.4892069093013991",
         "0.4612171140114365",
         "0.5387828859885635",
         "0.5107930906986009",
         "-0.0495759766871644",
         "0.1066625552993268",
         "-0.1562385319864913",
         "2009"
        ],
        [
         "4",
         "2.097795973997438",
         "0.0",
         "0.0",
         "0.4612171140114365",
         "0.5387828859885635",
         "0.5589294012224711",
         "0.4410705987775288",
         "0.4612171140114365",
         "0.0977122872110346",
         "0.0",
         "0.0",
         "2009"
        ]
       ],
       "shape": {
        "columns": 12,
        "rows": 5
       }
      },
      "text/html": [
       "<div>\n",
       "<style scoped>\n",
       "    .dataframe tbody tr th:only-of-type {\n",
       "        vertical-align: middle;\n",
       "    }\n",
       "\n",
       "    .dataframe tbody tr th {\n",
       "        vertical-align: top;\n",
       "    }\n",
       "\n",
       "    .dataframe thead th {\n",
       "        text-align: right;\n",
       "    }\n",
       "</style>\n",
       "<table border=\"1\" class=\"dataframe\">\n",
       "  <thead>\n",
       "    <tr style=\"text-align: right;\">\n",
       "      <th></th>\n",
       "      <th>EPA</th>\n",
       "      <th>airEPA</th>\n",
       "      <th>yacEPA</th>\n",
       "      <th>Home_WP_pre</th>\n",
       "      <th>Away_WP_pre</th>\n",
       "      <th>Home_WP_post</th>\n",
       "      <th>Away_WP_post</th>\n",
       "      <th>Win_Prob</th>\n",
       "      <th>WPA</th>\n",
       "      <th>airWPA</th>\n",
       "      <th>yacWPA</th>\n",
       "      <th>Season</th>\n",
       "    </tr>\n",
       "  </thead>\n",
       "  <tbody>\n",
       "    <tr>\n",
       "      <th>0</th>\n",
       "      <td>2.014474</td>\n",
       "      <td>0.000000</td>\n",
       "      <td>0.000000</td>\n",
       "      <td>0.485675</td>\n",
       "      <td>0.514325</td>\n",
       "      <td>0.546433</td>\n",
       "      <td>0.453567</td>\n",
       "      <td>0.485675</td>\n",
       "      <td>0.060758</td>\n",
       "      <td>0.000000</td>\n",
       "      <td>0.000000</td>\n",
       "      <td>2009</td>\n",
       "    </tr>\n",
       "    <tr>\n",
       "      <th>1</th>\n",
       "      <td>0.077907</td>\n",
       "      <td>-1.068169</td>\n",
       "      <td>1.146076</td>\n",
       "      <td>0.546433</td>\n",
       "      <td>0.453567</td>\n",
       "      <td>0.551088</td>\n",
       "      <td>0.448912</td>\n",
       "      <td>0.546433</td>\n",
       "      <td>0.004655</td>\n",
       "      <td>-0.032244</td>\n",
       "      <td>0.036899</td>\n",
       "      <td>2009</td>\n",
       "    </tr>\n",
       "    <tr>\n",
       "      <th>2</th>\n",
       "      <td>-1.402760</td>\n",
       "      <td>0.000000</td>\n",
       "      <td>0.000000</td>\n",
       "      <td>0.551088</td>\n",
       "      <td>0.448912</td>\n",
       "      <td>0.510793</td>\n",
       "      <td>0.489207</td>\n",
       "      <td>0.551088</td>\n",
       "      <td>-0.040295</td>\n",
       "      <td>0.000000</td>\n",
       "      <td>0.000000</td>\n",
       "      <td>2009</td>\n",
       "    </tr>\n",
       "    <tr>\n",
       "      <th>3</th>\n",
       "      <td>-1.712583</td>\n",
       "      <td>3.318841</td>\n",
       "      <td>-5.031425</td>\n",
       "      <td>0.510793</td>\n",
       "      <td>0.489207</td>\n",
       "      <td>0.461217</td>\n",
       "      <td>0.538783</td>\n",
       "      <td>0.510793</td>\n",
       "      <td>-0.049576</td>\n",
       "      <td>0.106663</td>\n",
       "      <td>-0.156239</td>\n",
       "      <td>2009</td>\n",
       "    </tr>\n",
       "    <tr>\n",
       "      <th>4</th>\n",
       "      <td>2.097796</td>\n",
       "      <td>0.000000</td>\n",
       "      <td>0.000000</td>\n",
       "      <td>0.461217</td>\n",
       "      <td>0.538783</td>\n",
       "      <td>0.558929</td>\n",
       "      <td>0.441071</td>\n",
       "      <td>0.461217</td>\n",
       "      <td>0.097712</td>\n",
       "      <td>0.000000</td>\n",
       "      <td>0.000000</td>\n",
       "      <td>2009</td>\n",
       "    </tr>\n",
       "  </tbody>\n",
       "</table>\n",
       "</div>"
      ],
      "text/plain": [
       "        EPA    airEPA    yacEPA  Home_WP_pre  Away_WP_pre  Home_WP_post  \\\n",
       "0  2.014474  0.000000  0.000000     0.485675     0.514325      0.546433   \n",
       "1  0.077907 -1.068169  1.146076     0.546433     0.453567      0.551088   \n",
       "2 -1.402760  0.000000  0.000000     0.551088     0.448912      0.510793   \n",
       "3 -1.712583  3.318841 -5.031425     0.510793     0.489207      0.461217   \n",
       "4  2.097796  0.000000  0.000000     0.461217     0.538783      0.558929   \n",
       "\n",
       "   Away_WP_post  Win_Prob       WPA    airWPA    yacWPA  Season  \n",
       "0      0.453567  0.485675  0.060758  0.000000  0.000000    2009  \n",
       "1      0.448912  0.546433  0.004655 -0.032244  0.036899    2009  \n",
       "2      0.489207  0.551088 -0.040295  0.000000  0.000000    2009  \n",
       "3      0.538783  0.510793 -0.049576  0.106663 -0.156239    2009  \n",
       "4      0.441071  0.461217  0.097712  0.000000  0.000000    2009  "
      ]
     },
     "execution_count": 17,
     "metadata": {},
     "output_type": "execute_result"
    }
   ],
   "source": [
    "subset_nfl_data.fillna(0)\n"
   ]
  },
  {
   "cell_type": "code",
   "execution_count": null,
   "id": "44afe5c3",
   "metadata": {},
   "outputs": [
    {
     "name": "stderr",
     "output_type": "stream",
     "text": [
      "/tmp/ipykernel_6943/2064638464.py:1: FutureWarning: DataFrame.fillna with 'method' is deprecated and will raise in a future version. Use obj.ffill() or obj.bfill() instead.\n",
      "  subset_nfl_data.fillna(method='bfill',\n"
     ]
    },
    {
     "data": {
      "application/vnd.microsoft.datawrangler.viewer.v0+json": {
       "columns": [
        {
         "name": "index",
         "rawType": "int64",
         "type": "integer"
        },
        {
         "name": "EPA",
         "rawType": "float64",
         "type": "float"
        },
        {
         "name": "airEPA",
         "rawType": "float64",
         "type": "float"
        },
        {
         "name": "yacEPA",
         "rawType": "float64",
         "type": "float"
        },
        {
         "name": "Home_WP_pre",
         "rawType": "float64",
         "type": "float"
        },
        {
         "name": "Away_WP_pre",
         "rawType": "float64",
         "type": "float"
        },
        {
         "name": "Home_WP_post",
         "rawType": "float64",
         "type": "float"
        },
        {
         "name": "Away_WP_post",
         "rawType": "float64",
         "type": "float"
        },
        {
         "name": "Win_Prob",
         "rawType": "float64",
         "type": "float"
        },
        {
         "name": "WPA",
         "rawType": "float64",
         "type": "float"
        },
        {
         "name": "airWPA",
         "rawType": "float64",
         "type": "float"
        },
        {
         "name": "yacWPA",
         "rawType": "float64",
         "type": "float"
        },
        {
         "name": "Season",
         "rawType": "int64",
         "type": "integer"
        }
       ],
       "conversionMethod": "pd.DataFrame",
       "ref": "e595ca68-4ca0-44f7-a4a1-07c9fa75bc41",
       "rows": [
        [
         "0",
         "2.014473905391463",
         "-1.0681686475721817",
         "1.1460758055888012",
         "0.4856749860969135",
         "0.5143250139030865",
         "0.5464328397122977",
         "0.4535671602877023",
         "0.4856749860969135",
         "0.0607578536153842",
         "-0.0322439869661942",
         "0.0368989644153847",
         "2009"
        ],
        [
         "1",
         "0.0779071580166195",
         "-1.0681686475721817",
         "1.1460758055888012",
         "0.5464328397122977",
         "0.4535671602877023",
         "0.5510878171614882",
         "0.4489121828385117",
         "0.5464328397122977",
         "0.0046549774491905",
         "-0.0322439869661942",
         "0.0368989644153847",
         "2009"
        ],
        [
         "2",
         "-1.4027598314188183",
         "3.3188410883517703",
         "-5.031424582246548",
         "0.5510878171614882",
         "0.4489121828385117",
         "0.5107930906986009",
         "0.4892069093013991",
         "0.5510878171614882",
         "-0.0402947264628873",
         "0.1066625552993268",
         "-0.1562385319864913",
         "2009"
        ],
        [
         "3",
         "-1.7125834938947782",
         "3.3188410883517703",
         "-5.031424582246548",
         "0.5107930906986009",
         "0.4892069093013991",
         "0.4612171140114365",
         "0.5387828859885635",
         "0.5107930906986009",
         "-0.0495759766871644",
         "0.1066625552993268",
         "-0.1562385319864913",
         "2009"
        ],
        [
         "4",
         "2.097795973997438",
         "0.0",
         "0.0",
         "0.4612171140114365",
         "0.5387828859885635",
         "0.5589294012224711",
         "0.4410705987775288",
         "0.4612171140114365",
         "0.0977122872110346",
         "0.0",
         "0.0",
         "2009"
        ]
       ],
       "shape": {
        "columns": 12,
        "rows": 5
       }
      },
      "text/html": [
       "<div>\n",
       "<style scoped>\n",
       "    .dataframe tbody tr th:only-of-type {\n",
       "        vertical-align: middle;\n",
       "    }\n",
       "\n",
       "    .dataframe tbody tr th {\n",
       "        vertical-align: top;\n",
       "    }\n",
       "\n",
       "    .dataframe thead th {\n",
       "        text-align: right;\n",
       "    }\n",
       "</style>\n",
       "<table border=\"1\" class=\"dataframe\">\n",
       "  <thead>\n",
       "    <tr style=\"text-align: right;\">\n",
       "      <th></th>\n",
       "      <th>EPA</th>\n",
       "      <th>airEPA</th>\n",
       "      <th>yacEPA</th>\n",
       "      <th>Home_WP_pre</th>\n",
       "      <th>Away_WP_pre</th>\n",
       "      <th>Home_WP_post</th>\n",
       "      <th>Away_WP_post</th>\n",
       "      <th>Win_Prob</th>\n",
       "      <th>WPA</th>\n",
       "      <th>airWPA</th>\n",
       "      <th>yacWPA</th>\n",
       "      <th>Season</th>\n",
       "    </tr>\n",
       "  </thead>\n",
       "  <tbody>\n",
       "    <tr>\n",
       "      <th>0</th>\n",
       "      <td>2.014474</td>\n",
       "      <td>-1.068169</td>\n",
       "      <td>1.146076</td>\n",
       "      <td>0.485675</td>\n",
       "      <td>0.514325</td>\n",
       "      <td>0.546433</td>\n",
       "      <td>0.453567</td>\n",
       "      <td>0.485675</td>\n",
       "      <td>0.060758</td>\n",
       "      <td>-0.032244</td>\n",
       "      <td>0.036899</td>\n",
       "      <td>2009</td>\n",
       "    </tr>\n",
       "    <tr>\n",
       "      <th>1</th>\n",
       "      <td>0.077907</td>\n",
       "      <td>-1.068169</td>\n",
       "      <td>1.146076</td>\n",
       "      <td>0.546433</td>\n",
       "      <td>0.453567</td>\n",
       "      <td>0.551088</td>\n",
       "      <td>0.448912</td>\n",
       "      <td>0.546433</td>\n",
       "      <td>0.004655</td>\n",
       "      <td>-0.032244</td>\n",
       "      <td>0.036899</td>\n",
       "      <td>2009</td>\n",
       "    </tr>\n",
       "    <tr>\n",
       "      <th>2</th>\n",
       "      <td>-1.402760</td>\n",
       "      <td>3.318841</td>\n",
       "      <td>-5.031425</td>\n",
       "      <td>0.551088</td>\n",
       "      <td>0.448912</td>\n",
       "      <td>0.510793</td>\n",
       "      <td>0.489207</td>\n",
       "      <td>0.551088</td>\n",
       "      <td>-0.040295</td>\n",
       "      <td>0.106663</td>\n",
       "      <td>-0.156239</td>\n",
       "      <td>2009</td>\n",
       "    </tr>\n",
       "    <tr>\n",
       "      <th>3</th>\n",
       "      <td>-1.712583</td>\n",
       "      <td>3.318841</td>\n",
       "      <td>-5.031425</td>\n",
       "      <td>0.510793</td>\n",
       "      <td>0.489207</td>\n",
       "      <td>0.461217</td>\n",
       "      <td>0.538783</td>\n",
       "      <td>0.510793</td>\n",
       "      <td>-0.049576</td>\n",
       "      <td>0.106663</td>\n",
       "      <td>-0.156239</td>\n",
       "      <td>2009</td>\n",
       "    </tr>\n",
       "    <tr>\n",
       "      <th>4</th>\n",
       "      <td>2.097796</td>\n",
       "      <td>0.000000</td>\n",
       "      <td>0.000000</td>\n",
       "      <td>0.461217</td>\n",
       "      <td>0.538783</td>\n",
       "      <td>0.558929</td>\n",
       "      <td>0.441071</td>\n",
       "      <td>0.461217</td>\n",
       "      <td>0.097712</td>\n",
       "      <td>0.000000</td>\n",
       "      <td>0.000000</td>\n",
       "      <td>2009</td>\n",
       "    </tr>\n",
       "  </tbody>\n",
       "</table>\n",
       "</div>"
      ],
      "text/plain": [
       "        EPA    airEPA    yacEPA  Home_WP_pre  Away_WP_pre  Home_WP_post  \\\n",
       "0  2.014474 -1.068169  1.146076     0.485675     0.514325      0.546433   \n",
       "1  0.077907 -1.068169  1.146076     0.546433     0.453567      0.551088   \n",
       "2 -1.402760  3.318841 -5.031425     0.551088     0.448912      0.510793   \n",
       "3 -1.712583  3.318841 -5.031425     0.510793     0.489207      0.461217   \n",
       "4  2.097796  0.000000  0.000000     0.461217     0.538783      0.558929   \n",
       "\n",
       "   Away_WP_post  Win_Prob       WPA    airWPA    yacWPA  Season  \n",
       "0      0.453567  0.485675  0.060758 -0.032244  0.036899    2009  \n",
       "1      0.448912  0.546433  0.004655 -0.032244  0.036899    2009  \n",
       "2      0.489207  0.551088 -0.040295  0.106663 -0.156239    2009  \n",
       "3      0.538783  0.510793 -0.049576  0.106663 -0.156239    2009  \n",
       "4      0.441071  0.461217  0.097712  0.000000  0.000000    2009  "
      ]
     },
     "execution_count": 18,
     "metadata": {},
     "output_type": "execute_result"
    }
   ],
   "source": [
    "subset_nfl_data.fillna(method='bfill', # replace NA's with value that comes directly after it, else 0's\n",
    "                       axis=0).fillna(0)"
   ]
  },
  {
   "cell_type": "code",
   "execution_count": 19,
   "id": "f8d6cf1a",
   "metadata": {},
   "outputs": [],
   "source": [
    "del subset_nfl_data, cols_without_na, missing_val_ct, nfl_data\n"
   ]
  },
  {
   "cell_type": "markdown",
   "id": "248ac920",
   "metadata": {},
   "source": [
    "---\n",
    "\n",
    "### II. Scaling & Normalization"
   ]
  },
  {
   "cell_type": "code",
   "execution_count": 4,
   "id": "ee29d683",
   "metadata": {},
   "outputs": [
    {
     "data": {
      "image/png": "[encoded data removed]",
      "text/plain": [
       "<Figure size 1200x300 with 2 Axes>"
      ]
     },
     "metadata": {},
     "output_type": "display_data"
    }
   ],
   "source": [
    "## Visualizing Scaling\n",
    "\n",
    "original_data = np.random.exponential(size=5000)\n",
    "scaled_data   = minmax_scaling(original_data, columns=[0])\n",
    "\n",
    "fig, ax = plt.subplots(1, 2, figsize=(12,3))\n",
    "\n",
    "sns.histplot(data = original_data,\n",
    "             ax = ax[0],\n",
    "             kde = True, legend = False)\n",
    "ax[0].set_title(\"Original Data\")\n",
    "\n",
    "sns.histplot(data = scaled_data,\n",
    "             ax = ax[1],\n",
    "             kde = True, legend = False)\n",
    "ax[1].set_title(\"Scaled Data\")\n",
    "\n",
    "plt.tight_layout()\n",
    "plt.show()\n",
    "plt.clf\n",
    "\n",
    "del original_data, scaled_data"
   ]
  },
  {
   "cell_type": "code",
   "execution_count": 6,
   "id": "e56b6ee9",
   "metadata": {},
   "outputs": [
    {
     "data": {
      "image/png": "[encoded data removed]",
      "text/plain": [
       "<Figure size 1200x300 with 2 Axes>"
      ]
     },
     "metadata": {},
     "output_type": "display_data"
    }
   ],
   "source": [
    "## Visualizating Normalization\n",
    "\n",
    "original_data = np.random.exponential(size=5000)\n",
    "\n",
    "#-!- use of the Box-Cox Transformation technique\n",
    "norm_data     = stats.boxcox(original_data)\n",
    "\n",
    "fig, ax = plt.subplots(1, 2, figsize=(12,3))\n",
    "\n",
    "sns.histplot(data = original_data,\n",
    "             ax = ax[0],\n",
    "             kde = True, legend = False)\n",
    "ax[0].set_title(\"Original Data\")\n",
    "\n",
    "sns.histplot(data = norm_data,\n",
    "             ax = ax[1],\n",
    "             kde = True, legend = False)\n",
    "ax[1].set_title(\"Normalized Data\")\n",
    "\n",
    "plt.tight_layout()\n",
    "plt.show()\n",
    "plt.clf\n",
    "\n",
    "del original_data, norm_data\n"
   ]
  },
  {
   "cell_type": "code",
   "execution_count": 7,
   "id": "ed93da8f",
   "metadata": {},
   "outputs": [
    {
     "name": "stderr",
     "output_type": "stream",
     "text": [
      "/tmp/ipykernel_12457/2020199703.py:4: DtypeWarning: Columns (7,8,18,25) have mixed types. Specify dtype option on import or set low_memory=False.\n",
      "  df = pd.read_csv(datapath + '/ww2_summary_weather_conditions.csv')\n"
     ]
    },
    {
     "data": {
      "application/vnd.microsoft.datawrangler.viewer.v0+json": {
       "columns": [
        {
         "name": "index",
         "rawType": "int64",
         "type": "integer"
        },
        {
         "name": "STA",
         "rawType": "int64",
         "type": "integer"
        },
        {
         "name": "Date",
         "rawType": "object",
         "type": "string"
        },
        {
         "name": "Precip",
         "rawType": "object",
         "type": "string"
        },
        {
         "name": "WindGustSpd",
         "rawType": "float64",
         "type": "float"
        },
        {
         "name": "MaxTemp",
         "rawType": "float64",
         "type": "float"
        },
        {
         "name": "MinTemp",
         "rawType": "float64",
         "type": "float"
        },
        {
         "name": "MeanTemp",
         "rawType": "float64",
         "type": "float"
        },
        {
         "name": "Snowfall",
         "rawType": "object",
         "type": "unknown"
        },
        {
         "name": "PoorWeather",
         "rawType": "object",
         "type": "unknown"
        },
        {
         "name": "YR",
         "rawType": "int64",
         "type": "integer"
        },
        {
         "name": "MO",
         "rawType": "int64",
         "type": "integer"
        },
        {
         "name": "DA",
         "rawType": "int64",
         "type": "integer"
        },
        {
         "name": "PRCP",
         "rawType": "object",
         "type": "string"
        },
        {
         "name": "DR",
         "rawType": "float64",
         "type": "float"
        },
        {
         "name": "SPD",
         "rawType": "float64",
         "type": "float"
        },
        {
         "name": "MAX",
         "rawType": "float64",
         "type": "float"
        },
        {
         "name": "MIN",
         "rawType": "float64",
         "type": "float"
        },
        {
         "name": "MEA",
         "rawType": "float64",
         "type": "float"
        },
        {
         "name": "SNF",
         "rawType": "object",
         "type": "unknown"
        },
        {
         "name": "SND",
         "rawType": "float64",
         "type": "float"
        },
        {
         "name": "FT",
         "rawType": "float64",
         "type": "float"
        },
        {
         "name": "FB",
         "rawType": "float64",
         "type": "float"
        },
        {
         "name": "FTI",
         "rawType": "float64",
         "type": "float"
        },
        {
         "name": "ITH",
         "rawType": "float64",
         "type": "float"
        },
        {
         "name": "PGT",
         "rawType": "float64",
         "type": "float"
        },
        {
         "name": "TSHDSBRSGF",
         "rawType": "object",
         "type": "unknown"
        },
        {
         "name": "SD3",
         "rawType": "float64",
         "type": "float"
        },
        {
         "name": "RHX",
         "rawType": "float64",
         "type": "float"
        },
        {
         "name": "RHN",
         "rawType": "float64",
         "type": "float"
        },
        {
         "name": "RVG",
         "rawType": "float64",
         "type": "float"
        },
        {
         "name": "WTE",
         "rawType": "float64",
         "type": "float"
        }
       ],
       "conversionMethod": "pd.DataFrame",
       "ref": "ef87fa59-dc1b-43b9-aff7-271974411b34",
       "rows": [
        [
         "0",
         "10001",
         "1942-7-1",
         "1.016",
         null,
         "25.55555556",
         "22.22222222",
         "23.88888889",
         "0.0",
         null,
         "42",
         "7",
         "1",
         "0.04",
         null,
         null,
         "78.0",
         "72.0",
         "75.0",
         "0.0",
         null,
         null,
         null,
         null,
         null,
         null,
         null,
         null,
         null,
         null,
         null,
         null
        ],
        [
         "1",
         "10001",
         "1942-7-2",
         "0",
         null,
         "28.88888889",
         "21.66666667",
         "25.55555556",
         "0.0",
         null,
         "42",
         "7",
         "2",
         "0",
         null,
         null,
         "84.0",
         "71.0",
         "78.0",
         "0.0",
         null,
         null,
         null,
         null,
         null,
         null,
         null,
         null,
         null,
         null,
         null,
         null
        ],
        [
         "2",
         "10001",
         "1942-7-3",
         "2.54",
         null,
         "26.11111111",
         "22.22222222",
         "24.44444444",
         "0.0",
         null,
         "42",
         "7",
         "3",
         "0.1",
         null,
         null,
         "79.0",
         "72.0",
         "76.0",
         "0.0",
         null,
         null,
         null,
         null,
         null,
         null,
         null,
         null,
         null,
         null,
         null,
         null
        ],
        [
         "3",
         "10001",
         "1942-7-4",
         "2.54",
         null,
         "26.66666667",
         "22.22222222",
         "24.44444444",
         "0.0",
         null,
         "42",
         "7",
         "4",
         "0.1",
         null,
         null,
         "80.0",
         "72.0",
         "76.0",
         "0.0",
         null,
         null,
         null,
         null,
         null,
         null,
         null,
         null,
         null,
         null,
         null,
         null
        ],
        [
         "4",
         "10001",
         "1942-7-5",
         "0",
         null,
         "26.66666667",
         "21.66666667",
         "24.44444444",
         "0.0",
         null,
         "42",
         "7",
         "5",
         "0",
         null,
         null,
         "80.0",
         "71.0",
         "76.0",
         "0.0",
         null,
         null,
         null,
         null,
         null,
         null,
         null,
         null,
         null,
         null,
         null,
         null
        ]
       ],
       "shape": {
        "columns": 31,
        "rows": 5
       }
      },
      "text/html": [
       "<div>\n",
       "<style scoped>\n",
       "    .dataframe tbody tr th:only-of-type {\n",
       "        vertical-align: middle;\n",
       "    }\n",
       "\n",
       "    .dataframe tbody tr th {\n",
       "        vertical-align: top;\n",
       "    }\n",
       "\n",
       "    .dataframe thead th {\n",
       "        text-align: right;\n",
       "    }\n",
       "</style>\n",
       "<table border=\"1\" class=\"dataframe\">\n",
       "  <thead>\n",
       "    <tr style=\"text-align: right;\">\n",
       "      <th></th>\n",
       "      <th>STA</th>\n",
       "      <th>Date</th>\n",
       "      <th>Precip</th>\n",
       "      <th>WindGustSpd</th>\n",
       "      <th>MaxTemp</th>\n",
       "      <th>MinTemp</th>\n",
       "      <th>MeanTemp</th>\n",
       "      <th>Snowfall</th>\n",
       "      <th>PoorWeather</th>\n",
       "      <th>YR</th>\n",
       "      <th>...</th>\n",
       "      <th>FB</th>\n",
       "      <th>FTI</th>\n",
       "      <th>ITH</th>\n",
       "      <th>PGT</th>\n",
       "      <th>TSHDSBRSGF</th>\n",
       "      <th>SD3</th>\n",
       "      <th>RHX</th>\n",
       "      <th>RHN</th>\n",
       "      <th>RVG</th>\n",
       "      <th>WTE</th>\n",
       "    </tr>\n",
       "  </thead>\n",
       "  <tbody>\n",
       "    <tr>\n",
       "      <th>0</th>\n",
       "      <td>10001</td>\n",
       "      <td>1942-7-1</td>\n",
       "      <td>1.016</td>\n",
       "      <td>NaN</td>\n",
       "      <td>25.555556</td>\n",
       "      <td>22.222222</td>\n",
       "      <td>23.888889</td>\n",
       "      <td>0.0</td>\n",
       "      <td>NaN</td>\n",
       "      <td>42</td>\n",
       "      <td>...</td>\n",
       "      <td>NaN</td>\n",
       "      <td>NaN</td>\n",
       "      <td>NaN</td>\n",
       "      <td>NaN</td>\n",
       "      <td>NaN</td>\n",
       "      <td>NaN</td>\n",
       "      <td>NaN</td>\n",
       "      <td>NaN</td>\n",
       "      <td>NaN</td>\n",
       "      <td>NaN</td>\n",
       "    </tr>\n",
       "    <tr>\n",
       "      <th>1</th>\n",
       "      <td>10001</td>\n",
       "      <td>1942-7-2</td>\n",
       "      <td>0</td>\n",
       "      <td>NaN</td>\n",
       "      <td>28.888889</td>\n",
       "      <td>21.666667</td>\n",
       "      <td>25.555556</td>\n",
       "      <td>0.0</td>\n",
       "      <td>NaN</td>\n",
       "      <td>42</td>\n",
       "      <td>...</td>\n",
       "      <td>NaN</td>\n",
       "      <td>NaN</td>\n",
       "      <td>NaN</td>\n",
       "      <td>NaN</td>\n",
       "      <td>NaN</td>\n",
       "      <td>NaN</td>\n",
       "      <td>NaN</td>\n",
       "      <td>NaN</td>\n",
       "      <td>NaN</td>\n",
       "      <td>NaN</td>\n",
       "    </tr>\n",
       "    <tr>\n",
       "      <th>2</th>\n",
       "      <td>10001</td>\n",
       "      <td>1942-7-3</td>\n",
       "      <td>2.54</td>\n",
       "      <td>NaN</td>\n",
       "      <td>26.111111</td>\n",
       "      <td>22.222222</td>\n",
       "      <td>24.444444</td>\n",
       "      <td>0.0</td>\n",
       "      <td>NaN</td>\n",
       "      <td>42</td>\n",
       "      <td>...</td>\n",
       "      <td>NaN</td>\n",
       "      <td>NaN</td>\n",
       "      <td>NaN</td>\n",
       "      <td>NaN</td>\n",
       "      <td>NaN</td>\n",
       "      <td>NaN</td>\n",
       "      <td>NaN</td>\n",
       "      <td>NaN</td>\n",
       "      <td>NaN</td>\n",
       "      <td>NaN</td>\n",
       "    </tr>\n",
       "    <tr>\n",
       "      <th>3</th>\n",
       "      <td>10001</td>\n",
       "      <td>1942-7-4</td>\n",
       "      <td>2.54</td>\n",
       "      <td>NaN</td>\n",
       "      <td>26.666667</td>\n",
       "      <td>22.222222</td>\n",
       "      <td>24.444444</td>\n",
       "      <td>0.0</td>\n",
       "      <td>NaN</td>\n",
       "      <td>42</td>\n",
       "      <td>...</td>\n",
       "      <td>NaN</td>\n",
       "      <td>NaN</td>\n",
       "      <td>NaN</td>\n",
       "      <td>NaN</td>\n",
       "      <td>NaN</td>\n",
       "      <td>NaN</td>\n",
       "      <td>NaN</td>\n",
       "      <td>NaN</td>\n",
       "      <td>NaN</td>\n",
       "      <td>NaN</td>\n",
       "    </tr>\n",
       "    <tr>\n",
       "      <th>4</th>\n",
       "      <td>10001</td>\n",
       "      <td>1942-7-5</td>\n",
       "      <td>0</td>\n",
       "      <td>NaN</td>\n",
       "      <td>26.666667</td>\n",
       "      <td>21.666667</td>\n",
       "      <td>24.444444</td>\n",
       "      <td>0.0</td>\n",
       "      <td>NaN</td>\n",
       "      <td>42</td>\n",
       "      <td>...</td>\n",
       "      <td>NaN</td>\n",
       "      <td>NaN</td>\n",
       "      <td>NaN</td>\n",
       "      <td>NaN</td>\n",
       "      <td>NaN</td>\n",
       "      <td>NaN</td>\n",
       "      <td>NaN</td>\n",
       "      <td>NaN</td>\n",
       "      <td>NaN</td>\n",
       "      <td>NaN</td>\n",
       "    </tr>\n",
       "  </tbody>\n",
       "</table>\n",
       "<p>5 rows × 31 columns</p>\n",
       "</div>"
      ],
      "text/plain": [
       "     STA      Date Precip  WindGustSpd    MaxTemp    MinTemp   MeanTemp  \\\n",
       "0  10001  1942-7-1  1.016          NaN  25.555556  22.222222  23.888889   \n",
       "1  10001  1942-7-2      0          NaN  28.888889  21.666667  25.555556   \n",
       "2  10001  1942-7-3   2.54          NaN  26.111111  22.222222  24.444444   \n",
       "3  10001  1942-7-4   2.54          NaN  26.666667  22.222222  24.444444   \n",
       "4  10001  1942-7-5      0          NaN  26.666667  21.666667  24.444444   \n",
       "\n",
       "  Snowfall PoorWeather  YR  ...  FB  FTI ITH  PGT  TSHDSBRSGF  SD3  RHX  RHN  \\\n",
       "0      0.0         NaN  42  ... NaN  NaN NaN  NaN         NaN  NaN  NaN  NaN   \n",
       "1      0.0         NaN  42  ... NaN  NaN NaN  NaN         NaN  NaN  NaN  NaN   \n",
       "2      0.0         NaN  42  ... NaN  NaN NaN  NaN         NaN  NaN  NaN  NaN   \n",
       "3      0.0         NaN  42  ... NaN  NaN NaN  NaN         NaN  NaN  NaN  NaN   \n",
       "4      0.0         NaN  42  ... NaN  NaN NaN  NaN         NaN  NaN  NaN  NaN   \n",
       "\n",
       "  RVG  WTE  \n",
       "0 NaN  NaN  \n",
       "1 NaN  NaN  \n",
       "2 NaN  NaN  \n",
       "3 NaN  NaN  \n",
       "4 NaN  NaN  \n",
       "\n",
       "[5 rows x 31 columns]"
      ]
     },
     "execution_count": 7,
     "metadata": {},
     "output_type": "execute_result"
    }
   ],
   "source": [
    "## Play with real data\n",
    "## Which columns should I scale, and which should I normalize?\n",
    "\n",
    "df = pd.read_csv(datapath + '/ww2_summary_weather_conditions.csv')\n",
    "df.head()"
   ]
  },
  {
   "cell_type": "code",
   "execution_count": 19,
   "id": "65352104",
   "metadata": {},
   "outputs": [
    {
     "data": {
      "text/plain": [
       "STA\n",
       "22508    2192\n",
       "10701    2185\n",
       "22502    2154\n",
       "22504    2118\n",
       "10803    1750\n",
       "         ... \n",
       "42206      50\n",
       "33123      47\n",
       "43307      46\n",
       "34101      31\n",
       "33121      13\n",
       "Name: count, Length: 159, dtype: int64"
      ]
     },
     "execution_count": 19,
     "metadata": {},
     "output_type": "execute_result"
    }
   ],
   "source": [
    "df[\"STA\"].value_counts()"
   ]
  },
  {
   "cell_type": "code",
   "execution_count": 27,
   "id": "0ae7cc94",
   "metadata": {},
   "outputs": [
    {
     "data": {
      "image/png": "[encoded data removed]",
      "text/plain": [
       "<Figure size 640x480 with 1 Axes>"
      ]
     },
     "metadata": {},
     "output_type": "display_data"
    },
    {
     "data": {
      "text/plain": [
       "<Figure size 640x480 with 0 Axes>"
      ]
     },
     "metadata": {},
     "output_type": "display_data"
    }
   ],
   "source": [
    "STANS = [22508, 10701, 22502, 22504, 10803]\n",
    "sns.histplot(data = df[df.STA.isin(STANS)].MeanTemp, kde=True)\n",
    "plt.show()\n",
    "plt.clf()"
   ]
  },
  {
   "cell_type": "code",
   "execution_count": 28,
   "id": "bf405142",
   "metadata": {},
   "outputs": [],
   "source": [
    "del df"
   ]
  },
  {
   "cell_type": "markdown",
   "id": "acecba18",
   "metadata": {},
   "source": [
    "---\n",
    "\n",
    "### III. Parsing Data"
   ]
  },
  {
   "cell_type": "code",
   "execution_count": 30,
   "id": "4470adb1",
   "metadata": {},
   "outputs": [
    {
     "data": {
      "application/vnd.microsoft.datawrangler.viewer.v0+json": {
       "columns": [
        {
         "name": "index",
         "rawType": "int64",
         "type": "integer"
        },
        {
         "name": "id",
         "rawType": "int64",
         "type": "integer"
        },
        {
         "name": "date",
         "rawType": "object",
         "type": "string"
        },
        {
         "name": "time",
         "rawType": "object",
         "type": "unknown"
        },
        {
         "name": "continent_code",
         "rawType": "object",
         "type": "unknown"
        },
        {
         "name": "country_name",
         "rawType": "object",
         "type": "string"
        },
        {
         "name": "country_code",
         "rawType": "object",
         "type": "string"
        },
        {
         "name": "state/province",
         "rawType": "object",
         "type": "string"
        },
        {
         "name": "population",
         "rawType": "int64",
         "type": "integer"
        },
        {
         "name": "city/town",
         "rawType": "object",
         "type": "string"
        },
        {
         "name": "distance",
         "rawType": "float64",
         "type": "float"
        },
        {
         "name": "location_description",
         "rawType": "object",
         "type": "unknown"
        },
        {
         "name": "latitude",
         "rawType": "float64",
         "type": "float"
        },
        {
         "name": "longitude",
         "rawType": "float64",
         "type": "float"
        },
        {
         "name": "geolocation",
         "rawType": "object",
         "type": "string"
        },
        {
         "name": "hazard_type",
         "rawType": "object",
         "type": "string"
        },
        {
         "name": "landslide_type",
         "rawType": "object",
         "type": "string"
        },
        {
         "name": "landslide_size",
         "rawType": "object",
         "type": "string"
        },
        {
         "name": "trigger",
         "rawType": "object",
         "type": "string"
        },
        {
         "name": "storm_name",
         "rawType": "object",
         "type": "unknown"
        },
        {
         "name": "injuries",
         "rawType": "float64",
         "type": "float"
        },
        {
         "name": "fatalities",
         "rawType": "float64",
         "type": "float"
        },
        {
         "name": "source_name",
         "rawType": "object",
         "type": "string"
        },
        {
         "name": "source_link",
         "rawType": "object",
         "type": "unknown"
        }
       ],
       "conversionMethod": "pd.DataFrame",
       "ref": "837cefc1-e87d-4ddf-ad20-f92c5b852f80",
       "rows": [
        [
         "0",
         "34",
         "3/2/07",
         "Night",
         null,
         "United States",
         "US",
         "Virginia",
         "16000",
         "Cherry Hill",
         "3.40765",
         "Unknown",
         "38.6009",
         "-77.2682",
         "(38.600900000000003, -77.268199999999993)",
         "Landslide",
         "Landslide",
         "Small",
         "Rain",
         null,
         null,
         null,
         "NBC 4 news",
         "http://www.nbc4.com/news/11186871/detail.html"
        ],
        [
         "1",
         "42",
         "3/22/07",
         null,
         null,
         "United States",
         "US",
         "Ohio",
         "17288",
         "New Philadelphia",
         "3.33522",
         null,
         "40.5175",
         "-81.4305",
         "(40.517499999999998, -81.430499999999995)",
         "Landslide",
         "Landslide",
         "Small",
         "Rain",
         null,
         null,
         null,
         "Canton Rep.com",
         "http://www.cantonrep.com/index.php?ID=345054&Category=9&subCategoryID=0"
        ],
        [
         "2",
         "56",
         "4/6/07",
         null,
         null,
         "United States",
         "US",
         "Pennsylvania",
         "15930",
         "Wilkinsburg",
         "2.91977",
         "Urban area",
         "40.4377",
         "-79.916",
         "(40.4377, -79.915999999999997)",
         "Landslide",
         "Landslide",
         "Small",
         "Rain",
         null,
         null,
         null,
         "The Pittsburgh Channel.com",
         "https://web.archive.org/web/20080423132842/http://www.thepittsburghchannel.com/news/11846833/detail.html"
        ],
        [
         "3",
         "59",
         "4/14/07",
         null,
         null,
         "Canada",
         "CA",
         "Quebec",
         "42786",
         "Châteauguay",
         "2.98682",
         "Above river",
         "45.3226",
         "-73.7771",
         "(45.322600000000001, -73.777100000000004)",
         "Landslide",
         "Riverbank collapse",
         "Small",
         "Rain",
         null,
         null,
         null,
         "Le Soleil",
         "http://www.hebdos.net/lsc/edition162007/articles.asp?article_id=166976"
        ],
        [
         "4",
         "61",
         "4/15/07",
         null,
         null,
         "United States",
         "US",
         "Kentucky",
         "6903",
         "Pikeville",
         "5.66542",
         "Below road",
         "37.4325",
         "-82.4931",
         "(37.432499999999997, -82.493099999999998)",
         "Landslide",
         "Landslide",
         "Small",
         "Downpour",
         null,
         null,
         "0.0",
         "Matthew Crawford (KGS)",
         null
        ]
       ],
       "shape": {
        "columns": 23,
        "rows": 5
       }
      },
      "text/html": [
       "<div>\n",
       "<style scoped>\n",
       "    .dataframe tbody tr th:only-of-type {\n",
       "        vertical-align: middle;\n",
       "    }\n",
       "\n",
       "    .dataframe tbody tr th {\n",
       "        vertical-align: top;\n",
       "    }\n",
       "\n",
       "    .dataframe thead th {\n",
       "        text-align: right;\n",
       "    }\n",
       "</style>\n",
       "<table border=\"1\" class=\"dataframe\">\n",
       "  <thead>\n",
       "    <tr style=\"text-align: right;\">\n",
       "      <th></th>\n",
       "      <th>id</th>\n",
       "      <th>date</th>\n",
       "      <th>time</th>\n",
       "      <th>continent_code</th>\n",
       "      <th>country_name</th>\n",
       "      <th>country_code</th>\n",
       "      <th>state/province</th>\n",
       "      <th>population</th>\n",
       "      <th>city/town</th>\n",
       "      <th>distance</th>\n",
       "      <th>...</th>\n",
       "      <th>geolocation</th>\n",
       "      <th>hazard_type</th>\n",
       "      <th>landslide_type</th>\n",
       "      <th>landslide_size</th>\n",
       "      <th>trigger</th>\n",
       "      <th>storm_name</th>\n",
       "      <th>injuries</th>\n",
       "      <th>fatalities</th>\n",
       "      <th>source_name</th>\n",
       "      <th>source_link</th>\n",
       "    </tr>\n",
       "  </thead>\n",
       "  <tbody>\n",
       "    <tr>\n",
       "      <th>0</th>\n",
       "      <td>34</td>\n",
       "      <td>3/2/07</td>\n",
       "      <td>Night</td>\n",
       "      <td>NaN</td>\n",
       "      <td>United States</td>\n",
       "      <td>US</td>\n",
       "      <td>Virginia</td>\n",
       "      <td>16000</td>\n",
       "      <td>Cherry Hill</td>\n",
       "      <td>3.40765</td>\n",
       "      <td>...</td>\n",
       "      <td>(38.600900000000003, -77.268199999999993)</td>\n",
       "      <td>Landslide</td>\n",
       "      <td>Landslide</td>\n",
       "      <td>Small</td>\n",
       "      <td>Rain</td>\n",
       "      <td>NaN</td>\n",
       "      <td>NaN</td>\n",
       "      <td>NaN</td>\n",
       "      <td>NBC 4 news</td>\n",
       "      <td>http://www.nbc4.com/news/11186871/detail.html</td>\n",
       "    </tr>\n",
       "    <tr>\n",
       "      <th>1</th>\n",
       "      <td>42</td>\n",
       "      <td>3/22/07</td>\n",
       "      <td>NaN</td>\n",
       "      <td>NaN</td>\n",
       "      <td>United States</td>\n",
       "      <td>US</td>\n",
       "      <td>Ohio</td>\n",
       "      <td>17288</td>\n",
       "      <td>New Philadelphia</td>\n",
       "      <td>3.33522</td>\n",
       "      <td>...</td>\n",
       "      <td>(40.517499999999998, -81.430499999999995)</td>\n",
       "      <td>Landslide</td>\n",
       "      <td>Landslide</td>\n",
       "      <td>Small</td>\n",
       "      <td>Rain</td>\n",
       "      <td>NaN</td>\n",
       "      <td>NaN</td>\n",
       "      <td>NaN</td>\n",
       "      <td>Canton Rep.com</td>\n",
       "      <td>http://www.cantonrep.com/index.php?ID=345054&amp;C...</td>\n",
       "    </tr>\n",
       "    <tr>\n",
       "      <th>2</th>\n",
       "      <td>56</td>\n",
       "      <td>4/6/07</td>\n",
       "      <td>NaN</td>\n",
       "      <td>NaN</td>\n",
       "      <td>United States</td>\n",
       "      <td>US</td>\n",
       "      <td>Pennsylvania</td>\n",
       "      <td>15930</td>\n",
       "      <td>Wilkinsburg</td>\n",
       "      <td>2.91977</td>\n",
       "      <td>...</td>\n",
       "      <td>(40.4377, -79.915999999999997)</td>\n",
       "      <td>Landslide</td>\n",
       "      <td>Landslide</td>\n",
       "      <td>Small</td>\n",
       "      <td>Rain</td>\n",
       "      <td>NaN</td>\n",
       "      <td>NaN</td>\n",
       "      <td>NaN</td>\n",
       "      <td>The Pittsburgh Channel.com</td>\n",
       "      <td>https://web.archive.org/web/20080423132842/htt...</td>\n",
       "    </tr>\n",
       "    <tr>\n",
       "      <th>3</th>\n",
       "      <td>59</td>\n",
       "      <td>4/14/07</td>\n",
       "      <td>NaN</td>\n",
       "      <td>NaN</td>\n",
       "      <td>Canada</td>\n",
       "      <td>CA</td>\n",
       "      <td>Quebec</td>\n",
       "      <td>42786</td>\n",
       "      <td>Châteauguay</td>\n",
       "      <td>2.98682</td>\n",
       "      <td>...</td>\n",
       "      <td>(45.322600000000001, -73.777100000000004)</td>\n",
       "      <td>Landslide</td>\n",
       "      <td>Riverbank collapse</td>\n",
       "      <td>Small</td>\n",
       "      <td>Rain</td>\n",
       "      <td>NaN</td>\n",
       "      <td>NaN</td>\n",
       "      <td>NaN</td>\n",
       "      <td>Le Soleil</td>\n",
       "      <td>http://www.hebdos.net/lsc/edition162007/articl...</td>\n",
       "    </tr>\n",
       "    <tr>\n",
       "      <th>4</th>\n",
       "      <td>61</td>\n",
       "      <td>4/15/07</td>\n",
       "      <td>NaN</td>\n",
       "      <td>NaN</td>\n",
       "      <td>United States</td>\n",
       "      <td>US</td>\n",
       "      <td>Kentucky</td>\n",
       "      <td>6903</td>\n",
       "      <td>Pikeville</td>\n",
       "      <td>5.66542</td>\n",
       "      <td>...</td>\n",
       "      <td>(37.432499999999997, -82.493099999999998)</td>\n",
       "      <td>Landslide</td>\n",
       "      <td>Landslide</td>\n",
       "      <td>Small</td>\n",
       "      <td>Downpour</td>\n",
       "      <td>NaN</td>\n",
       "      <td>NaN</td>\n",
       "      <td>0.0</td>\n",
       "      <td>Matthew Crawford (KGS)</td>\n",
       "      <td>NaN</td>\n",
       "    </tr>\n",
       "  </tbody>\n",
       "</table>\n",
       "<p>5 rows × 23 columns</p>\n",
       "</div>"
      ],
      "text/plain": [
       "   id     date   time continent_code   country_name country_code  \\\n",
       "0  34   3/2/07  Night            NaN  United States           US   \n",
       "1  42  3/22/07    NaN            NaN  United States           US   \n",
       "2  56   4/6/07    NaN            NaN  United States           US   \n",
       "3  59  4/14/07    NaN            NaN         Canada           CA   \n",
       "4  61  4/15/07    NaN            NaN  United States           US   \n",
       "\n",
       "  state/province  population         city/town  distance  ...  \\\n",
       "0       Virginia       16000       Cherry Hill   3.40765  ...   \n",
       "1           Ohio       17288  New Philadelphia   3.33522  ...   \n",
       "2   Pennsylvania       15930       Wilkinsburg   2.91977  ...   \n",
       "3         Quebec       42786       Châteauguay   2.98682  ...   \n",
       "4       Kentucky        6903         Pikeville   5.66542  ...   \n",
       "\n",
       "                                 geolocation  hazard_type      landslide_type  \\\n",
       "0  (38.600900000000003, -77.268199999999993)    Landslide           Landslide   \n",
       "1  (40.517499999999998, -81.430499999999995)    Landslide           Landslide   \n",
       "2             (40.4377, -79.915999999999997)    Landslide           Landslide   \n",
       "3  (45.322600000000001, -73.777100000000004)    Landslide  Riverbank collapse   \n",
       "4  (37.432499999999997, -82.493099999999998)    Landslide           Landslide   \n",
       "\n",
       "  landslide_size   trigger storm_name injuries fatalities  \\\n",
       "0          Small      Rain        NaN      NaN        NaN   \n",
       "1          Small      Rain        NaN      NaN        NaN   \n",
       "2          Small      Rain        NaN      NaN        NaN   \n",
       "3          Small      Rain        NaN      NaN        NaN   \n",
       "4          Small  Downpour        NaN      NaN        0.0   \n",
       "\n",
       "                  source_name  \\\n",
       "0                  NBC 4 news   \n",
       "1              Canton Rep.com   \n",
       "2  The Pittsburgh Channel.com   \n",
       "3                   Le Soleil   \n",
       "4      Matthew Crawford (KGS)   \n",
       "\n",
       "                                         source_link  \n",
       "0      http://www.nbc4.com/news/11186871/detail.html  \n",
       "1  http://www.cantonrep.com/index.php?ID=345054&C...  \n",
       "2  https://web.archive.org/web/20080423132842/htt...  \n",
       "3  http://www.hebdos.net/lsc/edition162007/articl...  \n",
       "4                                                NaN  \n",
       "\n",
       "[5 rows x 23 columns]"
      ]
     },
     "execution_count": 30,
     "metadata": {},
     "output_type": "execute_result"
    }
   ],
   "source": [
    "landslides = pd.read_csv(datapath+'/catalog.csv')\n",
    "landslides.head(5)"
   ]
  },
  {
   "cell_type": "code",
   "execution_count": 31,
   "id": "089dfe46",
   "metadata": {},
   "outputs": [
    {
     "name": "stdout",
     "output_type": "stream",
     "text": [
      "0     3/2/07\n",
      "1    3/22/07\n",
      "2     4/6/07\n",
      "3    4/14/07\n",
      "4    4/15/07\n",
      "Name: date, dtype: object\n"
     ]
    }
   ],
   "source": [
    "print(landslides.date.head(5))"
   ]
  },
  {
   "cell_type": "code",
   "execution_count": 32,
   "id": "3d379a88",
   "metadata": {},
   "outputs": [],
   "source": [
    "## Convert date from an 'object' datatype to a date-specific information\n",
    "\n",
    "landslides['date_parsed'] = pd.to_datetime(landslides.date, format=\"%m/%d/%y\")\n"
   ]
  },
  {
   "cell_type": "code",
   "execution_count": 33,
   "id": "32e12d1a",
   "metadata": {},
   "outputs": [
    {
     "name": "stdout",
     "output_type": "stream",
     "text": [
      "0   2007-03-02\n",
      "1   2007-03-22\n",
      "2   2007-04-06\n",
      "3   2007-04-14\n",
      "4   2007-04-15\n",
      "Name: date_parsed, dtype: datetime64[ns]\n"
     ]
    }
   ],
   "source": [
    "print(landslides.date_parsed.head(5))"
   ]
  },
  {
   "cell_type": "code",
   "execution_count": 34,
   "id": "cdad1d0f",
   "metadata": {},
   "outputs": [
    {
     "data": {
      "text/plain": [
       "0     2.0\n",
       "1    22.0\n",
       "2     6.0\n",
       "3    14.0\n",
       "4    15.0\n",
       "Name: date_parsed, dtype: float64"
      ]
     },
     "execution_count": 34,
     "metadata": {},
     "output_type": "execute_result"
    }
   ],
   "source": [
    "day_of_month_landslides = landslides.date_parsed.dt.day.dropna()\n",
    "day_of_month_landslides.head(5)\n"
   ]
  },
  {
   "cell_type": "code",
   "execution_count": 35,
   "id": "c543232c",
   "metadata": {},
   "outputs": [
    {
     "data": {
      "text/plain": [
       "<seaborn.axisgrid.FacetGrid at 0x7f4bae2bf0a0>"
      ]
     },
     "execution_count": 35,
     "metadata": {},
     "output_type": "execute_result"
    },
    {
     "data": {
      "image/png": "[encoded data removed]",
      "text/plain": [
       "<Figure size 500x500 with 1 Axes>"
      ]
     },
     "metadata": {},
     "output_type": "display_data"
    }
   ],
   "source": [
    "sns.displot(day_of_month_landslides, kde=False, bins=31)"
   ]
  },
  {
   "cell_type": "code",
   "execution_count": 36,
   "id": "26e9f6ee",
   "metadata": {},
   "outputs": [],
   "source": [
    "del landslides, day_of_month_landslides"
   ]
  },
  {
   "cell_type": "code",
   "execution_count": 37,
   "id": "9bc6be66",
   "metadata": {},
   "outputs": [
    {
     "data": {
      "application/vnd.microsoft.datawrangler.viewer.v0+json": {
       "columns": [
        {
         "name": "index",
         "rawType": "int64",
         "type": "integer"
        },
        {
         "name": "Number",
         "rawType": "int64",
         "type": "integer"
        },
        {
         "name": "Name",
         "rawType": "object",
         "type": "string"
        },
        {
         "name": "Country",
         "rawType": "object",
         "type": "string"
        },
        {
         "name": "Region",
         "rawType": "object",
         "type": "string"
        },
        {
         "name": "Type",
         "rawType": "object",
         "type": "string"
        },
        {
         "name": "Activity Evidence",
         "rawType": "object",
         "type": "string"
        },
        {
         "name": "Last Known Eruption",
         "rawType": "object",
         "type": "string"
        },
        {
         "name": "Latitude",
         "rawType": "float64",
         "type": "float"
        },
        {
         "name": "Longitude",
         "rawType": "float64",
         "type": "float"
        },
        {
         "name": "Elevation (Meters)",
         "rawType": "int64",
         "type": "integer"
        },
        {
         "name": "Dominant Rock Type",
         "rawType": "object",
         "type": "string"
        },
        {
         "name": "Tectonic Setting",
         "rawType": "object",
         "type": "string"
        }
       ],
       "conversionMethod": "pd.DataFrame",
       "ref": "e6518c20-ce0c-47ef-98b4-551ac15fc848",
       "rows": [
        [
         "0",
         "210010",
         "West Eifel Volcanic Field",
         "Germany",
         "Mediterranean and Western Asia",
         "Maar(s)",
         "Eruption Dated",
         "8300 BCE",
         "50.17",
         "6.85",
         "600",
         "Foidite",
         "Rift Zone / Continental Crust (>25 km)"
        ],
        [
         "1",
         "210020",
         "Chaine des Puys",
         "France",
         "Mediterranean and Western Asia",
         "Lava dome(s)",
         "Eruption Dated",
         "4040 BCE",
         "45.775",
         "2.97",
         "1464",
         "Basalt / Picro-Basalt",
         "Rift Zone / Continental Crust (>25 km)"
        ],
        [
         "2",
         "210030",
         "Olot Volcanic Field",
         "Spain",
         "Mediterranean and Western Asia",
         "Pyroclastic cone(s)",
         "Evidence Credible",
         "Unknown",
         "42.17",
         "2.53",
         "893",
         "Trachybasalt / Tephrite Basanite",
         "Intraplate / Continental Crust (>25 km)"
        ],
        [
         "3",
         "210040",
         "Calatrava Volcanic Field",
         "Spain",
         "Mediterranean and Western Asia",
         "Pyroclastic cone(s)",
         "Eruption Dated",
         "3600 BCE",
         "38.87",
         "-4.02",
         "1117",
         "Basalt / Picro-Basalt",
         "Intraplate / Continental Crust (>25 km)"
        ],
        [
         "4",
         "211001",
         "Larderello",
         "Italy",
         "Mediterranean and Western Asia",
         "Explosion crater(s)",
         "Eruption Observed",
         "1282 CE",
         "43.25",
         "10.87",
         "500",
         "No Data",
         "Subduction Zone / Continental Crust (>25 km)"
        ]
       ],
       "shape": {
        "columns": 12,
        "rows": 5
       }
      },
      "text/html": [
       "<div>\n",
       "<style scoped>\n",
       "    .dataframe tbody tr th:only-of-type {\n",
       "        vertical-align: middle;\n",
       "    }\n",
       "\n",
       "    .dataframe tbody tr th {\n",
       "        vertical-align: top;\n",
       "    }\n",
       "\n",
       "    .dataframe thead th {\n",
       "        text-align: right;\n",
       "    }\n",
       "</style>\n",
       "<table border=\"1\" class=\"dataframe\">\n",
       "  <thead>\n",
       "    <tr style=\"text-align: right;\">\n",
       "      <th></th>\n",
       "      <th>Number</th>\n",
       "      <th>Name</th>\n",
       "      <th>Country</th>\n",
       "      <th>Region</th>\n",
       "      <th>Type</th>\n",
       "      <th>Activity Evidence</th>\n",
       "      <th>Last Known Eruption</th>\n",
       "      <th>Latitude</th>\n",
       "      <th>Longitude</th>\n",
       "      <th>Elevation (Meters)</th>\n",
       "      <th>Dominant Rock Type</th>\n",
       "      <th>Tectonic Setting</th>\n",
       "    </tr>\n",
       "  </thead>\n",
       "  <tbody>\n",
       "    <tr>\n",
       "      <th>0</th>\n",
       "      <td>210010</td>\n",
       "      <td>West Eifel Volcanic Field</td>\n",
       "      <td>Germany</td>\n",
       "      <td>Mediterranean and Western Asia</td>\n",
       "      <td>Maar(s)</td>\n",
       "      <td>Eruption Dated</td>\n",
       "      <td>8300 BCE</td>\n",
       "      <td>50.170</td>\n",
       "      <td>6.85</td>\n",
       "      <td>600</td>\n",
       "      <td>Foidite</td>\n",
       "      <td>Rift Zone / Continental Crust (&gt;25 km)</td>\n",
       "    </tr>\n",
       "    <tr>\n",
       "      <th>1</th>\n",
       "      <td>210020</td>\n",
       "      <td>Chaine des Puys</td>\n",
       "      <td>France</td>\n",
       "      <td>Mediterranean and Western Asia</td>\n",
       "      <td>Lava dome(s)</td>\n",
       "      <td>Eruption Dated</td>\n",
       "      <td>4040 BCE</td>\n",
       "      <td>45.775</td>\n",
       "      <td>2.97</td>\n",
       "      <td>1464</td>\n",
       "      <td>Basalt / Picro-Basalt</td>\n",
       "      <td>Rift Zone / Continental Crust (&gt;25 km)</td>\n",
       "    </tr>\n",
       "    <tr>\n",
       "      <th>2</th>\n",
       "      <td>210030</td>\n",
       "      <td>Olot Volcanic Field</td>\n",
       "      <td>Spain</td>\n",
       "      <td>Mediterranean and Western Asia</td>\n",
       "      <td>Pyroclastic cone(s)</td>\n",
       "      <td>Evidence Credible</td>\n",
       "      <td>Unknown</td>\n",
       "      <td>42.170</td>\n",
       "      <td>2.53</td>\n",
       "      <td>893</td>\n",
       "      <td>Trachybasalt / Tephrite Basanite</td>\n",
       "      <td>Intraplate / Continental Crust (&gt;25 km)</td>\n",
       "    </tr>\n",
       "    <tr>\n",
       "      <th>3</th>\n",
       "      <td>210040</td>\n",
       "      <td>Calatrava Volcanic Field</td>\n",
       "      <td>Spain</td>\n",
       "      <td>Mediterranean and Western Asia</td>\n",
       "      <td>Pyroclastic cone(s)</td>\n",
       "      <td>Eruption Dated</td>\n",
       "      <td>3600 BCE</td>\n",
       "      <td>38.870</td>\n",
       "      <td>-4.02</td>\n",
       "      <td>1117</td>\n",
       "      <td>Basalt / Picro-Basalt</td>\n",
       "      <td>Intraplate / Continental Crust (&gt;25 km)</td>\n",
       "    </tr>\n",
       "    <tr>\n",
       "      <th>4</th>\n",
       "      <td>211001</td>\n",
       "      <td>Larderello</td>\n",
       "      <td>Italy</td>\n",
       "      <td>Mediterranean and Western Asia</td>\n",
       "      <td>Explosion crater(s)</td>\n",
       "      <td>Eruption Observed</td>\n",
       "      <td>1282 CE</td>\n",
       "      <td>43.250</td>\n",
       "      <td>10.87</td>\n",
       "      <td>500</td>\n",
       "      <td>No Data</td>\n",
       "      <td>Subduction Zone / Continental Crust (&gt;25 km)</td>\n",
       "    </tr>\n",
       "  </tbody>\n",
       "</table>\n",
       "</div>"
      ],
      "text/plain": [
       "   Number                       Name  Country                          Region  \\\n",
       "0  210010  West Eifel Volcanic Field  Germany  Mediterranean and Western Asia   \n",
       "1  210020            Chaine des Puys   France  Mediterranean and Western Asia   \n",
       "2  210030        Olot Volcanic Field    Spain  Mediterranean and Western Asia   \n",
       "3  210040   Calatrava Volcanic Field    Spain  Mediterranean and Western Asia   \n",
       "4  211001                 Larderello    Italy  Mediterranean and Western Asia   \n",
       "\n",
       "                  Type  Activity Evidence Last Known Eruption  Latitude  \\\n",
       "0              Maar(s)     Eruption Dated            8300 BCE    50.170   \n",
       "1         Lava dome(s)     Eruption Dated            4040 BCE    45.775   \n",
       "2  Pyroclastic cone(s)  Evidence Credible             Unknown    42.170   \n",
       "3  Pyroclastic cone(s)     Eruption Dated            3600 BCE    38.870   \n",
       "4  Explosion crater(s)  Eruption Observed             1282 CE    43.250   \n",
       "\n",
       "   Longitude  Elevation (Meters)                Dominant Rock Type  \\\n",
       "0       6.85                 600                           Foidite   \n",
       "1       2.97                1464             Basalt / Picro-Basalt   \n",
       "2       2.53                 893  Trachybasalt / Tephrite Basanite   \n",
       "3      -4.02                1117             Basalt / Picro-Basalt   \n",
       "4      10.87                 500                           No Data   \n",
       "\n",
       "                               Tectonic Setting  \n",
       "0        Rift Zone / Continental Crust (>25 km)  \n",
       "1        Rift Zone / Continental Crust (>25 km)  \n",
       "2       Intraplate / Continental Crust (>25 km)  \n",
       "3       Intraplate / Continental Crust (>25 km)  \n",
       "4  Subduction Zone / Continental Crust (>25 km)  "
      ]
     },
     "execution_count": 37,
     "metadata": {},
     "output_type": "execute_result"
    }
   ],
   "source": [
    "### Extra Practice\n",
    "\n",
    "volcanos = pd.read_csv(datapath+'/database_volcanic_activity.csv')\n",
    "volcanos.head()"
   ]
  },
  {
   "cell_type": "code",
   "execution_count": 38,
   "id": "6294a3aa",
   "metadata": {},
   "outputs": [
    {
     "data": {
      "text/plain": [
       "764      Unknown\n",
       "1069     1996 CE\n",
       "34       1855 CE\n",
       "489      2016 CE\n",
       "9        1302 CE\n",
       "641      Unknown\n",
       "1115     Unknown\n",
       "530     3500 BCE\n",
       "575      Unknown\n",
       "219      Unknown\n",
       "Name: Last Known Eruption, dtype: object"
      ]
     },
     "execution_count": 38,
     "metadata": {},
     "output_type": "execute_result"
    }
   ],
   "source": [
    "volcanos['Last Known Eruption'].sample(10)"
   ]
  },
  {
   "cell_type": "code",
   "execution_count": 41,
   "id": "2ffc2009",
   "metadata": {},
   "outputs": [
    {
     "data": {
      "text/plain": [
       "Last Known Eruption\n",
       "Unknown     637\n",
       "2016 CE      68\n",
       "2015 CE      21\n",
       "2014 CE      14\n",
       "2012 CE      13\n",
       "           ... \n",
       "5830 BCE      1\n",
       "1739 CE       1\n",
       "1320 CE       1\n",
       "1080 CE       1\n",
       "1905 CE       1\n",
       "Name: count, Length: 399, dtype: int64"
      ]
     },
     "execution_count": 41,
     "metadata": {},
     "output_type": "execute_result"
    }
   ],
   "source": [
    "volcanos['Last Known Eruption'].value_counts()"
   ]
  },
  {
   "cell_type": "code",
   "execution_count": null,
   "id": "df76ff05",
   "metadata": {},
   "outputs": [],
   "source": [
    "volcanos2 = volcanos[volcanos['Last Known Eruption'] != 'Unknown'].copy().reset_index(drop=True)\n",
    "\n",
    "print(len(volcanos))\n",
    "print(len(volcanos2))"
   ]
  },
  {
   "cell_type": "code",
   "execution_count": 43,
   "id": "825b300f",
   "metadata": {},
   "outputs": [],
   "source": [
    "volcanos2['year_eruption'] = ''\n",
    "\n",
    "for i in range(len(volcanos2)):\n",
    "    if 'BCE' in volcanos2.loc[i, 'Last Known Eruption']:\n",
    "        volcanos2.loc[i, 'year_eruption'] = -1*int(volcanos2.loc[i, 'Last Known Eruption'].split(' ')[0])\n",
    "    elif 'CE' in volcanos2.loc[i, 'Last Known Eruption']:\n",
    "        volcanos2.loc[i, 'year_eruption'] = int(volcanos2.loc[i, 'Last Known Eruption'].split(' ')[0])\n"
   ]
  },
  {
   "cell_type": "code",
   "execution_count": 50,
   "id": "51eeadeb",
   "metadata": {},
   "outputs": [
    {
     "data": {
      "application/vnd.microsoft.datawrangler.viewer.v0+json": {
       "columns": [
        {
         "name": "index",
         "rawType": "int64",
         "type": "integer"
        },
        {
         "name": "Number",
         "rawType": "int64",
         "type": "integer"
        },
        {
         "name": "Name",
         "rawType": "object",
         "type": "string"
        },
        {
         "name": "Country",
         "rawType": "object",
         "type": "string"
        },
        {
         "name": "Region",
         "rawType": "object",
         "type": "string"
        },
        {
         "name": "Type",
         "rawType": "object",
         "type": "string"
        },
        {
         "name": "Activity Evidence",
         "rawType": "object",
         "type": "string"
        },
        {
         "name": "Last Known Eruption",
         "rawType": "object",
         "type": "string"
        },
        {
         "name": "Latitude",
         "rawType": "float64",
         "type": "float"
        },
        {
         "name": "Longitude",
         "rawType": "float64",
         "type": "float"
        },
        {
         "name": "Elevation (Meters)",
         "rawType": "int64",
         "type": "integer"
        },
        {
         "name": "Dominant Rock Type",
         "rawType": "object",
         "type": "string"
        },
        {
         "name": "Tectonic Setting",
         "rawType": "object",
         "type": "string"
        },
        {
         "name": "year_eruption",
         "rawType": "object",
         "type": "unknown"
        }
       ],
       "conversionMethod": "pd.DataFrame",
       "ref": "9881ec11-26b4-450d-bbbf-aa4e509c5f43",
       "rows": [
        [
         "60",
         "222161",
         "Igwisi Hills",
         "Tanzania",
         "Africa and Red Sea",
         "Pyroclastic cone(s)",
         "Eruption Dated",
         "10450 BCE",
         "-4.889",
         "31.933",
         "1146",
         "Foidite",
         "Rift Zone / Continental Crust (>25 km)",
         "-10450"
        ]
       ],
       "shape": {
        "columns": 13,
        "rows": 1
       }
      },
      "text/html": [
       "<div>\n",
       "<style scoped>\n",
       "    .dataframe tbody tr th:only-of-type {\n",
       "        vertical-align: middle;\n",
       "    }\n",
       "\n",
       "    .dataframe tbody tr th {\n",
       "        vertical-align: top;\n",
       "    }\n",
       "\n",
       "    .dataframe thead th {\n",
       "        text-align: right;\n",
       "    }\n",
       "</style>\n",
       "<table border=\"1\" class=\"dataframe\">\n",
       "  <thead>\n",
       "    <tr style=\"text-align: right;\">\n",
       "      <th></th>\n",
       "      <th>Number</th>\n",
       "      <th>Name</th>\n",
       "      <th>Country</th>\n",
       "      <th>Region</th>\n",
       "      <th>Type</th>\n",
       "      <th>Activity Evidence</th>\n",
       "      <th>Last Known Eruption</th>\n",
       "      <th>Latitude</th>\n",
       "      <th>Longitude</th>\n",
       "      <th>Elevation (Meters)</th>\n",
       "      <th>Dominant Rock Type</th>\n",
       "      <th>Tectonic Setting</th>\n",
       "      <th>year_eruption</th>\n",
       "    </tr>\n",
       "  </thead>\n",
       "  <tbody>\n",
       "    <tr>\n",
       "      <th>60</th>\n",
       "      <td>222161</td>\n",
       "      <td>Igwisi Hills</td>\n",
       "      <td>Tanzania</td>\n",
       "      <td>Africa and Red Sea</td>\n",
       "      <td>Pyroclastic cone(s)</td>\n",
       "      <td>Eruption Dated</td>\n",
       "      <td>10450 BCE</td>\n",
       "      <td>-4.889</td>\n",
       "      <td>31.933</td>\n",
       "      <td>1146</td>\n",
       "      <td>Foidite</td>\n",
       "      <td>Rift Zone / Continental Crust (&gt;25 km)</td>\n",
       "      <td>-10450</td>\n",
       "    </tr>\n",
       "  </tbody>\n",
       "</table>\n",
       "</div>"
      ],
      "text/plain": [
       "    Number          Name   Country              Region                 Type  \\\n",
       "60  222161  Igwisi Hills  Tanzania  Africa and Red Sea  Pyroclastic cone(s)   \n",
       "\n",
       "   Activity Evidence Last Known Eruption  Latitude  Longitude  \\\n",
       "60    Eruption Dated           10450 BCE    -4.889     31.933   \n",
       "\n",
       "    Elevation (Meters) Dominant Rock Type  \\\n",
       "60                1146            Foidite   \n",
       "\n",
       "                          Tectonic Setting year_eruption  \n",
       "60  Rift Zone / Continental Crust (>25 km)        -10450  "
      ]
     },
     "execution_count": 50,
     "metadata": {},
     "output_type": "execute_result"
    }
   ],
   "source": [
    "volcanos2[volcanos2.year_eruption == volcanos2.year_eruption.min()]"
   ]
  },
  {
   "cell_type": "code",
   "execution_count": 51,
   "id": "12fd56db",
   "metadata": {},
   "outputs": [
    {
     "data": {
      "application/vnd.microsoft.datawrangler.viewer.v0+json": {
       "columns": [
        {
         "name": "index",
         "rawType": "int64",
         "type": "integer"
        },
        {
         "name": "Number",
         "rawType": "int64",
         "type": "integer"
        },
        {
         "name": "Name",
         "rawType": "object",
         "type": "string"
        },
        {
         "name": "Country",
         "rawType": "object",
         "type": "string"
        },
        {
         "name": "Region",
         "rawType": "object",
         "type": "string"
        },
        {
         "name": "Type",
         "rawType": "object",
         "type": "string"
        },
        {
         "name": "Activity Evidence",
         "rawType": "object",
         "type": "string"
        },
        {
         "name": "Last Known Eruption",
         "rawType": "object",
         "type": "string"
        },
        {
         "name": "Latitude",
         "rawType": "float64",
         "type": "float"
        },
        {
         "name": "Longitude",
         "rawType": "float64",
         "type": "float"
        },
        {
         "name": "Elevation (Meters)",
         "rawType": "int64",
         "type": "integer"
        },
        {
         "name": "Dominant Rock Type",
         "rawType": "object",
         "type": "string"
        },
        {
         "name": "Tectonic Setting",
         "rawType": "object",
         "type": "string"
        },
        {
         "name": "year_eruption",
         "rawType": "object",
         "type": "unknown"
        }
       ],
       "conversionMethod": "pd.DataFrame",
       "ref": "55be2613-9d8a-4c53-bbd9-65b7c750e3dd",
       "rows": [
        [
         "9",
         "211040",
         "Stromboli",
         "Italy",
         "Mediterranean and Western Asia",
         "Stratovolcano",
         "Eruption Observed",
         "2016 CE",
         "38.789",
         "15.213",
         "924",
         "Trachyandesite / Basaltic Trachyandesite",
         "Subduction Zone / Continental Crust (>25 km)",
         "2016"
        ],
        [
         "12",
         "211060",
         "Etna",
         "Italy",
         "Mediterranean and Western Asia",
         "Stratovolcano(es)",
         "Eruption Observed",
         "2016 CE",
         "37.734",
         "15.004",
         "3330",
         "Trachybasalt / Tephrite Basanite",
         "Subduction Zone / Continental Crust (>25 km)",
         "2016"
        ],
        [
         "35",
         "221080",
         "Erta Ale",
         "Ethiopia",
         "Africa and Red Sea",
         "Shield",
         "Eruption Observed",
         "2016 CE",
         "13.6",
         "40.67",
         "613",
         "Basalt / Picro-Basalt",
         "Rift Zone / Intermediate Crust (15-25 km)",
         "2016"
        ],
        [
         "66",
         "223030",
         "Nyiragongo",
         "DR Congo",
         "Africa and Red Sea",
         "Stratovolcano",
         "Eruption Observed",
         "2016 CE",
         "-1.52",
         "29.25",
         "3470",
         "Foidite",
         "Rift Zone / Continental Crust (>25 km)",
         "2016"
        ],
        [
         "89",
         "233020",
         "Fournaise, Piton de la",
         "France",
         "Middle East and Indian Ocean",
         "Shield",
         "Eruption Observed",
         "2016 CE",
         "-21.244",
         "55.708",
         "2632",
         "Basalt / Picro-Basalt",
         "Intraplate / Oceanic Crust (< 15 km)",
         "2016"
        ],
        [
         "92",
         "234010",
         "Heard",
         "Australia",
         "Middle East and Indian Ocean",
         "Stratovolcano",
         "Eruption Observed",
         "2016 CE",
         "-53.106",
         "73.513",
         "2745",
         "Trachybasalt / Tephrite Basanite",
         "Intraplate / Oceanic Crust (< 15 km)",
         "2016"
        ],
        [
         "99",
         "241040",
         "White Island",
         "New Zealand",
         "New Zealand to Fiji",
         "Stratovolcano(es)",
         "Eruption Observed",
         "2016 CE",
         "-37.52",
         "177.18",
         "321",
         "Andesite / Basaltic Andesite",
         "Subduction Zone / Continental Crust (>25 km)",
         "2016"
        ],
        [
         "134",
         "251020",
         "Manam",
         "Papua New Guinea",
         "Melanesia and Australia",
         "Stratovolcano",
         "Eruption Observed",
         "2016 CE",
         "-4.08",
         "145.037",
         "1807",
         "Basalt / Picro-Basalt",
         "Subduction Zone / Continental Crust (>25 km)",
         "2016"
        ],
        [
         "138",
         "252010",
         "Langila",
         "Papua New Guinea",
         "Melanesia and Australia",
         "Complex",
         "Eruption Observed",
         "2016 CE",
         "-5.525",
         "148.42",
         "1330",
         "Basalt / Picro-Basalt",
         "Subduction Zone / Continental Crust (>25 km)",
         "2016"
        ],
        [
         "144",
         "252120",
         "Ulawun",
         "Papua New Guinea",
         "Melanesia and Australia",
         "Stratovolcano",
         "Eruption Observed",
         "2016 CE",
         "-5.05",
         "151.33",
         "2334",
         "Basalt / Picro-Basalt",
         "Subduction Zone / Continental Crust (>25 km)",
         "2016"
        ],
        [
         "154",
         "255020",
         "Bagana",
         "Papua New Guinea",
         "Melanesia and Australia",
         "Lava cone",
         "Eruption Observed",
         "2016 CE",
         "-6.137",
         "155.196",
         "1855",
         "Andesite / Basaltic Andesite",
         "Subduction Zone / Crust Thickness Unknown",
         "2016"
        ],
        [
         "163",
         "257040",
         "Ambrym",
         "Vanuatu",
         "Melanesia and Australia",
         "Pyroclastic shield",
         "Eruption Observed",
         "2016 CE",
         "-16.25",
         "168.12",
         "1334",
         "Basalt / Picro-Basalt",
         "Subduction Zone / Intermediate Crust (15-25 km)",
         "2016"
        ],
        [
         "168",
         "257100",
         "Yasur",
         "Vanuatu",
         "Melanesia and Australia",
         "Stratovolcano",
         "Eruption Observed",
         "2016 CE",
         "-19.53",
         "169.442",
         "361",
         "Andesite / Basaltic Andesite",
         "Subduction Zone / Intermediate Crust (15-25 km)",
         "2016"
        ],
        [
         "173",
         "260010",
         "Barren Island",
         "India",
         "Indonesia",
         "Stratovolcano",
         "Eruption Observed",
         "2016 CE",
         "12.278",
         "93.858",
         "354",
         "Basalt / Picro-Basalt",
         "Subduction Zone / Continental Crust (>25 km)",
         "2016"
        ],
        [
         "178",
         "261080",
         "Sinabung",
         "Indonesia",
         "Indonesia",
         "Stratovolcano",
         "Eruption Observed",
         "2016 CE",
         "3.17",
         "98.392",
         "2460",
         "Andesite / Basaltic Andesite",
         "Subduction Zone / Continental Crust (>25 km)",
         "2016"
        ],
        [
         "183",
         "261170",
         "Kerinci",
         "Indonesia",
         "Indonesia",
         "Stratovolcano",
         "Eruption Observed",
         "2016 CE",
         "-1.697",
         "101.264",
         "3800",
         "Andesite / Basaltic Andesite",
         "Subduction Zone / Continental Crust (>25 km)",
         "2016"
        ],
        [
         "208",
         "263300",
         "Semeru",
         "Indonesia",
         "Indonesia",
         "Stratovolcano",
         "Eruption Observed",
         "2016 CE",
         "-8.108",
         "112.92",
         "3676",
         "Andesite / Basaltic Andesite",
         "Subduction Zone / Continental Crust (>25 km)",
         "2016"
        ],
        [
         "209",
         "263310",
         "Tengger Caldera",
         "Indonesia",
         "Indonesia",
         "Stratovolcano(es)",
         "Eruption Observed",
         "2016 CE",
         "-7.942",
         "112.95",
         "2329",
         "Trachyandesite / Basaltic Trachyandesite",
         "Subduction Zone / Continental Crust (>25 km)",
         "2016"
        ],
        [
         "215",
         "264030",
         "Rinjani",
         "Indonesia",
         "Indonesia",
         "Stratovolcano",
         "Eruption Observed",
         "2016 CE",
         "-8.42",
         "116.47",
         "3726",
         "Andesite / Basaltic Andesite",
         "Subduction Zone / Continental Crust (>25 km)",
         "2016"
        ],
        [
         "241",
         "266030",
         "Soputan",
         "Indonesia",
         "Indonesia",
         "Stratovolcano",
         "Eruption Observed",
         "2016 CE",
         "1.112",
         "124.737",
         "1785",
         "Andesite / Basaltic Andesite",
         "Subduction Zone / Continental Crust (>25 km)",
         "2016"
        ],
        [
         "246",
         "267020",
         "Karangetang",
         "Indonesia",
         "Indonesia",
         "Stratovolcano",
         "Eruption Observed",
         "2016 CE",
         "2.78",
         "125.4",
         "1784",
         "Andesite / Basaltic Andesite",
         "Subduction Zone / Oceanic Crust (< 15 km)",
         "2016"
        ],
        [
         "249",
         "268010",
         "Dukono",
         "Indonesia",
         "Indonesia",
         "Complex",
         "Eruption Observed",
         "2016 CE",
         "1.693",
         "127.894",
         "1229",
         "Andesite / Basaltic Andesite",
         "Subduction Zone / Oceanic Crust (< 15 km)",
         "2016"
        ],
        [
         "250",
         "268030",
         "Ibu",
         "Indonesia",
         "Indonesia",
         "Stratovolcano",
         "Eruption Observed",
         "2016 CE",
         "1.488",
         "127.63",
         "1325",
         "Andesite / Basaltic Andesite",
         "Subduction Zone / Oceanic Crust (< 15 km)",
         "2016"
        ],
        [
         "252",
         "268060",
         "Gamalama",
         "Indonesia",
         "Indonesia",
         "Stratovolcano(es)",
         "Eruption Observed",
         "2016 CE",
         "0.8",
         "127.33",
         "1715",
         "Andesite / Basaltic Andesite",
         "Subduction Zone / Oceanic Crust (< 15 km)",
         "2016"
        ],
        [
         "262",
         "272020",
         "Kanlaon",
         "Philippines",
         "Philippines and SE Asia",
         "Stratovolcano",
         "Eruption Observed",
         "2016 CE",
         "10.412",
         "123.132",
         "2435",
         "Andesite / Basaltic Andesite",
         "Subduction Zone / Continental Crust (>25 km)",
         "2016"
        ],
        [
         "265",
         "273010",
         "Bulusan",
         "Philippines",
         "Philippines and SE Asia",
         "Stratovolcano(es)",
         "Eruption Observed",
         "2016 CE",
         "12.77",
         "124.05",
         "1565",
         "Andesite / Basaltic Andesite",
         "Subduction Zone / Continental Crust (>25 km)",
         "2016"
        ],
        [
         "288",
         "282030",
         "Suwanosejima",
         "Japan",
         "Japan, Taiwan, Marianas",
         "Stratovolcano(es)",
         "Eruption Observed",
         "2016 CE",
         "29.638",
         "129.714",
         "796",
         "Andesite / Basaltic Andesite",
         "Subduction Zone / Oceanic Crust (< 15 km)",
         "2016"
        ],
        [
         "294",
         "282080",
         "Aira",
         "Japan",
         "Japan, Taiwan, Marianas",
         "Caldera",
         "Eruption Observed",
         "2016 CE",
         "31.593",
         "130.657",
         "1117",
         "Andesite / Basaltic Andesite",
         "Subduction Zone / Continental Crust (>25 km)",
         "2016"
        ],
        [
         "299",
         "282110",
         "Asosan",
         "Japan",
         "Japan, Taiwan, Marianas",
         "Caldera",
         "Eruption Observed",
         "2016 CE",
         "32.884",
         "131.104",
         "1592",
         "Andesite / Basaltic Andesite",
         "Subduction Zone / Continental Crust (>25 km)",
         "2016"
        ],
        [
         "401",
         "290150",
         "Chirpoi",
         "Russia",
         "Kuril Islands",
         "Caldera",
         "Eruption Observed",
         "2016 CE",
         "46.525",
         "150.875",
         "742",
         "Andesite / Basaltic Andesite",
         "Subduction Zone / Oceanic Crust (< 15 km)",
         "2016"
        ],
        [
         "411",
         "290260",
         "Chirinkotan",
         "Russia",
         "Kuril Islands",
         "Stratovolcano",
         "Eruption Observed",
         "2016 CE",
         "48.98",
         "153.48",
         "724",
         "Andesite / Basaltic Andesite",
         "Subduction Zone / Intermediate Crust (15-25 km)",
         "2016"
        ],
        [
         "419",
         "290360",
         "Chikurachki",
         "Russia",
         "Kuril Islands",
         "Stratovolcano(es)",
         "Eruption Observed",
         "2016 CE",
         "50.324",
         "155.461",
         "1781",
         "Basalt / Picro-Basalt",
         "Subduction Zone / Continental Crust (>25 km)",
         "2016"
        ],
        [
         "420",
         "290380",
         "Ebeko",
         "Russia",
         "Kuril Islands",
         "Stratovolcano",
         "Eruption Observed",
         "2016 CE",
         "50.686",
         "156.014",
         "1103",
         "Andesite / Basaltic Andesite",
         "Subduction Zone / Continental Crust (>25 km)",
         "2016"
        ],
        [
         "421",
         "290390",
         "Alaid",
         "Russia",
         "Kuril Islands",
         "Stratovolcano",
         "Eruption Observed",
         "2016 CE",
         "50.861",
         "155.565",
         "2285",
         "Basalt / Picro-Basalt",
         "Subduction Zone / Continental Crust (>25 km)",
         "2016"
        ],
        [
         "439",
         "300120",
         "Zhupanovsky",
         "Russia",
         "Kamchatka and Mainland Asia",
         "Compound",
         "Eruption Observed",
         "2016 CE",
         "53.589",
         "159.15",
         "2899",
         "Andesite / Basaltic Andesite",
         "Subduction Zone / Continental Crust (>25 km)",
         "2016"
        ],
        [
         "445",
         "300130",
         "Karymsky",
         "Russia",
         "Kamchatka and Mainland Asia",
         "Stratovolcano",
         "Eruption Observed",
         "2016 CE",
         "54.049",
         "159.443",
         "1513",
         "Andesite / Basaltic Andesite",
         "Subduction Zone / Continental Crust (>25 km)",
         "2016"
        ],
        [
         "458",
         "300250",
         "Bezymianny",
         "Russia",
         "Kamchatka and Mainland Asia",
         "Stratovolcano",
         "Eruption Observed",
         "2016 CE",
         "55.972",
         "160.595",
         "2882",
         "Andesite / Basaltic Andesite",
         "Subduction Zone / Continental Crust (>25 km)",
         "2016"
        ],
        [
         "459",
         "300260",
         "Klyuchevskoy",
         "Russia",
         "Kamchatka and Mainland Asia",
         "Stratovolcano",
         "Eruption Observed",
         "2016 CE",
         "56.056",
         "160.642",
         "4754",
         "Basalt / Picro-Basalt",
         "Subduction Zone / Continental Crust (>25 km)",
         "2016"
        ],
        [
         "461",
         "300270",
         "Sheveluch",
         "Russia",
         "Kamchatka and Mainland Asia",
         "Stratovolcano",
         "Eruption Observed",
         "2016 CE",
         "56.653",
         "161.36",
         "3283",
         "Andesite / Basaltic Andesite",
         "Subduction Zone / Continental Crust (>25 km)",
         "2016"
        ],
        [
         "509",
         "311240",
         "Cleveland",
         "United States",
         "Alaska",
         "Stratovolcano",
         "Eruption Observed",
         "2016 CE",
         "52.825",
         "-169.944",
         "1730",
         "Andesite / Basaltic Andesite",
         "Subduction Zone / Intermediate Crust (15-25 km)",
         "2016"
        ],
        [
         "521",
         "312030",
         "Pavlof",
         "United States",
         "Alaska",
         "Stratovolcano",
         "Eruption Observed",
         "2016 CE",
         "55.417",
         "-161.894",
         "2493",
         "Andesite / Basaltic Andesite",
         "Subduction Zone / Continental Crust (>25 km)",
         "2016"
        ],
        [
         "608",
         "332010",
         "Kilauea",
         "United States",
         "Hawaii and Pacific Ocean",
         "Shield",
         "Eruption Observed",
         "2016 CE",
         "19.421",
         "-155.287",
         "1222",
         "Basalt / Picro-Basalt",
         "Intraplate / Oceanic Crust (< 15 km)",
         "2016"
        ],
        [
         "630",
         "341040",
         "Colima",
         "Mexico",
         "México and Central America",
         "Stratovolcano(es)",
         "Eruption Observed",
         "2016 CE",
         "19.514",
         "-103.62",
         "3850",
         "Andesite / Basaltic Andesite",
         "Subduction Zone / Continental Crust (>25 km)",
         "2016"
        ],
        [
         "636",
         "341090",
         "Popocatepetl",
         "Mexico",
         "México and Central America",
         "Stratovolcano(es)",
         "Eruption Observed",
         "2016 CE",
         "19.023",
         "-98.622",
         "5426",
         "Andesite / Basaltic Andesite",
         "Subduction Zone / Continental Crust (>25 km)",
         "2016"
        ],
        [
         "646",
         "342030",
         "Santa Maria",
         "Guatemala",
         "México and Central America",
         "Stratovolcano",
         "Eruption Observed",
         "2016 CE",
         "14.756",
         "-91.552",
         "3772",
         "Dacite",
         "Subduction Zone / Continental Crust (>25 km)",
         "2016"
        ],
        [
         "650",
         "342090",
         "Fuego",
         "Guatemala",
         "México and Central America",
         "Stratovolcano(es)",
         "Eruption Observed",
         "2016 CE",
         "14.473",
         "-90.88",
         "3763",
         "Basalt / Picro-Basalt",
         "Subduction Zone / Continental Crust (>25 km)",
         "2016"
        ],
        [
         "651",
         "342110",
         "Pacaya",
         "Guatemala",
         "México and Central America",
         "Complex",
         "Eruption Observed",
         "2016 CE",
         "14.381",
         "-90.601",
         "2552",
         "Basalt / Picro-Basalt",
         "Subduction Zone / Continental Crust (>25 km)",
         "2016"
        ],
        [
         "657",
         "343100",
         "San Miguel",
         "El Salvador",
         "México and Central America",
         "Stratovolcano",
         "Eruption Observed",
         "2016 CE",
         "13.434",
         "-88.269",
         "2130",
         "Andesite / Basaltic Andesite",
         "Subduction Zone / Continental Crust (>25 km)",
         "2016"
        ],
        [
         "659",
         "344020",
         "San Cristobal",
         "Nicaragua",
         "México and Central America",
         "Stratovolcano",
         "Eruption Observed",
         "2016 CE",
         "12.702",
         "-87.004",
         "1745",
         "Basalt / Picro-Basalt",
         "Subduction Zone / Continental Crust (>25 km)",
         "2016"
        ],
        [
         "660",
         "344040",
         "Telica",
         "Nicaragua",
         "México and Central America",
         "Stratovolcano(es)",
         "Eruption Observed",
         "2016 CE",
         "12.602",
         "-86.845",
         "1061",
         "Basalt / Picro-Basalt",
         "Subduction Zone / Continental Crust (>25 km)",
         "2016"
        ]
       ],
       "shape": {
        "columns": 13,
        "rows": 68
       }
      },
      "text/html": [
       "<div>\n",
       "<style scoped>\n",
       "    .dataframe tbody tr th:only-of-type {\n",
       "        vertical-align: middle;\n",
       "    }\n",
       "\n",
       "    .dataframe tbody tr th {\n",
       "        vertical-align: top;\n",
       "    }\n",
       "\n",
       "    .dataframe thead th {\n",
       "        text-align: right;\n",
       "    }\n",
       "</style>\n",
       "<table border=\"1\" class=\"dataframe\">\n",
       "  <thead>\n",
       "    <tr style=\"text-align: right;\">\n",
       "      <th></th>\n",
       "      <th>Number</th>\n",
       "      <th>Name</th>\n",
       "      <th>Country</th>\n",
       "      <th>Region</th>\n",
       "      <th>Type</th>\n",
       "      <th>Activity Evidence</th>\n",
       "      <th>Last Known Eruption</th>\n",
       "      <th>Latitude</th>\n",
       "      <th>Longitude</th>\n",
       "      <th>Elevation (Meters)</th>\n",
       "      <th>Dominant Rock Type</th>\n",
       "      <th>Tectonic Setting</th>\n",
       "      <th>year_eruption</th>\n",
       "    </tr>\n",
       "  </thead>\n",
       "  <tbody>\n",
       "    <tr>\n",
       "      <th>9</th>\n",
       "      <td>211040</td>\n",
       "      <td>Stromboli</td>\n",
       "      <td>Italy</td>\n",
       "      <td>Mediterranean and Western Asia</td>\n",
       "      <td>Stratovolcano</td>\n",
       "      <td>Eruption Observed</td>\n",
       "      <td>2016 CE</td>\n",
       "      <td>38.789</td>\n",
       "      <td>15.213</td>\n",
       "      <td>924</td>\n",
       "      <td>Trachyandesite / Basaltic Trachyandesite</td>\n",
       "      <td>Subduction Zone / Continental Crust (&gt;25 km)</td>\n",
       "      <td>2016</td>\n",
       "    </tr>\n",
       "    <tr>\n",
       "      <th>12</th>\n",
       "      <td>211060</td>\n",
       "      <td>Etna</td>\n",
       "      <td>Italy</td>\n",
       "      <td>Mediterranean and Western Asia</td>\n",
       "      <td>Stratovolcano(es)</td>\n",
       "      <td>Eruption Observed</td>\n",
       "      <td>2016 CE</td>\n",
       "      <td>37.734</td>\n",
       "      <td>15.004</td>\n",
       "      <td>3330</td>\n",
       "      <td>Trachybasalt / Tephrite Basanite</td>\n",
       "      <td>Subduction Zone / Continental Crust (&gt;25 km)</td>\n",
       "      <td>2016</td>\n",
       "    </tr>\n",
       "    <tr>\n",
       "      <th>35</th>\n",
       "      <td>221080</td>\n",
       "      <td>Erta Ale</td>\n",
       "      <td>Ethiopia</td>\n",
       "      <td>Africa and Red Sea</td>\n",
       "      <td>Shield</td>\n",
       "      <td>Eruption Observed</td>\n",
       "      <td>2016 CE</td>\n",
       "      <td>13.600</td>\n",
       "      <td>40.670</td>\n",
       "      <td>613</td>\n",
       "      <td>Basalt / Picro-Basalt</td>\n",
       "      <td>Rift Zone / Intermediate Crust (15-25 km)</td>\n",
       "      <td>2016</td>\n",
       "    </tr>\n",
       "    <tr>\n",
       "      <th>66</th>\n",
       "      <td>223030</td>\n",
       "      <td>Nyiragongo</td>\n",
       "      <td>DR Congo</td>\n",
       "      <td>Africa and Red Sea</td>\n",
       "      <td>Stratovolcano</td>\n",
       "      <td>Eruption Observed</td>\n",
       "      <td>2016 CE</td>\n",
       "      <td>-1.520</td>\n",
       "      <td>29.250</td>\n",
       "      <td>3470</td>\n",
       "      <td>Foidite</td>\n",
       "      <td>Rift Zone / Continental Crust (&gt;25 km)</td>\n",
       "      <td>2016</td>\n",
       "    </tr>\n",
       "    <tr>\n",
       "      <th>89</th>\n",
       "      <td>233020</td>\n",
       "      <td>Fournaise, Piton de la</td>\n",
       "      <td>France</td>\n",
       "      <td>Middle East and Indian Ocean</td>\n",
       "      <td>Shield</td>\n",
       "      <td>Eruption Observed</td>\n",
       "      <td>2016 CE</td>\n",
       "      <td>-21.244</td>\n",
       "      <td>55.708</td>\n",
       "      <td>2632</td>\n",
       "      <td>Basalt / Picro-Basalt</td>\n",
       "      <td>Intraplate / Oceanic Crust (&lt; 15 km)</td>\n",
       "      <td>2016</td>\n",
       "    </tr>\n",
       "    <tr>\n",
       "      <th>...</th>\n",
       "      <td>...</td>\n",
       "      <td>...</td>\n",
       "      <td>...</td>\n",
       "      <td>...</td>\n",
       "      <td>...</td>\n",
       "      <td>...</td>\n",
       "      <td>...</td>\n",
       "      <td>...</td>\n",
       "      <td>...</td>\n",
       "      <td>...</td>\n",
       "      <td>...</td>\n",
       "      <td>...</td>\n",
       "      <td>...</td>\n",
       "    </tr>\n",
       "    <tr>\n",
       "      <th>754</th>\n",
       "      <td>357090</td>\n",
       "      <td>Copahue</td>\n",
       "      <td>Chile-Argentina</td>\n",
       "      <td>South America</td>\n",
       "      <td>Stratovolcano</td>\n",
       "      <td>Eruption Observed</td>\n",
       "      <td>2016 CE</td>\n",
       "      <td>-37.856</td>\n",
       "      <td>-71.183</td>\n",
       "      <td>2953</td>\n",
       "      <td>Trachybasalt / Tephrite Basanite</td>\n",
       "      <td>Subduction Zone / Continental Crust (&gt;25 km)</td>\n",
       "      <td>2016</td>\n",
       "    </tr>\n",
       "    <tr>\n",
       "      <th>761</th>\n",
       "      <td>357120</td>\n",
       "      <td>Villarrica</td>\n",
       "      <td>Chile</td>\n",
       "      <td>South America</td>\n",
       "      <td>Stratovolcano</td>\n",
       "      <td>Eruption Observed</td>\n",
       "      <td>2016 CE</td>\n",
       "      <td>-39.420</td>\n",
       "      <td>-71.930</td>\n",
       "      <td>2847</td>\n",
       "      <td>Basalt / Picro-Basalt</td>\n",
       "      <td>Subduction Zone / Continental Crust (&gt;25 km)</td>\n",
       "      <td>2016</td>\n",
       "    </tr>\n",
       "    <tr>\n",
       "      <th>858</th>\n",
       "      <td>390020</td>\n",
       "      <td>Erebus</td>\n",
       "      <td>Antarctica</td>\n",
       "      <td>Antarctica</td>\n",
       "      <td>Stratovolcano</td>\n",
       "      <td>Eruption Observed</td>\n",
       "      <td>2016 CE</td>\n",
       "      <td>-77.530</td>\n",
       "      <td>167.170</td>\n",
       "      <td>3794</td>\n",
       "      <td>Phonolite</td>\n",
       "      <td>Intraplate / Continental Crust (&gt;25 km)</td>\n",
       "      <td>2016</td>\n",
       "    </tr>\n",
       "    <tr>\n",
       "      <th>865</th>\n",
       "      <td>390080</td>\n",
       "      <td>Bristol Island</td>\n",
       "      <td>United Kingdom</td>\n",
       "      <td>Antarctica</td>\n",
       "      <td>Stratovolcano</td>\n",
       "      <td>Eruption Observed</td>\n",
       "      <td>2016 CE</td>\n",
       "      <td>-59.017</td>\n",
       "      <td>-26.533</td>\n",
       "      <td>1100</td>\n",
       "      <td>Basalt / Picro-Basalt</td>\n",
       "      <td>Subduction Zone / Oceanic Crust (&lt; 15 km)</td>\n",
       "      <td>2016</td>\n",
       "    </tr>\n",
       "    <tr>\n",
       "      <th>869</th>\n",
       "      <td>390130</td>\n",
       "      <td>Zavodovski</td>\n",
       "      <td>United Kingdom</td>\n",
       "      <td>Antarctica</td>\n",
       "      <td>Stratovolcano</td>\n",
       "      <td>Eruption Observed</td>\n",
       "      <td>2016 CE</td>\n",
       "      <td>-56.300</td>\n",
       "      <td>-27.570</td>\n",
       "      <td>551</td>\n",
       "      <td>Basalt / Picro-Basalt</td>\n",
       "      <td>Subduction Zone / Oceanic Crust (&lt; 15 km)</td>\n",
       "      <td>2016</td>\n",
       "    </tr>\n",
       "  </tbody>\n",
       "</table>\n",
       "<p>68 rows × 13 columns</p>\n",
       "</div>"
      ],
      "text/plain": [
       "     Number                    Name          Country  \\\n",
       "9    211040               Stromboli            Italy   \n",
       "12   211060                    Etna            Italy   \n",
       "35   221080                Erta Ale         Ethiopia   \n",
       "66   223030              Nyiragongo         DR Congo   \n",
       "89   233020  Fournaise, Piton de la           France   \n",
       "..      ...                     ...              ...   \n",
       "754  357090                 Copahue  Chile-Argentina   \n",
       "761  357120              Villarrica            Chile   \n",
       "858  390020                  Erebus       Antarctica   \n",
       "865  390080          Bristol Island   United Kingdom   \n",
       "869  390130              Zavodovski   United Kingdom   \n",
       "\n",
       "                             Region               Type  Activity Evidence  \\\n",
       "9    Mediterranean and Western Asia      Stratovolcano  Eruption Observed   \n",
       "12   Mediterranean and Western Asia  Stratovolcano(es)  Eruption Observed   \n",
       "35               Africa and Red Sea             Shield  Eruption Observed   \n",
       "66               Africa and Red Sea      Stratovolcano  Eruption Observed   \n",
       "89     Middle East and Indian Ocean             Shield  Eruption Observed   \n",
       "..                              ...                ...                ...   \n",
       "754                   South America      Stratovolcano  Eruption Observed   \n",
       "761                   South America      Stratovolcano  Eruption Observed   \n",
       "858                      Antarctica      Stratovolcano  Eruption Observed   \n",
       "865                      Antarctica      Stratovolcano  Eruption Observed   \n",
       "869                      Antarctica      Stratovolcano  Eruption Observed   \n",
       "\n",
       "    Last Known Eruption  Latitude  Longitude  Elevation (Meters)  \\\n",
       "9               2016 CE    38.789     15.213                 924   \n",
       "12              2016 CE    37.734     15.004                3330   \n",
       "35              2016 CE    13.600     40.670                 613   \n",
       "66              2016 CE    -1.520     29.250                3470   \n",
       "89              2016 CE   -21.244     55.708                2632   \n",
       "..                  ...       ...        ...                 ...   \n",
       "754             2016 CE   -37.856    -71.183                2953   \n",
       "761             2016 CE   -39.420    -71.930                2847   \n",
       "858             2016 CE   -77.530    167.170                3794   \n",
       "865             2016 CE   -59.017    -26.533                1100   \n",
       "869             2016 CE   -56.300    -27.570                 551   \n",
       "\n",
       "                           Dominant Rock Type  \\\n",
       "9    Trachyandesite / Basaltic Trachyandesite   \n",
       "12           Trachybasalt / Tephrite Basanite   \n",
       "35                      Basalt / Picro-Basalt   \n",
       "66                                    Foidite   \n",
       "89                      Basalt / Picro-Basalt   \n",
       "..                                        ...   \n",
       "754          Trachybasalt / Tephrite Basanite   \n",
       "761                     Basalt / Picro-Basalt   \n",
       "858                                 Phonolite   \n",
       "865                     Basalt / Picro-Basalt   \n",
       "869                     Basalt / Picro-Basalt   \n",
       "\n",
       "                                 Tectonic Setting year_eruption  \n",
       "9    Subduction Zone / Continental Crust (>25 km)          2016  \n",
       "12   Subduction Zone / Continental Crust (>25 km)          2016  \n",
       "35      Rift Zone / Intermediate Crust (15-25 km)          2016  \n",
       "66         Rift Zone / Continental Crust (>25 km)          2016  \n",
       "89           Intraplate / Oceanic Crust (< 15 km)          2016  \n",
       "..                                            ...           ...  \n",
       "754  Subduction Zone / Continental Crust (>25 km)          2016  \n",
       "761  Subduction Zone / Continental Crust (>25 km)          2016  \n",
       "858       Intraplate / Continental Crust (>25 km)          2016  \n",
       "865     Subduction Zone / Oceanic Crust (< 15 km)          2016  \n",
       "869     Subduction Zone / Oceanic Crust (< 15 km)          2016  \n",
       "\n",
       "[68 rows x 13 columns]"
      ]
     },
     "execution_count": 51,
     "metadata": {},
     "output_type": "execute_result"
    }
   ],
   "source": [
    "volcanos2[volcanos2.year_eruption == volcanos2.year_eruption.max()]"
   ]
  },
  {
   "cell_type": "code",
   "execution_count": 47,
   "id": "26837e0a",
   "metadata": {},
   "outputs": [
    {
     "data": {
      "text/plain": [
       "<seaborn.axisgrid.FacetGrid at 0x7f4bae4e0220>"
      ]
     },
     "execution_count": 47,
     "metadata": {},
     "output_type": "execute_result"
    },
    {
     "data": {
      "image/png": "[encoded data removed]",
      "text/plain": [
       "<Figure size 500x500 with 1 Axes>"
      ]
     },
     "metadata": {},
     "output_type": "display_data"
    }
   ],
   "source": [
    "sns.displot(volcanos2.year_eruption, kde=False, bins=500)"
   ]
  },
  {
   "cell_type": "code",
   "execution_count": 52,
   "id": "c63a7fcc",
   "metadata": {},
   "outputs": [],
   "source": [
    "del volcanos, volcanos2\n"
   ]
  },
  {
   "cell_type": "markdown",
   "id": "4dc31a23",
   "metadata": {},
   "source": [
    "---\n",
    "\n",
    "### IV. Character Encodings"
   ]
  },
  {
   "cell_type": "code",
   "execution_count": 60,
   "id": "4ed92822",
   "metadata": {},
   "outputs": [
    {
     "data": {
      "text/plain": [
       "str"
      ]
     },
     "execution_count": 60,
     "metadata": {},
     "output_type": "execute_result"
    }
   ],
   "source": [
    "before = \"This is the euro symbol: €\"\n",
    "type(before)"
   ]
  },
  {
   "cell_type": "code",
   "execution_count": 61,
   "id": "32db869c",
   "metadata": {},
   "outputs": [
    {
     "data": {
      "text/plain": [
       "bytes"
      ]
     },
     "execution_count": 61,
     "metadata": {},
     "output_type": "execute_result"
    }
   ],
   "source": [
    "after = before.encode(\"utf-8\", errors=\"replace\")\n",
    "type(after)"
   ]
  },
  {
   "cell_type": "code",
   "execution_count": 62,
   "id": "0f2a725c",
   "metadata": {},
   "outputs": [
    {
     "data": {
      "text/plain": [
       "'This is the euro symbol: €'"
      ]
     },
     "execution_count": 62,
     "metadata": {},
     "output_type": "execute_result"
    }
   ],
   "source": [
    "before"
   ]
  },
  {
   "cell_type": "code",
   "execution_count": 63,
   "id": "9d4f7cc2",
   "metadata": {},
   "outputs": [
    {
     "data": {
      "text/plain": [
       "b'This is the euro symbol: \\xe2\\x82\\xac'"
      ]
     },
     "execution_count": 63,
     "metadata": {},
     "output_type": "execute_result"
    }
   ],
   "source": [
    "after"
   ]
  },
  {
   "cell_type": "code",
   "execution_count": 64,
   "id": "1e1b0793",
   "metadata": {},
   "outputs": [
    {
     "name": "stdout",
     "output_type": "stream",
     "text": [
      "This is the euro symbol: €\n"
     ]
    }
   ],
   "source": [
    "print(after.decode('utf-8'))"
   ]
  },
  {
   "cell_type": "code",
   "execution_count": 65,
   "id": "50e31741",
   "metadata": {},
   "outputs": [
    {
     "ename": "UnicodeDecodeError",
     "evalue": "'ascii' codec can't decode byte 0xe2 in position 25: ordinal not in range(128)",
     "output_type": "error",
     "traceback": [
      "\u001b[0;31m---------------------------------------------------------------------------\u001b[0m",
      "\u001b[0;31mUnicodeDecodeError\u001b[0m                        Traceback (most recent call last)",
      "Cell \u001b[0;32mIn[65], line 1\u001b[0m\n\u001b[0;32m----> 1\u001b[0m \u001b[38;5;28mprint\u001b[39m(\u001b[43mafter\u001b[49m\u001b[38;5;241;43m.\u001b[39;49m\u001b[43mdecode\u001b[49m\u001b[43m(\u001b[49m\u001b[38;5;124;43m'\u001b[39;49m\u001b[38;5;124;43mascii\u001b[39;49m\u001b[38;5;124;43m'\u001b[39;49m\u001b[43m)\u001b[49m)\n",
      "\u001b[0;31mUnicodeDecodeError\u001b[0m: 'ascii' codec can't decode byte 0xe2 in position 25: ordinal not in range(128)"
     ]
    }
   ],
   "source": [
    "print(after.decode('ascii'))"
   ]
  },
  {
   "cell_type": "code",
   "execution_count": 66,
   "id": "942cbec8",
   "metadata": {},
   "outputs": [
    {
     "name": "stdout",
     "output_type": "stream",
     "text": [
      "桔獩椠⁳桴⁥略潲猠浹潢㩬겂\n"
     ]
    }
   ],
   "source": [
    "print(after.decode('utf-16'))"
   ]
  },
  {
   "cell_type": "code",
   "execution_count": 70,
   "id": "eac0580e",
   "metadata": {},
   "outputs": [
    {
     "ename": "UnicodeDecodeError",
     "evalue": "'utf-32-le' codec can't decode bytes in position 0-3: code point not in range(0x110000)",
     "output_type": "error",
     "traceback": [
      "\u001b[0;31m---------------------------------------------------------------------------\u001b[0m",
      "\u001b[0;31mUnicodeDecodeError\u001b[0m                        Traceback (most recent call last)",
      "Cell \u001b[0;32mIn[70], line 1\u001b[0m\n\u001b[0;32m----> 1\u001b[0m \u001b[38;5;28mprint\u001b[39m(\u001b[43mafter\u001b[49m\u001b[38;5;241;43m.\u001b[39;49m\u001b[43mdecode\u001b[49m\u001b[43m(\u001b[49m\u001b[38;5;124;43m'\u001b[39;49m\u001b[38;5;124;43mutf-32\u001b[39;49m\u001b[38;5;124;43m'\u001b[39;49m\u001b[43m)\u001b[49m)\n",
      "\u001b[0;31mUnicodeDecodeError\u001b[0m: 'utf-32-le' codec can't decode bytes in position 0-3: code point not in range(0x110000)"
     ]
    }
   ],
   "source": [
    "print(after.decode('utf-32'))"
   ]
  },
  {
   "cell_type": "code",
   "execution_count": 72,
   "id": "b8dcc575",
   "metadata": {},
   "outputs": [
    {
     "name": "stdout",
     "output_type": "stream",
     "text": [
      "This is the euro symbol: ?\n"
     ]
    }
   ],
   "source": [
    "before = \"This is the euro symbol: €\"\n",
    "after  = before.encode(\"ascii\", errors=\"replace\")\n",
    "\n",
    "print(after.decode(\"ascii\"))\n"
   ]
  },
  {
   "cell_type": "code",
   "execution_count": 73,
   "id": "382d547e",
   "metadata": {},
   "outputs": [],
   "source": [
    "del before, after"
   ]
  },
  {
   "cell_type": "code",
   "execution_count": 74,
   "id": "d7071fa6",
   "metadata": {},
   "outputs": [
    {
     "ename": "UnicodeDecodeError",
     "evalue": "'utf-8' codec can't decode byte 0x99 in position 7955: invalid start byte",
     "output_type": "error",
     "traceback": [
      "\u001b[0;31m---------------------------------------------------------------------------\u001b[0m",
      "\u001b[0;31mUnicodeDecodeError\u001b[0m                        Traceback (most recent call last)",
      "Cell \u001b[0;32mIn[74], line 1\u001b[0m\n\u001b[0;32m----> 1\u001b[0m kickstarter_2016 \u001b[38;5;241m=\u001b[39m \u001b[43mpd\u001b[49m\u001b[38;5;241;43m.\u001b[39;49m\u001b[43mread_csv\u001b[49m\u001b[43m(\u001b[49m\u001b[43mdatapath\u001b[49m\u001b[38;5;241;43m+\u001b[39;49m\u001b[38;5;124;43m'\u001b[39;49m\u001b[38;5;124;43m/ks-projects-201612.csv\u001b[39;49m\u001b[38;5;124;43m'\u001b[39;49m\u001b[43m)\u001b[49m\n",
      "File \u001b[0;32m~/miniconda3/envs/datasci/lib/python3.10/site-packages/pandas/io/parsers/readers.py:1026\u001b[0m, in \u001b[0;36mread_csv\u001b[0;34m(filepath_or_buffer, sep, delimiter, header, names, index_col, usecols, dtype, engine, converters, true_values, false_values, skipinitialspace, skiprows, skipfooter, nrows, na_values, keep_default_na, na_filter, verbose, skip_blank_lines, parse_dates, infer_datetime_format, keep_date_col, date_parser, date_format, dayfirst, cache_dates, iterator, chunksize, compression, thousands, decimal, lineterminator, quotechar, quoting, doublequote, escapechar, comment, encoding, encoding_errors, dialect, on_bad_lines, delim_whitespace, low_memory, memory_map, float_precision, storage_options, dtype_backend)\u001b[0m\n\u001b[1;32m   1013\u001b[0m kwds_defaults \u001b[38;5;241m=\u001b[39m _refine_defaults_read(\n\u001b[1;32m   1014\u001b[0m     dialect,\n\u001b[1;32m   1015\u001b[0m     delimiter,\n\u001b[0;32m   (...)\u001b[0m\n\u001b[1;32m   1022\u001b[0m     dtype_backend\u001b[38;5;241m=\u001b[39mdtype_backend,\n\u001b[1;32m   1023\u001b[0m )\n\u001b[1;32m   1024\u001b[0m kwds\u001b[38;5;241m.\u001b[39mupdate(kwds_defaults)\n\u001b[0;32m-> 1026\u001b[0m \u001b[38;5;28;01mreturn\u001b[39;00m \u001b[43m_read\u001b[49m\u001b[43m(\u001b[49m\u001b[43mfilepath_or_buffer\u001b[49m\u001b[43m,\u001b[49m\u001b[43m \u001b[49m\u001b[43mkwds\u001b[49m\u001b[43m)\u001b[49m\n",
      "File \u001b[0;32m~/miniconda3/envs/datasci/lib/python3.10/site-packages/pandas/io/parsers/readers.py:620\u001b[0m, in \u001b[0;36m_read\u001b[0;34m(filepath_or_buffer, kwds)\u001b[0m\n\u001b[1;32m    617\u001b[0m _validate_names(kwds\u001b[38;5;241m.\u001b[39mget(\u001b[38;5;124m\"\u001b[39m\u001b[38;5;124mnames\u001b[39m\u001b[38;5;124m\"\u001b[39m, \u001b[38;5;28;01mNone\u001b[39;00m))\n\u001b[1;32m    619\u001b[0m \u001b[38;5;66;03m# Create the parser.\u001b[39;00m\n\u001b[0;32m--> 620\u001b[0m parser \u001b[38;5;241m=\u001b[39m \u001b[43mTextFileReader\u001b[49m\u001b[43m(\u001b[49m\u001b[43mfilepath_or_buffer\u001b[49m\u001b[43m,\u001b[49m\u001b[43m \u001b[49m\u001b[38;5;241;43m*\u001b[39;49m\u001b[38;5;241;43m*\u001b[39;49m\u001b[43mkwds\u001b[49m\u001b[43m)\u001b[49m\n\u001b[1;32m    622\u001b[0m \u001b[38;5;28;01mif\u001b[39;00m chunksize \u001b[38;5;129;01mor\u001b[39;00m iterator:\n\u001b[1;32m    623\u001b[0m     \u001b[38;5;28;01mreturn\u001b[39;00m parser\n",
      "File \u001b[0;32m~/miniconda3/envs/datasci/lib/python3.10/site-packages/pandas/io/parsers/readers.py:1620\u001b[0m, in \u001b[0;36mTextFileReader.__init__\u001b[0;34m(self, f, engine, **kwds)\u001b[0m\n\u001b[1;32m   1617\u001b[0m     \u001b[38;5;28mself\u001b[39m\u001b[38;5;241m.\u001b[39moptions[\u001b[38;5;124m\"\u001b[39m\u001b[38;5;124mhas_index_names\u001b[39m\u001b[38;5;124m\"\u001b[39m] \u001b[38;5;241m=\u001b[39m kwds[\u001b[38;5;124m\"\u001b[39m\u001b[38;5;124mhas_index_names\u001b[39m\u001b[38;5;124m\"\u001b[39m]\n\u001b[1;32m   1619\u001b[0m \u001b[38;5;28mself\u001b[39m\u001b[38;5;241m.\u001b[39mhandles: IOHandles \u001b[38;5;241m|\u001b[39m \u001b[38;5;28;01mNone\u001b[39;00m \u001b[38;5;241m=\u001b[39m \u001b[38;5;28;01mNone\u001b[39;00m\n\u001b[0;32m-> 1620\u001b[0m \u001b[38;5;28mself\u001b[39m\u001b[38;5;241m.\u001b[39m_engine \u001b[38;5;241m=\u001b[39m \u001b[38;5;28;43mself\u001b[39;49m\u001b[38;5;241;43m.\u001b[39;49m\u001b[43m_make_engine\u001b[49m\u001b[43m(\u001b[49m\u001b[43mf\u001b[49m\u001b[43m,\u001b[49m\u001b[43m \u001b[49m\u001b[38;5;28;43mself\u001b[39;49m\u001b[38;5;241;43m.\u001b[39;49m\u001b[43mengine\u001b[49m\u001b[43m)\u001b[49m\n",
      "File \u001b[0;32m~/miniconda3/envs/datasci/lib/python3.10/site-packages/pandas/io/parsers/readers.py:1898\u001b[0m, in \u001b[0;36mTextFileReader._make_engine\u001b[0;34m(self, f, engine)\u001b[0m\n\u001b[1;32m   1895\u001b[0m     \u001b[38;5;28;01mraise\u001b[39;00m \u001b[38;5;167;01mValueError\u001b[39;00m(msg)\n\u001b[1;32m   1897\u001b[0m \u001b[38;5;28;01mtry\u001b[39;00m:\n\u001b[0;32m-> 1898\u001b[0m     \u001b[38;5;28;01mreturn\u001b[39;00m \u001b[43mmapping\u001b[49m\u001b[43m[\u001b[49m\u001b[43mengine\u001b[49m\u001b[43m]\u001b[49m\u001b[43m(\u001b[49m\u001b[43mf\u001b[49m\u001b[43m,\u001b[49m\u001b[43m \u001b[49m\u001b[38;5;241;43m*\u001b[39;49m\u001b[38;5;241;43m*\u001b[39;49m\u001b[38;5;28;43mself\u001b[39;49m\u001b[38;5;241;43m.\u001b[39;49m\u001b[43moptions\u001b[49m\u001b[43m)\u001b[49m\n\u001b[1;32m   1899\u001b[0m \u001b[38;5;28;01mexcept\u001b[39;00m \u001b[38;5;167;01mException\u001b[39;00m:\n\u001b[1;32m   1900\u001b[0m     \u001b[38;5;28;01mif\u001b[39;00m \u001b[38;5;28mself\u001b[39m\u001b[38;5;241m.\u001b[39mhandles \u001b[38;5;129;01mis\u001b[39;00m \u001b[38;5;129;01mnot\u001b[39;00m \u001b[38;5;28;01mNone\u001b[39;00m:\n",
      "File \u001b[0;32m~/miniconda3/envs/datasci/lib/python3.10/site-packages/pandas/io/parsers/c_parser_wrapper.py:93\u001b[0m, in \u001b[0;36mCParserWrapper.__init__\u001b[0;34m(self, src, **kwds)\u001b[0m\n\u001b[1;32m     90\u001b[0m \u001b[38;5;28;01mif\u001b[39;00m kwds[\u001b[38;5;124m\"\u001b[39m\u001b[38;5;124mdtype_backend\u001b[39m\u001b[38;5;124m\"\u001b[39m] \u001b[38;5;241m==\u001b[39m \u001b[38;5;124m\"\u001b[39m\u001b[38;5;124mpyarrow\u001b[39m\u001b[38;5;124m\"\u001b[39m:\n\u001b[1;32m     91\u001b[0m     \u001b[38;5;66;03m# Fail here loudly instead of in cython after reading\u001b[39;00m\n\u001b[1;32m     92\u001b[0m     import_optional_dependency(\u001b[38;5;124m\"\u001b[39m\u001b[38;5;124mpyarrow\u001b[39m\u001b[38;5;124m\"\u001b[39m)\n\u001b[0;32m---> 93\u001b[0m \u001b[38;5;28mself\u001b[39m\u001b[38;5;241m.\u001b[39m_reader \u001b[38;5;241m=\u001b[39m \u001b[43mparsers\u001b[49m\u001b[38;5;241;43m.\u001b[39;49m\u001b[43mTextReader\u001b[49m\u001b[43m(\u001b[49m\u001b[43msrc\u001b[49m\u001b[43m,\u001b[49m\u001b[43m \u001b[49m\u001b[38;5;241;43m*\u001b[39;49m\u001b[38;5;241;43m*\u001b[39;49m\u001b[43mkwds\u001b[49m\u001b[43m)\u001b[49m\n\u001b[1;32m     95\u001b[0m \u001b[38;5;28mself\u001b[39m\u001b[38;5;241m.\u001b[39munnamed_cols \u001b[38;5;241m=\u001b[39m \u001b[38;5;28mself\u001b[39m\u001b[38;5;241m.\u001b[39m_reader\u001b[38;5;241m.\u001b[39munnamed_cols\n\u001b[1;32m     97\u001b[0m \u001b[38;5;66;03m# error: Cannot determine type of 'names'\u001b[39;00m\n",
      "File \u001b[0;32mparsers.pyx:574\u001b[0m, in \u001b[0;36mpandas._libs.parsers.TextReader.__cinit__\u001b[0;34m()\u001b[0m\n",
      "File \u001b[0;32mparsers.pyx:663\u001b[0m, in \u001b[0;36mpandas._libs.parsers.TextReader._get_header\u001b[0;34m()\u001b[0m\n",
      "File \u001b[0;32mparsers.pyx:874\u001b[0m, in \u001b[0;36mpandas._libs.parsers.TextReader._tokenize_rows\u001b[0;34m()\u001b[0m\n",
      "File \u001b[0;32mparsers.pyx:891\u001b[0m, in \u001b[0;36mpandas._libs.parsers.TextReader._check_tokenize_status\u001b[0;34m()\u001b[0m\n",
      "File \u001b[0;32mparsers.pyx:2053\u001b[0m, in \u001b[0;36mpandas._libs.parsers.raise_parser_error\u001b[0;34m()\u001b[0m\n",
      "\u001b[0;31mUnicodeDecodeError\u001b[0m: 'utf-8' codec can't decode byte 0x99 in position 7955: invalid start byte"
     ]
    }
   ],
   "source": [
    "kickstarter_2016 = pd.read_csv(datapath+'/ks-projects-201612.csv')\n"
   ]
  },
  {
   "cell_type": "code",
   "execution_count": 81,
   "id": "a27decf0",
   "metadata": {},
   "outputs": [
    {
     "name": "stdout",
     "output_type": "stream",
     "text": [
      "{'encoding': 'windows-1250', 'language': 'English', 'confidence': 1.0}\n",
      "{'encoding': 'utf-8', 'language': 'English', 'confidence': 1.0}\n"
     ]
    }
   ],
   "source": [
    "with open(datapath+'/ks-projects-201612.csv', 'rb') as infile:\n",
    "    result = charset_normalizer.detect(infile.read(10000))\n",
    "    print(result)\n",
    "\n",
    "with open(datapath+'/ks-projects-201801.csv', 'rb') as infile:\n",
    "    result = charset_normalizer.detect(infile.read(10000))\n",
    "    print(result)\n"
   ]
  },
  {
   "cell_type": "code",
   "execution_count": 82,
   "id": "2e1156b9",
   "metadata": {},
   "outputs": [
    {
     "name": "stderr",
     "output_type": "stream",
     "text": [
      "/tmp/ipykernel_12457/3260658104.py:1: DtypeWarning: Columns (13,14,15) have mixed types. Specify dtype option on import or set low_memory=False.\n",
      "  kickstarter_2016 = pd.read_csv(datapath+'/ks-projects-201612.csv',\n"
     ]
    },
    {
     "data": {
      "application/vnd.microsoft.datawrangler.viewer.v0+json": {
       "columns": [
        {
         "name": "index",
         "rawType": "int64",
         "type": "integer"
        },
        {
         "name": "ID ",
         "rawType": "int64",
         "type": "integer"
        },
        {
         "name": "name ",
         "rawType": "object",
         "type": "string"
        },
        {
         "name": "category ",
         "rawType": "object",
         "type": "string"
        },
        {
         "name": "main_category ",
         "rawType": "object",
         "type": "string"
        },
        {
         "name": "currency ",
         "rawType": "object",
         "type": "string"
        },
        {
         "name": "deadline ",
         "rawType": "object",
         "type": "string"
        },
        {
         "name": "goal ",
         "rawType": "object",
         "type": "string"
        },
        {
         "name": "launched ",
         "rawType": "object",
         "type": "string"
        },
        {
         "name": "pledged ",
         "rawType": "object",
         "type": "string"
        },
        {
         "name": "state ",
         "rawType": "object",
         "type": "string"
        },
        {
         "name": "backers ",
         "rawType": "object",
         "type": "string"
        },
        {
         "name": "country ",
         "rawType": "object",
         "type": "string"
        },
        {
         "name": "usd pledged ",
         "rawType": "object",
         "type": "string"
        },
        {
         "name": "Unnamed: 13",
         "rawType": "object",
         "type": "unknown"
        },
        {
         "name": "Unnamed: 14",
         "rawType": "object",
         "type": "unknown"
        },
        {
         "name": "Unnamed: 15",
         "rawType": "object",
         "type": "unknown"
        },
        {
         "name": "Unnamed: 16",
         "rawType": "float64",
         "type": "float"
        }
       ],
       "conversionMethod": "pd.DataFrame",
       "ref": "9048b0f2-82af-4a00-b1e0-0f6fc4a3cbbd",
       "rows": [
        [
         "0",
         "1000002330",
         "The Songs of Adelaide & Abullah",
         "Poetry",
         "Publishing",
         "GBP",
         "2015-10-09 11:36:00",
         "1000",
         "2015-08-11 12:12:28",
         "0",
         "failed",
         "0",
         "GB",
         "0",
         null,
         null,
         null,
         null
        ],
        [
         "1",
         "1000004038",
         "Where is Hank?",
         "Narrative Film",
         "Film & Video",
         "USD",
         "2013-02-26 00:20:50",
         "45000",
         "2013-01-12 00:20:50",
         "220",
         "failed",
         "3",
         "US",
         "220",
         null,
         null,
         null,
         null
        ],
        [
         "2",
         "1000007540",
         "ToshiCapital Rekordz Needs Help to Complete Album",
         "Music",
         "Music",
         "USD",
         "2012-04-16 04:24:11",
         "5000",
         "2012-03-17 03:24:11",
         "1",
         "failed",
         "1",
         "US",
         "1",
         null,
         null,
         null,
         null
        ],
        [
         "3",
         "1000011046",
         "Community Film Project: The Art of Neighborhood Filmmaking",
         "Film & Video",
         "Film & Video",
         "USD",
         "2015-08-29 01:00:00",
         "19500",
         "2015-07-04 08:35:03",
         "1283",
         "canceled",
         "14",
         "US",
         "1283",
         null,
         null,
         null,
         null
        ],
        [
         "4",
         "1000014025",
         "Monarch Espresso Bar",
         "Restaurants",
         "Food",
         "USD",
         "2016-04-01 13:38:27",
         "50000",
         "2016-02-26 13:38:27",
         "52375",
         "successful",
         "224",
         "US",
         "52375",
         null,
         null,
         null,
         null
        ]
       ],
       "shape": {
        "columns": 17,
        "rows": 5
       }
      },
      "text/html": [
       "<div>\n",
       "<style scoped>\n",
       "    .dataframe tbody tr th:only-of-type {\n",
       "        vertical-align: middle;\n",
       "    }\n",
       "\n",
       "    .dataframe tbody tr th {\n",
       "        vertical-align: top;\n",
       "    }\n",
       "\n",
       "    .dataframe thead th {\n",
       "        text-align: right;\n",
       "    }\n",
       "</style>\n",
       "<table border=\"1\" class=\"dataframe\">\n",
       "  <thead>\n",
       "    <tr style=\"text-align: right;\">\n",
       "      <th></th>\n",
       "      <th>ID</th>\n",
       "      <th>name</th>\n",
       "      <th>category</th>\n",
       "      <th>main_category</th>\n",
       "      <th>currency</th>\n",
       "      <th>deadline</th>\n",
       "      <th>goal</th>\n",
       "      <th>launched</th>\n",
       "      <th>pledged</th>\n",
       "      <th>state</th>\n",
       "      <th>backers</th>\n",
       "      <th>country</th>\n",
       "      <th>usd pledged</th>\n",
       "      <th>Unnamed: 13</th>\n",
       "      <th>Unnamed: 14</th>\n",
       "      <th>Unnamed: 15</th>\n",
       "      <th>Unnamed: 16</th>\n",
       "    </tr>\n",
       "  </thead>\n",
       "  <tbody>\n",
       "    <tr>\n",
       "      <th>0</th>\n",
       "      <td>1000002330</td>\n",
       "      <td>The Songs of Adelaide &amp; Abullah</td>\n",
       "      <td>Poetry</td>\n",
       "      <td>Publishing</td>\n",
       "      <td>GBP</td>\n",
       "      <td>2015-10-09 11:36:00</td>\n",
       "      <td>1000</td>\n",
       "      <td>2015-08-11 12:12:28</td>\n",
       "      <td>0</td>\n",
       "      <td>failed</td>\n",
       "      <td>0</td>\n",
       "      <td>GB</td>\n",
       "      <td>0</td>\n",
       "      <td>NaN</td>\n",
       "      <td>NaN</td>\n",
       "      <td>NaN</td>\n",
       "      <td>NaN</td>\n",
       "    </tr>\n",
       "    <tr>\n",
       "      <th>1</th>\n",
       "      <td>1000004038</td>\n",
       "      <td>Where is Hank?</td>\n",
       "      <td>Narrative Film</td>\n",
       "      <td>Film &amp; Video</td>\n",
       "      <td>USD</td>\n",
       "      <td>2013-02-26 00:20:50</td>\n",
       "      <td>45000</td>\n",
       "      <td>2013-01-12 00:20:50</td>\n",
       "      <td>220</td>\n",
       "      <td>failed</td>\n",
       "      <td>3</td>\n",
       "      <td>US</td>\n",
       "      <td>220</td>\n",
       "      <td>NaN</td>\n",
       "      <td>NaN</td>\n",
       "      <td>NaN</td>\n",
       "      <td>NaN</td>\n",
       "    </tr>\n",
       "    <tr>\n",
       "      <th>2</th>\n",
       "      <td>1000007540</td>\n",
       "      <td>ToshiCapital Rekordz Needs Help to Complete Album</td>\n",
       "      <td>Music</td>\n",
       "      <td>Music</td>\n",
       "      <td>USD</td>\n",
       "      <td>2012-04-16 04:24:11</td>\n",
       "      <td>5000</td>\n",
       "      <td>2012-03-17 03:24:11</td>\n",
       "      <td>1</td>\n",
       "      <td>failed</td>\n",
       "      <td>1</td>\n",
       "      <td>US</td>\n",
       "      <td>1</td>\n",
       "      <td>NaN</td>\n",
       "      <td>NaN</td>\n",
       "      <td>NaN</td>\n",
       "      <td>NaN</td>\n",
       "    </tr>\n",
       "    <tr>\n",
       "      <th>3</th>\n",
       "      <td>1000011046</td>\n",
       "      <td>Community Film Project: The Art of Neighborhoo...</td>\n",
       "      <td>Film &amp; Video</td>\n",
       "      <td>Film &amp; Video</td>\n",
       "      <td>USD</td>\n",
       "      <td>2015-08-29 01:00:00</td>\n",
       "      <td>19500</td>\n",
       "      <td>2015-07-04 08:35:03</td>\n",
       "      <td>1283</td>\n",
       "      <td>canceled</td>\n",
       "      <td>14</td>\n",
       "      <td>US</td>\n",
       "      <td>1283</td>\n",
       "      <td>NaN</td>\n",
       "      <td>NaN</td>\n",
       "      <td>NaN</td>\n",
       "      <td>NaN</td>\n",
       "    </tr>\n",
       "    <tr>\n",
       "      <th>4</th>\n",
       "      <td>1000014025</td>\n",
       "      <td>Monarch Espresso Bar</td>\n",
       "      <td>Restaurants</td>\n",
       "      <td>Food</td>\n",
       "      <td>USD</td>\n",
       "      <td>2016-04-01 13:38:27</td>\n",
       "      <td>50000</td>\n",
       "      <td>2016-02-26 13:38:27</td>\n",
       "      <td>52375</td>\n",
       "      <td>successful</td>\n",
       "      <td>224</td>\n",
       "      <td>US</td>\n",
       "      <td>52375</td>\n",
       "      <td>NaN</td>\n",
       "      <td>NaN</td>\n",
       "      <td>NaN</td>\n",
       "      <td>NaN</td>\n",
       "    </tr>\n",
       "  </tbody>\n",
       "</table>\n",
       "</div>"
      ],
      "text/plain": [
       "          ID                                               name   \\\n",
       "0  1000002330                    The Songs of Adelaide & Abullah   \n",
       "1  1000004038                                     Where is Hank?   \n",
       "2  1000007540  ToshiCapital Rekordz Needs Help to Complete Album   \n",
       "3  1000011046  Community Film Project: The Art of Neighborhoo...   \n",
       "4  1000014025                               Monarch Espresso Bar   \n",
       "\n",
       "        category  main_category  currency             deadline   goal   \\\n",
       "0          Poetry     Publishing       GBP  2015-10-09 11:36:00   1000   \n",
       "1  Narrative Film   Film & Video       USD  2013-02-26 00:20:50  45000   \n",
       "2           Music          Music       USD  2012-04-16 04:24:11   5000   \n",
       "3    Film & Video   Film & Video       USD  2015-08-29 01:00:00  19500   \n",
       "4     Restaurants           Food       USD  2016-04-01 13:38:27  50000   \n",
       "\n",
       "             launched  pledged       state  backers  country  usd pledged   \\\n",
       "0  2015-08-11 12:12:28        0      failed        0       GB            0   \n",
       "1  2013-01-12 00:20:50      220      failed        3       US          220   \n",
       "2  2012-03-17 03:24:11        1      failed        1       US            1   \n",
       "3  2015-07-04 08:35:03     1283    canceled       14       US         1283   \n",
       "4  2016-02-26 13:38:27    52375  successful      224       US        52375   \n",
       "\n",
       "  Unnamed: 13 Unnamed: 14 Unnamed: 15  Unnamed: 16  \n",
       "0         NaN         NaN         NaN          NaN  \n",
       "1         NaN         NaN         NaN          NaN  \n",
       "2         NaN         NaN         NaN          NaN  \n",
       "3         NaN         NaN         NaN          NaN  \n",
       "4         NaN         NaN         NaN          NaN  "
      ]
     },
     "execution_count": 82,
     "metadata": {},
     "output_type": "execute_result"
    }
   ],
   "source": [
    "kickstarter_2016 = pd.read_csv(datapath+'/ks-projects-201612.csv',\n",
    "                               encoding=\"Windows-1252\")\n",
    "kickstarter_2016.head()"
   ]
  },
  {
   "cell_type": "code",
   "execution_count": 83,
   "id": "e80253f8",
   "metadata": {},
   "outputs": [],
   "source": [
    "kickstarter_2016.to_csv(datapath+'/ks-projects-201612-utf8.csv')\n",
    "del kickstarter_2016\n"
   ]
  },
  {
   "cell_type": "markdown",
   "id": "51b7065d",
   "metadata": {},
   "source": [
    "---\n",
    "\n",
    "### V. Inconsistent Data Entry"
   ]
  },
  {
   "cell_type": "code",
   "execution_count": null,
   "id": "819a96e1",
   "metadata": {},
   "outputs": [
    {
     "name": "stdout",
     "output_type": "stream",
     "text": [
      "Collecting fuzzywuzzy\n",
      "  Downloading fuzzywuzzy-0.18.0-py2.py3-none-any.whl.metadata (4.9 kB)\n",
      "Downloading fuzzywuzzy-0.18.0-py2.py3-none-any.whl (18 kB)\n",
      "Installing collected packages: fuzzywuzzy\n",
      "Successfully installed fuzzywuzzy-0.18.0\n"
     ]
    }
   ],
   "source": [
    "#!pip install fuzzywuzzy\n"
   ]
  },
  {
   "cell_type": "code",
   "execution_count": 85,
   "id": "81cadd46",
   "metadata": {},
   "outputs": [
    {
     "name": "stderr",
     "output_type": "stream",
     "text": [
      "/home/rty10/miniconda3/envs/datasci/lib/python3.10/site-packages/fuzzywuzzy/fuzz.py:11: UserWarning: Using slow pure-python SequenceMatcher. Install python-Levenshtein to remove this warning\n",
      "  warnings.warn('Using slow pure-python SequenceMatcher. Install python-Levenshtein to remove this warning')\n"
     ]
    }
   ],
   "source": [
    "import fuzzywuzzy\n",
    "from fuzzywuzzy import process\n"
   ]
  },
  {
   "cell_type": "code",
   "execution_count": 102,
   "id": "0087675d",
   "metadata": {},
   "outputs": [],
   "source": [
    "professors = pd.read_csv(datapath +'/pakistan_intellectual_capital.csv')\n"
   ]
  },
  {
   "cell_type": "code",
   "execution_count": 87,
   "id": "63c9c4eb",
   "metadata": {},
   "outputs": [
    {
     "data": {
      "application/vnd.microsoft.datawrangler.viewer.v0+json": {
       "columns": [
        {
         "name": "index",
         "rawType": "int64",
         "type": "integer"
        },
        {
         "name": "Unnamed: 0",
         "rawType": "int64",
         "type": "integer"
        },
        {
         "name": "S#",
         "rawType": "int64",
         "type": "integer"
        },
        {
         "name": "Teacher Name",
         "rawType": "object",
         "type": "string"
        },
        {
         "name": "University Currently Teaching",
         "rawType": "object",
         "type": "string"
        },
        {
         "name": "Department",
         "rawType": "object",
         "type": "string"
        },
        {
         "name": "Province University Located",
         "rawType": "object",
         "type": "string"
        },
        {
         "name": "Designation",
         "rawType": "object",
         "type": "string"
        },
        {
         "name": "Terminal Degree",
         "rawType": "object",
         "type": "string"
        },
        {
         "name": "Graduated from",
         "rawType": "object",
         "type": "string"
        },
        {
         "name": "Country",
         "rawType": "object",
         "type": "string"
        },
        {
         "name": "Year",
         "rawType": "float64",
         "type": "float"
        },
        {
         "name": "Area of Specialization/Research Interests",
         "rawType": "object",
         "type": "string"
        },
        {
         "name": "Other Information",
         "rawType": "object",
         "type": "unknown"
        }
       ],
       "conversionMethod": "pd.DataFrame",
       "ref": "f4bdf3a2-5edc-4c6f-96c6-dc030a94b3ab",
       "rows": [
        [
         "0",
         "2",
         "3",
         "Dr. Abdul Basit",
         "University of Balochistan",
         "Computer Science & IT",
         "Balochistan",
         "Assistant Professor",
         "PhD",
         "Asian Institute of Technology",
         "Thailand",
         null,
         "Software Engineering & DBMS",
         null
        ],
        [
         "1",
         "4",
         "5",
         "Dr. Waheed Noor",
         "University of Balochistan",
         "Computer Science & IT",
         "Balochistan",
         "Assistant Professor",
         "PhD",
         "Asian Institute of Technology",
         "Thailand",
         null,
         "DBMS",
         null
        ],
        [
         "2",
         "5",
         "6",
         "Dr. Junaid Baber",
         "University of Balochistan",
         "Computer Science & IT",
         "Balochistan",
         "Assistant Professor",
         "PhD",
         "Asian Institute of Technology",
         "Thailand",
         null,
         "Information processing, Multimedia mining",
         null
        ],
        [
         "3",
         "6",
         "7",
         "Dr. Maheen Bakhtyar",
         "University of Balochistan",
         "Computer Science & IT",
         "Balochistan",
         "Assistant Professor",
         "PhD",
         "Asian Institute of Technology",
         "Thailand",
         null,
         "NLP, Information Retrieval, Question Answering system",
         null
        ],
        [
         "4",
         "24",
         "25",
         "Samina Azim",
         "Sardar Bahadur Khan Women's University",
         "Computer Science",
         "Balochistan",
         "Lecturer",
         "BS",
         "Balochistan University of Information Technology, Engineering and Management Sciences",
         "Pakistan",
         "2005.0",
         "VLSI Electronics DLD Database",
         null
        ]
       ],
       "shape": {
        "columns": 13,
        "rows": 5
       }
      },
      "text/html": [
       "<div>\n",
       "<style scoped>\n",
       "    .dataframe tbody tr th:only-of-type {\n",
       "        vertical-align: middle;\n",
       "    }\n",
       "\n",
       "    .dataframe tbody tr th {\n",
       "        vertical-align: top;\n",
       "    }\n",
       "\n",
       "    .dataframe thead th {\n",
       "        text-align: right;\n",
       "    }\n",
       "</style>\n",
       "<table border=\"1\" class=\"dataframe\">\n",
       "  <thead>\n",
       "    <tr style=\"text-align: right;\">\n",
       "      <th></th>\n",
       "      <th>Unnamed: 0</th>\n",
       "      <th>S#</th>\n",
       "      <th>Teacher Name</th>\n",
       "      <th>University Currently Teaching</th>\n",
       "      <th>Department</th>\n",
       "      <th>Province University Located</th>\n",
       "      <th>Designation</th>\n",
       "      <th>Terminal Degree</th>\n",
       "      <th>Graduated from</th>\n",
       "      <th>Country</th>\n",
       "      <th>Year</th>\n",
       "      <th>Area of Specialization/Research Interests</th>\n",
       "      <th>Other Information</th>\n",
       "    </tr>\n",
       "  </thead>\n",
       "  <tbody>\n",
       "    <tr>\n",
       "      <th>0</th>\n",
       "      <td>2</td>\n",
       "      <td>3</td>\n",
       "      <td>Dr. Abdul Basit</td>\n",
       "      <td>University of Balochistan</td>\n",
       "      <td>Computer Science &amp; IT</td>\n",
       "      <td>Balochistan</td>\n",
       "      <td>Assistant Professor</td>\n",
       "      <td>PhD</td>\n",
       "      <td>Asian Institute of Technology</td>\n",
       "      <td>Thailand</td>\n",
       "      <td>NaN</td>\n",
       "      <td>Software Engineering &amp; DBMS</td>\n",
       "      <td>NaN</td>\n",
       "    </tr>\n",
       "    <tr>\n",
       "      <th>1</th>\n",
       "      <td>4</td>\n",
       "      <td>5</td>\n",
       "      <td>Dr. Waheed Noor</td>\n",
       "      <td>University of Balochistan</td>\n",
       "      <td>Computer Science &amp; IT</td>\n",
       "      <td>Balochistan</td>\n",
       "      <td>Assistant Professor</td>\n",
       "      <td>PhD</td>\n",
       "      <td>Asian Institute of Technology</td>\n",
       "      <td>Thailand</td>\n",
       "      <td>NaN</td>\n",
       "      <td>DBMS</td>\n",
       "      <td>NaN</td>\n",
       "    </tr>\n",
       "    <tr>\n",
       "      <th>2</th>\n",
       "      <td>5</td>\n",
       "      <td>6</td>\n",
       "      <td>Dr. Junaid Baber</td>\n",
       "      <td>University of Balochistan</td>\n",
       "      <td>Computer Science &amp; IT</td>\n",
       "      <td>Balochistan</td>\n",
       "      <td>Assistant Professor</td>\n",
       "      <td>PhD</td>\n",
       "      <td>Asian Institute of Technology</td>\n",
       "      <td>Thailand</td>\n",
       "      <td>NaN</td>\n",
       "      <td>Information processing, Multimedia mining</td>\n",
       "      <td>NaN</td>\n",
       "    </tr>\n",
       "    <tr>\n",
       "      <th>3</th>\n",
       "      <td>6</td>\n",
       "      <td>7</td>\n",
       "      <td>Dr. Maheen Bakhtyar</td>\n",
       "      <td>University of Balochistan</td>\n",
       "      <td>Computer Science &amp; IT</td>\n",
       "      <td>Balochistan</td>\n",
       "      <td>Assistant Professor</td>\n",
       "      <td>PhD</td>\n",
       "      <td>Asian Institute of Technology</td>\n",
       "      <td>Thailand</td>\n",
       "      <td>NaN</td>\n",
       "      <td>NLP, Information Retrieval, Question Answering...</td>\n",
       "      <td>NaN</td>\n",
       "    </tr>\n",
       "    <tr>\n",
       "      <th>4</th>\n",
       "      <td>24</td>\n",
       "      <td>25</td>\n",
       "      <td>Samina Azim</td>\n",
       "      <td>Sardar Bahadur Khan Women's University</td>\n",
       "      <td>Computer Science</td>\n",
       "      <td>Balochistan</td>\n",
       "      <td>Lecturer</td>\n",
       "      <td>BS</td>\n",
       "      <td>Balochistan University of Information Technolo...</td>\n",
       "      <td>Pakistan</td>\n",
       "      <td>2005.0</td>\n",
       "      <td>VLSI Electronics DLD Database</td>\n",
       "      <td>NaN</td>\n",
       "    </tr>\n",
       "  </tbody>\n",
       "</table>\n",
       "</div>"
      ],
      "text/plain": [
       "   Unnamed: 0  S#         Teacher Name  \\\n",
       "0           2   3      Dr. Abdul Basit   \n",
       "1           4   5      Dr. Waheed Noor   \n",
       "2           5   6     Dr. Junaid Baber   \n",
       "3           6   7  Dr. Maheen Bakhtyar   \n",
       "4          24  25          Samina Azim   \n",
       "\n",
       "            University Currently Teaching             Department  \\\n",
       "0               University of Balochistan  Computer Science & IT   \n",
       "1               University of Balochistan  Computer Science & IT   \n",
       "2               University of Balochistan  Computer Science & IT   \n",
       "3               University of Balochistan  Computer Science & IT   \n",
       "4  Sardar Bahadur Khan Women's University       Computer Science   \n",
       "\n",
       "  Province University Located          Designation Terminal Degree  \\\n",
       "0                 Balochistan  Assistant Professor             PhD   \n",
       "1                 Balochistan  Assistant Professor             PhD   \n",
       "2                 Balochistan  Assistant Professor             PhD   \n",
       "3                 Balochistan  Assistant Professor             PhD   \n",
       "4                 Balochistan             Lecturer              BS   \n",
       "\n",
       "                                      Graduated from   Country    Year  \\\n",
       "0                      Asian Institute of Technology  Thailand     NaN   \n",
       "1                      Asian Institute of Technology  Thailand     NaN   \n",
       "2                      Asian Institute of Technology  Thailand     NaN   \n",
       "3                      Asian Institute of Technology  Thailand     NaN   \n",
       "4  Balochistan University of Information Technolo...  Pakistan  2005.0   \n",
       "\n",
       "           Area of Specialization/Research Interests Other Information  \n",
       "0                        Software Engineering & DBMS               NaN  \n",
       "1                                               DBMS               NaN  \n",
       "2          Information processing, Multimedia mining               NaN  \n",
       "3  NLP, Information Retrieval, Question Answering...               NaN  \n",
       "4                      VLSI Electronics DLD Database               NaN  "
      ]
     },
     "execution_count": 87,
     "metadata": {},
     "output_type": "execute_result"
    }
   ],
   "source": [
    "professors.head()"
   ]
  },
  {
   "cell_type": "code",
   "execution_count": 103,
   "id": "e5aa6d5f",
   "metadata": {},
   "outputs": [
    {
     "data": {
      "text/plain": [
       "array([' Germany', ' New Zealand', ' Sweden', ' USA', 'Australia',\n",
       "       'Austria', 'Canada', 'China', 'Finland', 'France', 'Greece',\n",
       "       'HongKong', 'Ireland', 'Italy', 'Japan', 'Macau', 'Malaysia',\n",
       "       'Mauritius', 'Netherland', 'New Zealand', 'Norway', 'Pakistan',\n",
       "       'Portugal', 'Russian Federation', 'Saudi Arabia', 'Scotland',\n",
       "       'Singapore', 'South Korea', 'SouthKorea', 'Spain', 'Sweden',\n",
       "       'Thailand', 'Turkey', 'UK', 'USA', 'USofA', 'Urbana', 'germany'],\n",
       "      dtype=object)"
      ]
     },
     "execution_count": 103,
     "metadata": {},
     "output_type": "execute_result"
    }
   ],
   "source": [
    "countries = professors.Country.unique()\n",
    "\n",
    "countries.sort()\n",
    "countries"
   ]
  },
  {
   "cell_type": "code",
   "execution_count": 104,
   "id": "c61079d1",
   "metadata": {},
   "outputs": [],
   "source": [
    "professors.Country = professors.Country.str.lower()\n",
    "professors.Country = professors.Country.str.strip()\n"
   ]
  },
  {
   "cell_type": "code",
   "execution_count": 105,
   "id": "da4cb195",
   "metadata": {},
   "outputs": [
    {
     "data": {
      "text/plain": [
       "array(['australia', 'austria', 'canada', 'china', 'finland', 'france',\n",
       "       'germany', 'greece', 'hongkong', 'ireland', 'italy', 'japan',\n",
       "       'macau', 'malaysia', 'mauritius', 'netherland', 'new zealand',\n",
       "       'norway', 'pakistan', 'portugal', 'russian federation',\n",
       "       'saudi arabia', 'scotland', 'singapore', 'south korea',\n",
       "       'southkorea', 'spain', 'sweden', 'thailand', 'turkey', 'uk',\n",
       "       'urbana', 'usa', 'usofa'], dtype=object)"
      ]
     },
     "execution_count": 105,
     "metadata": {},
     "output_type": "execute_result"
    }
   ],
   "source": [
    "countries = professors.Country.unique()\n",
    "\n",
    "countries.sort()\n",
    "countries"
   ]
  },
  {
   "cell_type": "code",
   "execution_count": 106,
   "metadata": {},
   "outputs": [
    {
     "data": {
      "text/plain": [
       "[('south korea', 100),\n",
       " ('southkorea', 48),\n",
       " ('saudi arabia', 43),\n",
       " ('norway', 35),\n",
       " ('ireland', 33),\n",
       " ('portugal', 32),\n",
       " ('singapore', 30),\n",
       " ('netherland', 29),\n",
       " ('macau', 25),\n",
       " ('usofa', 25)]"
      ]
     },
     "execution_count": 106,
     "metadata": {},
     "output_type": "execute_result"
    }
   ],
   "source": [
    "matches = fuzzywuzzy.process.extract(\"south korea\",\n",
    "                                     countries,\n",
    "                                     limit=10,\n",
    "                                     scorer=fuzzywuzzy.fuzz.token_sort_ratio)\n",
    "\n",
    "matches"
   ]
  },
  {
   "cell_type": "code",
   "execution_count": 107,
   "metadata": {},
   "outputs": [],
   "source": [
    "def replace_matches_in_column(df, column, str_to_match, min_ratio=47):\n",
    "    '''\n",
    "    Function that replace rows in provided column(s) of dataframe 'df'\n",
    "    that match the provided string 'str_to_match' avoce the provided ratio\n",
    "    'min_ratio' with provided string\n",
    "    Dependencies: pandas, fuzzywuzzy\n",
    "    ''' \n",
    "    strings = df[column].unique()\n",
    "    matches = fuzzywuzzy.process.extract(str_to_match, \n",
    "                                         strings, \n",
    "                                         limit=10, \n",
    "                                         scorer=fuzzywuzzy.fuzz.token_sort_ratio)\n",
    "    close_matches = [match[0] for match in matches \n",
    "                    if match[1] >= min_ratio]\n",
    "\n",
    "    rows_with_matches                 = df[column].isin(close_matches)\n",
    "    df.loc[rows_with_matches, column] = str_to_match\n",
    "    print(\"Match replacement complete\")\n",
    "    return\n"
   ]
  },
  {
   "cell_type": "code",
   "execution_count": 108,
   "id": "6e08d8ef",
   "metadata": {},
   "outputs": [
    {
     "name": "stdout",
     "output_type": "stream",
     "text": [
      "Match replacement complete\n"
     ]
    }
   ],
   "source": [
    "replace_matches_in_column(df=professors,\n",
    "                          column='Country',\n",
    "                          str_to_match='south korea')\n"
   ]
  },
  {
   "cell_type": "code",
   "execution_count": 109,
   "id": "6f92c39d",
   "metadata": {},
   "outputs": [
    {
     "data": {
      "text/plain": [
       "array(['australia', 'austria', 'canada', 'china', 'finland', 'france',\n",
       "       'germany', 'greece', 'hongkong', 'ireland', 'italy', 'japan',\n",
       "       'macau', 'malaysia', 'mauritius', 'netherland', 'new zealand',\n",
       "       'norway', 'pakistan', 'portugal', 'russian federation',\n",
       "       'saudi arabia', 'scotland', 'singapore', 'south korea', 'spain',\n",
       "       'sweden', 'thailand', 'turkey', 'uk', 'urbana', 'usa', 'usofa'],\n",
       "      dtype=object)"
      ]
     },
     "execution_count": 109,
     "metadata": {},
     "output_type": "execute_result"
    }
   ],
   "source": [
    "countries = professors.Country.unique()\n",
    "\n",
    "countries.sort()\n",
    "countries"
   ]
  },
  {
   "cell_type": "code",
   "execution_count": 110,
   "id": "728b5b7f",
   "metadata": {},
   "outputs": [],
   "source": [
    "professors.to_csv(datapath+'/pakistan_intellectual_capital_updated.csv')"
   ]
  },
  {
   "cell_type": "code",
   "execution_count": 111,
   "id": "83643170",
   "metadata": {},
   "outputs": [],
   "source": [
    "del professors, countries, matches"
   ]
  },
  {
   "cell_type": "markdown",
   "id": "11a344f5",
   "metadata": {},
   "source": [
    "---"
   ]
  },
  {
   "cell_type": "markdown",
   "id": "926ae47a",
   "metadata": {},
   "source": []
  }
 ],
 "metadata": {
  "kernelspec": {
   "display_name": "datasci",
   "language": "python",
   "name": "python3"
  },
  "language_info": {
   "codemirror_mode": {
    "name": "ipython",
    "version": 3
   },
   "file_extension": ".py",
   "mimetype": "text/x-python",
   "name": "python",
   "nbconvert_exporter": "python",
   "pygments_lexer": "ipython3",
   "version": "3.10.13"
  }
 },
 "nbformat": 4,
 "nbformat_minor": 5
}
