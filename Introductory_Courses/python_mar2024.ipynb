{
 "cells": [
  {
   "cell_type": "markdown",
   "metadata": {},
   "source": [
    "#### Introduction to Python Programming\n",
    "\n",
    "Kaggle course, March 2024"
   ]
  },
  {
   "cell_type": "code",
   "execution_count": 2,
   "metadata": {},
   "outputs": [
    {
     "name": "stdout",
     "output_type": "stream",
     "text": [
      "0\n",
      "But I don't want ANY spam\n",
      "Spam Spam Spam Spam \n"
     ]
    }
   ],
   "source": [
    "spam_amt = 0\n",
    "print(spam_amt)\n",
    "\n",
    "spam_amt = spam_amt + 4\n",
    "if spam_amt > 0:\n",
    "    print(\"But I don't want ANY spam\")\n",
    "\n",
    "viking_song = \"Spam \"*spam_amt\n",
    "print(viking_song)\n"
   ]
  },
  {
   "cell_type": "code",
   "execution_count": 3,
   "metadata": {},
   "outputs": [
    {
     "data": {
      "text/plain": [
       "int"
      ]
     },
     "execution_count": 3,
     "metadata": {},
     "output_type": "execute_result"
    }
   ],
   "source": [
    "type(spam_amt)"
   ]
  },
  {
   "cell_type": "code",
   "execution_count": 5,
   "metadata": {},
   "outputs": [
    {
     "name": "stdout",
     "output_type": "stream",
     "text": [
      "2.5\n",
      "3.0\n",
      "2\n",
      "1\n"
     ]
    }
   ],
   "source": [
    "print( 5/2 ) # true division\n",
    "print( 6/2 ) # true division\n",
    "\n",
    "# \"5 divided by 2\" can be 2.5, but it can also be 2 remainder 1\n",
    "print( 5//2 ) # FLOOR division, which simply provides rounded-down integer value\n",
    "print( 5%2 ) # MODULUS, or the numerical remainder during division\n"
   ]
  },
  {
   "cell_type": "code",
   "execution_count": 9,
   "metadata": {},
   "outputs": [
    {
     "name": "stdout",
     "output_type": "stream",
     "text": [
      "5\n",
      "0\n",
      "4.0\n",
      "4.0\n"
     ]
    }
   ],
   "source": [
    "# Python intuitively performs algebraic order of operations (PEMDAS)\n",
    "print( 6 - 3 + 2 )\n",
    "print( 6 - 3 * 2 )\n",
    "print( 6 / 3 + 2 )\n",
    "print( 6 / 3 + 2 * 1 )"
   ]
  },
  {
   "cell_type": "code",
   "execution_count": 11,
   "metadata": {},
   "outputs": [
    {
     "name": "stdout",
     "output_type": "stream",
     "text": [
      "Height in meters should not be 26.900000 m\n",
      "... it should be 2.150000 m.\n"
     ]
    }
   ],
   "source": [
    "hat_height_cm = 25\n",
    "my_height_cm  = 190\n",
    "\n",
    "total_height_m = hat_height_cm + my_height_cm / 100\n",
    "print(\"Height in meters should not be %f m\" % total_height_m)\n",
    "\n",
    "total_height_m = (hat_height_cm + my_height_cm) / 100\n",
    "print(\"... it should be %f m.\" % total_height_m)"
   ]
  },
  {
   "cell_type": "code",
   "execution_count": 12,
   "metadata": {},
   "outputs": [],
   "source": [
    "del spam_amt, viking_song, my_height_cm, hat_height_cm, total_height_m\n"
   ]
  },
  {
   "cell_type": "code",
   "execution_count": 14,
   "metadata": {},
   "outputs": [
    {
     "name": "stdout",
     "output_type": "stream",
     "text": [
      "Help on built-in function print in module builtins:\n",
      "\n",
      "print(...)\n",
      "    print(value, ..., sep=' ', end='\\n', file=sys.stdout, flush=False)\n",
      "    \n",
      "    Prints the values to a stream, or to sys.stdout by default.\n",
      "    Optional keyword arguments:\n",
      "    file:  a file-like object (stream); defaults to the current sys.stdout.\n",
      "    sep:   string inserted between values, default a space.\n",
      "    end:   string appended after the last value, default a newline.\n",
      "    flush: whether to forcibly flush the stream.\n",
      "\n"
     ]
    }
   ],
   "source": [
    "help(print)"
   ]
  },
  {
   "cell_type": "code",
   "execution_count": 27,
   "metadata": {},
   "outputs": [],
   "source": [
    "def least_difference(a, b, c):\n",
    "    '''\n",
    "    Return the smallest difference between any two numbers among provided list of values a, b, c.\n",
    "    Example:\n",
    "    >>> least_difference(1, 5, -5)\n",
    "    4\n",
    "    '''\n",
    "    diff1 = abs( a - b )\n",
    "    diff2 = abs( b - c )\n",
    "    diff3 = abs( a - c )\n",
    "    return min(diff1, diff2, diff3)\n"
   ]
  },
  {
   "cell_type": "code",
   "execution_count": 26,
   "metadata": {},
   "outputs": [],
   "source": [
    "least_difference(25, 35, 18)"
   ]
  },
  {
   "cell_type": "code",
   "execution_count": 24,
   "metadata": {},
   "outputs": [
    {
     "name": "stdout",
     "output_type": "stream",
     "text": [
      "Help on function least_difference in module __main__:\n",
      "\n",
      "least_difference(a, b, c)\n",
      "    Return the smallest difference between any two numbers among provided list of values a, b, c.\n",
      "    Example:\n",
      "    >>> least_difference(1, 5, -5)\n",
      "    4\n",
      "\n"
     ]
    }
   ],
   "source": [
    "help(least_difference)"
   ]
  },
  {
   "cell_type": "code",
   "execution_count": 36,
   "metadata": {},
   "outputs": [
    {
     "name": "stdout",
     "output_type": "stream",
     "text": [
      "\n",
      "None\n"
     ]
    }
   ],
   "source": [
    "mystery = print()\n",
    "print(mystery)\n",
    "\n",
    "del mystery"
   ]
  },
  {
   "cell_type": "code",
   "execution_count": 30,
   "metadata": {},
   "outputs": [
    {
     "name": "stdout",
     "output_type": "stream",
     "text": [
      "1<2<3\n",
      "1 < 2 < 3\n"
     ]
    }
   ],
   "source": [
    "print(1, 2, 3, sep=\"<\")\n",
    "\n",
    "print(1, 2, 3, sep=\" < \")\n"
   ]
  },
  {
   "cell_type": "code",
   "execution_count": 31,
   "metadata": {},
   "outputs": [
    {
     "name": "stdout",
     "output_type": "stream",
     "text": [
      "Hello,  Colin\n",
      "Hello,  Kaggle\n",
      "Hello,  Colin\n",
      "Hello,  World\n"
     ]
    }
   ],
   "source": [
    "def greet(who=\"Colin\"):\n",
    "    print(\"Hello, \", who)\n",
    "\n",
    "greet()\n",
    "greet(who=\"Kaggle\")\n",
    "greet()\n",
    "greet(\"World\")    "
   ]
  },
  {
   "cell_type": "code",
   "execution_count": 34,
   "metadata": {},
   "outputs": [
    {
     "name": "stdout",
     "output_type": "stream",
     "text": [
      "5\n",
      "25\n"
     ]
    }
   ],
   "source": [
    "def mult_by_five(x):\n",
    "    return 5*x\n",
    "\n",
    "def call(fxn, arg): # this is a Higher-order function b/c it operates on another function\n",
    "    return fxn(arg)\n",
    "\n",
    "def squared_call(fxn, arg): #another Higher-order function\n",
    "    return fxn( fxn(arg) )\n",
    "\n",
    "# --------------------------------------\n",
    "\n",
    "print(\n",
    "    call(mult_by_five, 1), \n",
    "    squared_call(mult_by_five, 1),\n",
    "    sep=\"\\n\",\n",
    "    )"
   ]
  },
  {
   "cell_type": "code",
   "execution_count": 35,
   "metadata": {},
   "outputs": [
    {
     "name": "stdout",
     "output_type": "stream",
     "text": [
      "Which number is biggest?\n",
      "100\n",
      "Which number is the biggest modulo 5?\n",
      "14\n"
     ]
    }
   ],
   "source": [
    "def mod_5(x):\n",
    "    '''\n",
    "    Return the remainer of x after dividing by 5\n",
    "    '''\n",
    "    return x % 5\n",
    "\n",
    "print(\n",
    "    \"Which number is biggest?\", \n",
    "    max(100, 51, 14),\n",
    "    \"Which number is the biggest modulo 5?\",\n",
    "    max(100, 51, 14, key=mod_5),\n",
    "    sep='\\n',\n",
    ")"
   ]
  },
  {
   "cell_type": "code",
   "execution_count": 38,
   "metadata": {},
   "outputs": [
    {
     "name": "stdout",
     "output_type": "stream",
     "text": [
      "True\n",
      "<class 'bool'>\n"
     ]
    }
   ],
   "source": [
    "x = True\n",
    "print(x)\n",
    "print(type(x))\n",
    "del x"
   ]
  },
  {
   "cell_type": "code",
   "execution_count": 39,
   "metadata": {},
   "outputs": [
    {
     "name": "stdout",
     "output_type": "stream",
     "text": [
      "Can a 19-year-old run for President? False\n",
      "Can a 45-year-old run for President? True\n"
     ]
    }
   ],
   "source": [
    "def can_run_for_president(age):\n",
    "    '''Can someone of a given age run for US President?\n",
    "    US Constitutional Requirement: At Least 35 years old.\n",
    "    '''\n",
    "    return age >= 35\n",
    "\n",
    "print(\"Can a 19-year-old run for President?\", can_run_for_president(19))\n",
    "print(\"Can a 45-year-old run for President?\", can_run_for_president(45))"
   ]
  },
  {
   "cell_type": "code",
   "execution_count": 42,
   "metadata": {},
   "outputs": [
    {
     "name": "stdout",
     "output_type": "stream",
     "text": [
      "Is 100 odd?   False\n",
      "Is 81 odd?   True\n"
     ]
    }
   ],
   "source": [
    "def is_odd(num):\n",
    "    '''Is the input value an odd number? If it is, then \"num\" modulo 2 would be 1.\n",
    "    '''\n",
    "    return (num % 2)==1\n",
    "\n",
    "print(\"Is 100 odd?  \", is_odd(100))\n",
    "print(\"Is 81 odd?  \", is_odd(81))"
   ]
  },
  {
   "cell_type": "code",
   "execution_count": 43,
   "metadata": {},
   "outputs": [
    {
     "name": "stdout",
     "output_type": "stream",
     "text": [
      "Can a 19-year-old from West Virginia run for President? False\n",
      "Can a 45-year-old who immigrated from the UK run for President? False\n",
      "Can a 56-year-old born to US citizens while abroad in Canada run for President? True\n"
     ]
    }
   ],
   "source": [
    "def can_run_for_president(age, is_natural_born_citizen):\n",
    "    '''Can someone of a given age run for US President?\n",
    "    US Constitutional Requirement: At Least 35 years old and a Natural-born citizan\n",
    "    '''\n",
    "    return is_natural_born_citizen and (age >= 35)\n",
    "\n",
    "print(\"Can a 19-year-old from West Virginia run for President?\", can_run_for_president(19, True))\n",
    "print(\"Can a 45-year-old who immigrated from the UK run for President?\", can_run_for_president(45, False))\n",
    "print(\"Can a 56-year-old born to US citizens while abroad in Canada run for President?\", can_run_for_president(56, True))"
   ]
  },
  {
   "cell_type": "code",
   "execution_count": 44,
   "metadata": {},
   "outputs": [
    {
     "data": {
      "text/plain": [
       "True"
      ]
     },
     "execution_count": 44,
     "metadata": {},
     "output_type": "execute_result"
    }
   ],
   "source": [
    "True or True and False"
   ]
  },
  {
   "cell_type": "code",
   "execution_count": 45,
   "metadata": {},
   "outputs": [
    {
     "data": {
      "text/plain": [
       "False"
      ]
     },
     "execution_count": 45,
     "metadata": {},
     "output_type": "execute_result"
    }
   ],
   "source": [
    "(True or True) and False"
   ]
  },
  {
   "cell_type": "code",
   "execution_count": 48,
   "metadata": {},
   "outputs": [
    {
     "ename": "NameError",
     "evalue": "name 'have_umbrella' is not defined",
     "output_type": "error",
     "traceback": [
      "\u001b[0;31m---------------------------------------------------------------------------\u001b[0m",
      "\u001b[0;31mNameError\u001b[0m                                 Traceback (most recent call last)",
      "Cell \u001b[0;32mIn[48], line 2\u001b[0m\n\u001b[1;32m      1\u001b[0m prepared_for_weather \u001b[38;5;241m=\u001b[39m (\n\u001b[0;32m----> 2\u001b[0m     \u001b[43mhave_umbrella\u001b[49m \n\u001b[1;32m      3\u001b[0m     \u001b[38;5;129;01mor\u001b[39;00m ( rain_level \u001b[38;5;241m<\u001b[39m \u001b[38;5;241m5\u001b[39m \u001b[38;5;129;01mand\u001b[39;00m have_hood ) \n\u001b[1;32m      4\u001b[0m     \u001b[38;5;129;01mor\u001b[39;00m \u001b[38;5;129;01mnot\u001b[39;00m ( rain_level \u001b[38;5;241m>\u001b[39m \u001b[38;5;241m0\u001b[39m \u001b[38;5;129;01mand\u001b[39;00m is_workday )\n\u001b[1;32m      5\u001b[0m )\n",
      "\u001b[0;31mNameError\u001b[0m: name 'have_umbrella' is not defined"
     ]
    }
   ],
   "source": [
    "prepared_for_weather = (\n",
    "    have_umbrella \n",
    "    or ( rain_level < 5 and have_hood ) \n",
    "    or not ( rain_level > 0 and is_workday )\n",
    ")"
   ]
  },
  {
   "cell_type": "code",
   "execution_count": null,
   "metadata": {},
   "outputs": [],
   "source": []
  }
 ],
 "metadata": {
  "kernelspec": {
   "display_name": "dnalab",
   "language": "python",
   "name": "python3"
  },
  "language_info": {
   "codemirror_mode": {
    "name": "ipython",
    "version": 3
   },
   "file_extension": ".py",
   "mimetype": "text/x-python",
   "name": "python",
   "nbconvert_exporter": "python",
   "pygments_lexer": "ipython3",
   "version": "3.10.13"
  }
 },
 "nbformat": 4,
 "nbformat_minor": 2
}
